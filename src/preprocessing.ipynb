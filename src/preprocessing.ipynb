{
 "cells": [
  {
   "cell_type": "code",
   "execution_count": 1,
   "metadata": {
    "_cell_guid": "b1076dfc-b9ad-4769-8c92-a6c4dae69d19",
    "_uuid": "8f2839f25d086af736a60e9eeb907d3b93b6e0e5",
    "execution": {
     "iopub.execute_input": "2025-04-19T06:50:24.529387Z",
     "iopub.status.busy": "2025-04-19T06:50:24.529075Z",
     "iopub.status.idle": "2025-04-19T06:50:25.85868Z",
     "shell.execute_reply": "2025-04-19T06:50:25.857721Z",
     "shell.execute_reply.started": "2025-04-19T06:50:24.529362Z"
    },
    "trusted": true
   },
   "outputs": [],
   "source": [
    "import numpy as np \n",
    "import pandas as pd\n",
    "import re\n",
    "import matplotlib.pyplot as plt\n",
    "import seaborn as sns"
   ]
  },
  {
   "cell_type": "markdown",
   "metadata": {},
   "source": [
    "### Overview about data"
   ]
  },
  {
   "cell_type": "code",
   "execution_count": 4,
   "metadata": {
    "execution": {
     "iopub.execute_input": "2025-04-18T14:32:03.297821Z",
     "iopub.status.busy": "2025-04-18T14:32:03.297468Z",
     "iopub.status.idle": "2025-04-18T14:32:04.755189Z",
     "shell.execute_reply": "2025-04-18T14:32:04.754374Z",
     "shell.execute_reply.started": "2025-04-18T14:32:03.297787Z"
    },
    "trusted": true
   },
   "outputs": [],
   "source": [
    "df_train = pd.read_csv('../data/raw_data.csv', low_memory=False)"
   ]
  },
  {
   "cell_type": "code",
   "execution_count": 5,
   "metadata": {
    "execution": {
     "iopub.execute_input": "2025-04-18T14:32:04.938235Z",
     "iopub.status.busy": "2025-04-18T14:32:04.937963Z",
     "iopub.status.idle": "2025-04-18T14:32:05.419898Z",
     "shell.execute_reply": "2025-04-18T14:32:05.419141Z",
     "shell.execute_reply.started": "2025-04-18T14:32:04.938204Z"
    },
    "trusted": true
   },
   "outputs": [
    {
     "data": {
      "text/html": [
       "<div>\n",
       "<style scoped>\n",
       "    .dataframe tbody tr th:only-of-type {\n",
       "        vertical-align: middle;\n",
       "    }\n",
       "\n",
       "    .dataframe tbody tr th {\n",
       "        vertical-align: top;\n",
       "    }\n",
       "\n",
       "    .dataframe thead th {\n",
       "        text-align: right;\n",
       "    }\n",
       "</style>\n",
       "<table border=\"1\" class=\"dataframe\">\n",
       "  <thead>\n",
       "    <tr style=\"text-align: right;\">\n",
       "      <th></th>\n",
       "      <th>count</th>\n",
       "      <th>unique</th>\n",
       "      <th>top</th>\n",
       "      <th>freq</th>\n",
       "    </tr>\n",
       "  </thead>\n",
       "  <tbody>\n",
       "    <tr>\n",
       "      <th>ID</th>\n",
       "      <td>100000</td>\n",
       "      <td>100000</td>\n",
       "      <td>0x25fd5</td>\n",
       "      <td>1</td>\n",
       "    </tr>\n",
       "    <tr>\n",
       "      <th>Customer_ID</th>\n",
       "      <td>100000</td>\n",
       "      <td>12500</td>\n",
       "      <td>CUS_0x942c</td>\n",
       "      <td>8</td>\n",
       "    </tr>\n",
       "    <tr>\n",
       "      <th>Month</th>\n",
       "      <td>100000</td>\n",
       "      <td>8</td>\n",
       "      <td>January</td>\n",
       "      <td>12500</td>\n",
       "    </tr>\n",
       "    <tr>\n",
       "      <th>Name</th>\n",
       "      <td>90015</td>\n",
       "      <td>10139</td>\n",
       "      <td>Stevex</td>\n",
       "      <td>44</td>\n",
       "    </tr>\n",
       "    <tr>\n",
       "      <th>Age</th>\n",
       "      <td>100000</td>\n",
       "      <td>1788</td>\n",
       "      <td>38</td>\n",
       "      <td>2833</td>\n",
       "    </tr>\n",
       "    <tr>\n",
       "      <th>SSN</th>\n",
       "      <td>100000</td>\n",
       "      <td>12501</td>\n",
       "      <td>#F%$D@*&amp;8</td>\n",
       "      <td>5572</td>\n",
       "    </tr>\n",
       "    <tr>\n",
       "      <th>Occupation</th>\n",
       "      <td>100000</td>\n",
       "      <td>16</td>\n",
       "      <td>_______</td>\n",
       "      <td>7062</td>\n",
       "    </tr>\n",
       "    <tr>\n",
       "      <th>Annual_Income</th>\n",
       "      <td>100000</td>\n",
       "      <td>18940</td>\n",
       "      <td>36585.12</td>\n",
       "      <td>16</td>\n",
       "    </tr>\n",
       "    <tr>\n",
       "      <th>Num_of_Loan</th>\n",
       "      <td>100000</td>\n",
       "      <td>434</td>\n",
       "      <td>3</td>\n",
       "      <td>14386</td>\n",
       "    </tr>\n",
       "    <tr>\n",
       "      <th>Type_of_Loan</th>\n",
       "      <td>88592</td>\n",
       "      <td>6260</td>\n",
       "      <td>Not Specified</td>\n",
       "      <td>1408</td>\n",
       "    </tr>\n",
       "    <tr>\n",
       "      <th>Num_of_Delayed_Payment</th>\n",
       "      <td>92998</td>\n",
       "      <td>749</td>\n",
       "      <td>19</td>\n",
       "      <td>5327</td>\n",
       "    </tr>\n",
       "    <tr>\n",
       "      <th>Changed_Credit_Limit</th>\n",
       "      <td>100000</td>\n",
       "      <td>4384</td>\n",
       "      <td>_</td>\n",
       "      <td>2091</td>\n",
       "    </tr>\n",
       "    <tr>\n",
       "      <th>Credit_Mix</th>\n",
       "      <td>100000</td>\n",
       "      <td>4</td>\n",
       "      <td>Standard</td>\n",
       "      <td>36479</td>\n",
       "    </tr>\n",
       "    <tr>\n",
       "      <th>Outstanding_Debt</th>\n",
       "      <td>100000</td>\n",
       "      <td>13178</td>\n",
       "      <td>1360.45</td>\n",
       "      <td>24</td>\n",
       "    </tr>\n",
       "    <tr>\n",
       "      <th>Credit_History_Age</th>\n",
       "      <td>90970</td>\n",
       "      <td>404</td>\n",
       "      <td>15 Years and 11 Months</td>\n",
       "      <td>446</td>\n",
       "    </tr>\n",
       "    <tr>\n",
       "      <th>Payment_of_Min_Amount</th>\n",
       "      <td>100000</td>\n",
       "      <td>3</td>\n",
       "      <td>Yes</td>\n",
       "      <td>52326</td>\n",
       "    </tr>\n",
       "    <tr>\n",
       "      <th>Amount_invested_monthly</th>\n",
       "      <td>95521</td>\n",
       "      <td>91049</td>\n",
       "      <td>__10000__</td>\n",
       "      <td>4305</td>\n",
       "    </tr>\n",
       "    <tr>\n",
       "      <th>Payment_Behaviour</th>\n",
       "      <td>100000</td>\n",
       "      <td>7</td>\n",
       "      <td>Low_spent_Small_value_payments</td>\n",
       "      <td>25513</td>\n",
       "    </tr>\n",
       "    <tr>\n",
       "      <th>Monthly_Balance</th>\n",
       "      <td>98800</td>\n",
       "      <td>98792</td>\n",
       "      <td>__-333333333333333333333333333__</td>\n",
       "      <td>9</td>\n",
       "    </tr>\n",
       "    <tr>\n",
       "      <th>Credit_Score</th>\n",
       "      <td>100000</td>\n",
       "      <td>3</td>\n",
       "      <td>Standard</td>\n",
       "      <td>53174</td>\n",
       "    </tr>\n",
       "  </tbody>\n",
       "</table>\n",
       "</div>"
      ],
      "text/plain": [
       "                          count  unique                               top  \\\n",
       "ID                       100000  100000                           0x25fd5   \n",
       "Customer_ID              100000   12500                        CUS_0x942c   \n",
       "Month                    100000       8                           January   \n",
       "Name                      90015   10139                            Stevex   \n",
       "Age                      100000    1788                                38   \n",
       "SSN                      100000   12501                         #F%$D@*&8   \n",
       "Occupation               100000      16                           _______   \n",
       "Annual_Income            100000   18940                          36585.12   \n",
       "Num_of_Loan              100000     434                                 3   \n",
       "Type_of_Loan              88592    6260                     Not Specified   \n",
       "Num_of_Delayed_Payment    92998     749                                19   \n",
       "Changed_Credit_Limit     100000    4384                                 _   \n",
       "Credit_Mix               100000       4                          Standard   \n",
       "Outstanding_Debt         100000   13178                           1360.45   \n",
       "Credit_History_Age        90970     404            15 Years and 11 Months   \n",
       "Payment_of_Min_Amount    100000       3                               Yes   \n",
       "Amount_invested_monthly   95521   91049                         __10000__   \n",
       "Payment_Behaviour        100000       7    Low_spent_Small_value_payments   \n",
       "Monthly_Balance           98800   98792  __-333333333333333333333333333__   \n",
       "Credit_Score             100000       3                          Standard   \n",
       "\n",
       "                          freq  \n",
       "ID                           1  \n",
       "Customer_ID                  8  \n",
       "Month                    12500  \n",
       "Name                        44  \n",
       "Age                       2833  \n",
       "SSN                       5572  \n",
       "Occupation                7062  \n",
       "Annual_Income               16  \n",
       "Num_of_Loan              14386  \n",
       "Type_of_Loan              1408  \n",
       "Num_of_Delayed_Payment    5327  \n",
       "Changed_Credit_Limit      2091  \n",
       "Credit_Mix               36479  \n",
       "Outstanding_Debt            24  \n",
       "Credit_History_Age         446  \n",
       "Payment_of_Min_Amount    52326  \n",
       "Amount_invested_monthly   4305  \n",
       "Payment_Behaviour        25513  \n",
       "Monthly_Balance              9  \n",
       "Credit_Score             53174  "
      ]
     },
     "execution_count": 5,
     "metadata": {},
     "output_type": "execute_result"
    }
   ],
   "source": [
    "df_train.describe(include='object').T"
   ]
  },
  {
   "cell_type": "code",
   "execution_count": 7,
   "metadata": {
    "execution": {
     "iopub.execute_input": "2025-04-18T14:32:05.421017Z",
     "iopub.status.busy": "2025-04-18T14:32:05.420753Z",
     "iopub.status.idle": "2025-04-18T14:32:05.628325Z",
     "shell.execute_reply": "2025-04-18T14:32:05.627549Z",
     "shell.execute_reply.started": "2025-04-18T14:32:05.420981Z"
    },
    "trusted": true
   },
   "outputs": [
    {
     "data": {
      "text/plain": [
       "np.int64(0)"
      ]
     },
     "execution_count": 7,
     "metadata": {},
     "output_type": "execute_result"
    }
   ],
   "source": [
    "df_train.duplicated().sum()"
   ]
  },
  {
   "cell_type": "code",
   "execution_count": 8,
   "metadata": {
    "execution": {
     "iopub.execute_input": "2025-04-18T14:32:05.629373Z",
     "iopub.status.busy": "2025-04-18T14:32:05.629121Z",
     "iopub.status.idle": "2025-04-18T14:32:05.738781Z",
     "shell.execute_reply": "2025-04-18T14:32:05.738037Z",
     "shell.execute_reply.started": "2025-04-18T14:32:05.629355Z"
    },
    "trusted": true
   },
   "outputs": [
    {
     "data": {
      "text/plain": [
       "ID                              0\n",
       "Customer_ID                     0\n",
       "Month                           0\n",
       "Name                         9985\n",
       "Age                             0\n",
       "SSN                             0\n",
       "Occupation                      0\n",
       "Annual_Income                   0\n",
       "Monthly_Inhand_Salary       15002\n",
       "Num_Bank_Accounts               0\n",
       "Num_Credit_Card                 0\n",
       "Interest_Rate                   0\n",
       "Num_of_Loan                     0\n",
       "Type_of_Loan                11408\n",
       "Delay_from_due_date             0\n",
       "Num_of_Delayed_Payment       7002\n",
       "Changed_Credit_Limit            0\n",
       "Num_Credit_Inquiries         1965\n",
       "Credit_Mix                      0\n",
       "Outstanding_Debt                0\n",
       "Credit_Utilization_Ratio        0\n",
       "Credit_History_Age           9030\n",
       "Payment_of_Min_Amount           0\n",
       "Total_EMI_per_month             0\n",
       "Amount_invested_monthly      4479\n",
       "Payment_Behaviour               0\n",
       "Monthly_Balance              1200\n",
       "Credit_Score                    0\n",
       "dtype: int64"
      ]
     },
     "execution_count": 8,
     "metadata": {},
     "output_type": "execute_result"
    }
   ],
   "source": [
    "df_train.isna().sum()"
   ]
  },
  {
   "cell_type": "code",
   "execution_count": 9,
   "metadata": {
    "execution": {
     "iopub.execute_input": "2025-04-18T14:32:05.739799Z",
     "iopub.status.busy": "2025-04-18T14:32:05.739561Z",
     "iopub.status.idle": "2025-04-18T14:32:05.861385Z",
     "shell.execute_reply": "2025-04-18T14:32:05.860422Z",
     "shell.execute_reply.started": "2025-04-18T14:32:05.739781Z"
    },
    "trusted": true
   },
   "outputs": [
    {
     "data": {
      "text/plain": [
       "np.int64(5)"
      ]
     },
     "execution_count": 9,
     "metadata": {},
     "output_type": "execute_result"
    }
   ],
   "source": [
    "df_train.isna().sum(axis=1).max()"
   ]
  },
  {
   "cell_type": "code",
   "execution_count": 10,
   "metadata": {
    "execution": {
     "iopub.execute_input": "2025-04-18T14:32:05.864506Z",
     "iopub.status.busy": "2025-04-18T14:32:05.864247Z",
     "iopub.status.idle": "2025-04-18T14:32:05.999034Z",
     "shell.execute_reply": "2025-04-18T14:32:05.998193Z",
     "shell.execute_reply.started": "2025-04-18T14:32:05.864484Z"
    },
    "trusted": true
   },
   "outputs": [
    {
     "data": {
      "text/html": [
       "<div>\n",
       "<style scoped>\n",
       "    .dataframe tbody tr th:only-of-type {\n",
       "        vertical-align: middle;\n",
       "    }\n",
       "\n",
       "    .dataframe tbody tr th {\n",
       "        vertical-align: top;\n",
       "    }\n",
       "\n",
       "    .dataframe thead th {\n",
       "        text-align: right;\n",
       "    }\n",
       "</style>\n",
       "<table border=\"1\" class=\"dataframe\">\n",
       "  <thead>\n",
       "    <tr style=\"text-align: right;\">\n",
       "      <th></th>\n",
       "      <th>ID</th>\n",
       "      <th>Customer_ID</th>\n",
       "      <th>Month</th>\n",
       "      <th>Name</th>\n",
       "      <th>Age</th>\n",
       "      <th>SSN</th>\n",
       "      <th>Occupation</th>\n",
       "      <th>Annual_Income</th>\n",
       "      <th>Monthly_Inhand_Salary</th>\n",
       "      <th>Num_Bank_Accounts</th>\n",
       "      <th>...</th>\n",
       "      <th>Credit_Mix</th>\n",
       "      <th>Outstanding_Debt</th>\n",
       "      <th>Credit_Utilization_Ratio</th>\n",
       "      <th>Credit_History_Age</th>\n",
       "      <th>Payment_of_Min_Amount</th>\n",
       "      <th>Total_EMI_per_month</th>\n",
       "      <th>Amount_invested_monthly</th>\n",
       "      <th>Payment_Behaviour</th>\n",
       "      <th>Monthly_Balance</th>\n",
       "      <th>Credit_Score</th>\n",
       "    </tr>\n",
       "  </thead>\n",
       "  <tbody>\n",
       "    <tr>\n",
       "      <th>896</th>\n",
       "      <td>0x1b42</td>\n",
       "      <td>CUS_0x365a</td>\n",
       "      <td>January</td>\n",
       "      <td>NaN</td>\n",
       "      <td>54</td>\n",
       "      <td>026-57-5729</td>\n",
       "      <td>Scientist</td>\n",
       "      <td>41345.58</td>\n",
       "      <td>NaN</td>\n",
       "      <td>0</td>\n",
       "      <td>...</td>\n",
       "      <td>_</td>\n",
       "      <td>646.47</td>\n",
       "      <td>23.041951</td>\n",
       "      <td>NaN</td>\n",
       "      <td>No</td>\n",
       "      <td>0.0</td>\n",
       "      <td>NaN</td>\n",
       "      <td>Low_spent_Small_value_payments</td>\n",
       "      <td>187.93428046477558</td>\n",
       "      <td>Standard</td>\n",
       "    </tr>\n",
       "    <tr>\n",
       "      <th>4490</th>\n",
       "      <td>0x3050</td>\n",
       "      <td>CUS_0x3019</td>\n",
       "      <td>March</td>\n",
       "      <td>NaN</td>\n",
       "      <td>51</td>\n",
       "      <td>346-10-4963</td>\n",
       "      <td>Writer</td>\n",
       "      <td>99007.68</td>\n",
       "      <td>8223.64</td>\n",
       "      <td>7</td>\n",
       "      <td>...</td>\n",
       "      <td>_</td>\n",
       "      <td>31.89</td>\n",
       "      <td>26.221277</td>\n",
       "      <td>NaN</td>\n",
       "      <td>No</td>\n",
       "      <td>0.0</td>\n",
       "      <td>NaN</td>\n",
       "      <td>High_spent_Small_value_payments</td>\n",
       "      <td>750.5733017643256</td>\n",
       "      <td>Good</td>\n",
       "    </tr>\n",
       "    <tr>\n",
       "      <th>7012</th>\n",
       "      <td>0x3f16</td>\n",
       "      <td>CUS_0x6171</td>\n",
       "      <td>May</td>\n",
       "      <td>NaN</td>\n",
       "      <td>52</td>\n",
       "      <td>584-89-4764</td>\n",
       "      <td>_______</td>\n",
       "      <td>149168.88</td>\n",
       "      <td>NaN</td>\n",
       "      <td>3</td>\n",
       "      <td>...</td>\n",
       "      <td>Good</td>\n",
       "      <td>903.48</td>\n",
       "      <td>43.610090</td>\n",
       "      <td>NaN</td>\n",
       "      <td>No</td>\n",
       "      <td>0.0</td>\n",
       "      <td>NaN</td>\n",
       "      <td>High_spent_Small_value_payments</td>\n",
       "      <td>1239.9888997857151</td>\n",
       "      <td>Good</td>\n",
       "    </tr>\n",
       "    <tr>\n",
       "      <th>56818</th>\n",
       "      <td>0x162ec</td>\n",
       "      <td>CUS_0x9ee4</td>\n",
       "      <td>March</td>\n",
       "      <td>NaN</td>\n",
       "      <td>7919</td>\n",
       "      <td>425-72-7007</td>\n",
       "      <td>Manager</td>\n",
       "      <td>102745.4</td>\n",
       "      <td>NaN</td>\n",
       "      <td>4</td>\n",
       "      <td>...</td>\n",
       "      <td>_</td>\n",
       "      <td>465.88</td>\n",
       "      <td>31.721489</td>\n",
       "      <td>NaN</td>\n",
       "      <td>No</td>\n",
       "      <td>0.0</td>\n",
       "      <td>NaN</td>\n",
       "      <td>High_spent_Large_value_payments</td>\n",
       "      <td>1036.0588129965113</td>\n",
       "      <td>Good</td>\n",
       "    </tr>\n",
       "    <tr>\n",
       "      <th>69031</th>\n",
       "      <td>0x1aa79</td>\n",
       "      <td>CUS_0x4eae</td>\n",
       "      <td>August</td>\n",
       "      <td>NaN</td>\n",
       "      <td>37</td>\n",
       "      <td>#F%$D@*&amp;8</td>\n",
       "      <td>_______</td>\n",
       "      <td>44968.15</td>\n",
       "      <td>NaN</td>\n",
       "      <td>1</td>\n",
       "      <td>...</td>\n",
       "      <td>Good</td>\n",
       "      <td>871.85</td>\n",
       "      <td>34.451661</td>\n",
       "      <td>NaN</td>\n",
       "      <td>No</td>\n",
       "      <td>0.0</td>\n",
       "      <td>86.31346044034277</td>\n",
       "      <td>High_spent_Large_value_payments</td>\n",
       "      <td>506.52112289299055</td>\n",
       "      <td>Good</td>\n",
       "    </tr>\n",
       "    <tr>\n",
       "      <th>76326</th>\n",
       "      <td>0x1d538</td>\n",
       "      <td>CUS_0xa2ca</td>\n",
       "      <td>July</td>\n",
       "      <td>NaN</td>\n",
       "      <td>37</td>\n",
       "      <td>225-27-1573</td>\n",
       "      <td>Developer</td>\n",
       "      <td>37475.07</td>\n",
       "      <td>NaN</td>\n",
       "      <td>3</td>\n",
       "      <td>...</td>\n",
       "      <td>Good</td>\n",
       "      <td>437.45_</td>\n",
       "      <td>26.222415</td>\n",
       "      <td>NaN</td>\n",
       "      <td>No</td>\n",
       "      <td>0.0</td>\n",
       "      <td>42.17219171407305</td>\n",
       "      <td>High_spent_Large_value_payments</td>\n",
       "      <td>505.220058285927</td>\n",
       "      <td>Good</td>\n",
       "    </tr>\n",
       "    <tr>\n",
       "      <th>92669</th>\n",
       "      <td>0x234fb</td>\n",
       "      <td>CUS_0x4203</td>\n",
       "      <td>June</td>\n",
       "      <td>NaN</td>\n",
       "      <td>42</td>\n",
       "      <td>857-44-8236</td>\n",
       "      <td>Musician</td>\n",
       "      <td>39649.74</td>\n",
       "      <td>NaN</td>\n",
       "      <td>5</td>\n",
       "      <td>...</td>\n",
       "      <td>Good</td>\n",
       "      <td>1338.65</td>\n",
       "      <td>40.444954</td>\n",
       "      <td>NaN</td>\n",
       "      <td>No</td>\n",
       "      <td>0.0</td>\n",
       "      <td>401.81986192160866</td>\n",
       "      <td>Low_spent_Small_value_payments</td>\n",
       "      <td>195.99463807839143</td>\n",
       "      <td>Standard</td>\n",
       "    </tr>\n",
       "  </tbody>\n",
       "</table>\n",
       "<p>7 rows × 28 columns</p>\n",
       "</div>"
      ],
      "text/plain": [
       "            ID Customer_ID    Month Name   Age          SSN Occupation  \\\n",
       "896     0x1b42  CUS_0x365a  January  NaN    54  026-57-5729  Scientist   \n",
       "4490    0x3050  CUS_0x3019    March  NaN    51  346-10-4963     Writer   \n",
       "7012    0x3f16  CUS_0x6171      May  NaN    52  584-89-4764    _______   \n",
       "56818  0x162ec  CUS_0x9ee4    March  NaN  7919  425-72-7007    Manager   \n",
       "69031  0x1aa79  CUS_0x4eae   August  NaN    37    #F%$D@*&8    _______   \n",
       "76326  0x1d538  CUS_0xa2ca     July  NaN    37  225-27-1573  Developer   \n",
       "92669  0x234fb  CUS_0x4203     June  NaN    42  857-44-8236   Musician   \n",
       "\n",
       "      Annual_Income  Monthly_Inhand_Salary  Num_Bank_Accounts  ...  \\\n",
       "896        41345.58                    NaN                  0  ...   \n",
       "4490       99007.68                8223.64                  7  ...   \n",
       "7012      149168.88                    NaN                  3  ...   \n",
       "56818      102745.4                    NaN                  4  ...   \n",
       "69031      44968.15                    NaN                  1  ...   \n",
       "76326      37475.07                    NaN                  3  ...   \n",
       "92669      39649.74                    NaN                  5  ...   \n",
       "\n",
       "       Credit_Mix  Outstanding_Debt Credit_Utilization_Ratio  \\\n",
       "896             _            646.47                23.041951   \n",
       "4490            _             31.89                26.221277   \n",
       "7012         Good            903.48                43.610090   \n",
       "56818           _            465.88                31.721489   \n",
       "69031        Good            871.85                34.451661   \n",
       "76326        Good           437.45_                26.222415   \n",
       "92669        Good           1338.65                40.444954   \n",
       "\n",
       "      Credit_History_Age  Payment_of_Min_Amount Total_EMI_per_month  \\\n",
       "896                  NaN                     No                 0.0   \n",
       "4490                 NaN                     No                 0.0   \n",
       "7012                 NaN                     No                 0.0   \n",
       "56818                NaN                     No                 0.0   \n",
       "69031                NaN                     No                 0.0   \n",
       "76326                NaN                     No                 0.0   \n",
       "92669                NaN                     No                 0.0   \n",
       "\n",
       "      Amount_invested_monthly                Payment_Behaviour  \\\n",
       "896                       NaN   Low_spent_Small_value_payments   \n",
       "4490                      NaN  High_spent_Small_value_payments   \n",
       "7012                      NaN  High_spent_Small_value_payments   \n",
       "56818                     NaN  High_spent_Large_value_payments   \n",
       "69031       86.31346044034277  High_spent_Large_value_payments   \n",
       "76326       42.17219171407305  High_spent_Large_value_payments   \n",
       "92669      401.81986192160866   Low_spent_Small_value_payments   \n",
       "\n",
       "          Monthly_Balance Credit_Score  \n",
       "896    187.93428046477558     Standard  \n",
       "4490    750.5733017643256         Good  \n",
       "7012   1239.9888997857151         Good  \n",
       "56818  1036.0588129965113         Good  \n",
       "69031  506.52112289299055         Good  \n",
       "76326    505.220058285927         Good  \n",
       "92669  195.99463807839143     Standard  \n",
       "\n",
       "[7 rows x 28 columns]"
      ]
     },
     "execution_count": 10,
     "metadata": {},
     "output_type": "execute_result"
    }
   ],
   "source": [
    "df_train[df_train.isna().sum(axis=1)==5]"
   ]
  },
  {
   "cell_type": "markdown",
   "metadata": {},
   "source": [
    "Có nhiều nhất 5 cột chứa NaN trên 1 dòng, mà các dòng này có Customer_ID khác nhau nên có thể fillable"
   ]
  },
  {
   "cell_type": "code",
   "execution_count": 11,
   "metadata": {
    "execution": {
     "iopub.execute_input": "2025-04-18T14:32:06.000108Z",
     "iopub.status.busy": "2025-04-18T14:32:05.999885Z",
     "iopub.status.idle": "2025-04-18T14:32:06.00631Z",
     "shell.execute_reply": "2025-04-18T14:32:06.0054Z",
     "shell.execute_reply.started": "2025-04-18T14:32:06.00009Z"
    },
    "trusted": true
   },
   "outputs": [
    {
     "data": {
      "text/plain": [
       "Index(['ID', 'Customer_ID', 'Month', 'Name', 'Age', 'SSN', 'Occupation',\n",
       "       'Annual_Income', 'Monthly_Inhand_Salary', 'Num_Bank_Accounts',\n",
       "       'Num_Credit_Card', 'Interest_Rate', 'Num_of_Loan', 'Type_of_Loan',\n",
       "       'Delay_from_due_date', 'Num_of_Delayed_Payment', 'Changed_Credit_Limit',\n",
       "       'Num_Credit_Inquiries', 'Credit_Mix', 'Outstanding_Debt',\n",
       "       'Credit_Utilization_Ratio', 'Credit_History_Age',\n",
       "       'Payment_of_Min_Amount', 'Total_EMI_per_month',\n",
       "       'Amount_invested_monthly', 'Payment_Behaviour', 'Monthly_Balance',\n",
       "       'Credit_Score'],\n",
       "      dtype='object')"
      ]
     },
     "execution_count": 11,
     "metadata": {},
     "output_type": "execute_result"
    }
   ],
   "source": [
    "df_train.columns"
   ]
  },
  {
   "cell_type": "markdown",
   "metadata": {},
   "source": [
    "| No | INPUTS                  | Mô tả                                                                 |\n",
    "|:----|:------------------------|:----------------------------------------------------------------------|\n",
    "| 1  | id                      | Mã định danh duy nhất cho mỗi bản ghi.                                |\n",
    "| 2  | customer_id             | Mã định danh duy nhất cho mỗi khách hàng.                             |\n",
    "| 3  | month                   | Tháng phát sinh giao dịch hoặc bản ghi.                                |\n",
    "| 4  | name                    | Tên của khách hàng.                                                   |\n",
    "| 5  | age                     | Tuổi của khách hàng.                                                  |\n",
    "| 6  | ssn                     | Số an sinh xã hội của khách hàng.                                      |\n",
    "| 7  | occupation              | Nghề nghiệp của khách hàng.                                           |\n",
    "| 8  | annual_income           | Thu nhập hàng năm của khách hàng.                                      |\n",
    "| 9  | monthly_inhand_salary   | Lương thực nhận hàng tháng của khách hàng.                             |\n",
    "| 10 | num_bank_accounts       | Tổng số tài khoản ngân hàng mà khách hàng sở hữu.                      |\n",
    "| 11 | num_credit_card         | Tổng số thẻ tín dụng mà khách hàng có.                                |\n",
    "| 12 | interest_rate           | Lãi suất áp dụng cho các khoản vay hoặc tín dụng.                      |\n",
    "| 13 | num_of_loan             | Số lượng khoản vay mà khách hàng đã vay.                              |\n",
    "| 14 | type_of_loan            | Các loại khoản vay mà khách hàng đã vay.                              |\n",
    "| 15 | delay_from_due_date     | Số ngày trễ hạn thanh toán so với ngày đến hạn.                       |\n",
    "| 16 | num_of_delayed_payment  | Tổng số lần khách hàng thanh toán trễ hạn.                            |\n",
    "| 17 | changed_credit_limit    | Số lần điều chỉnh hạn mức tín dụng của khách hàng.                    |\n",
    "| 18 | num_credit_inquiries    | Số lần tra cứu thông tin tín dụng của khách hàng.                     |\n",
    "| 19 | credit_mix              | Sự đa dạng các loại tín dụng mà khách hàng đang sử dụng (vay, thẻ tín dụng).|\n",
    "| 20 | outstanding_debt        | Tổng số nợ mà khách hàng hiện đang nợ.                                |\n",
    "| 21 | credit_utilization_ratio| Tỷ lệ sử dụng tín dụng so với hạn mức tín dụng hiện có.               |\n",
    "| 22 | credit_history_age      | Thời gian lịch sử tín dụng của khách hàng.                            |\n",
    "| 23 | payment_of_min_amount   | Khách hàng có thanh toán số tiền tối thiểu hàng tháng hay không.       |\n",
    "| 24 | total_emi_per_month     | Tổng số tiền trả góp hàng tháng (EMI) mà khách hàng phải trả.          |\n",
    "| 25 | amount_invested_monthly | Số tiền đầu tư hàng tháng của khách hàng.                             |\n",
    "| 26 | payment_behaviour       | Thói quen và hành vi thanh toán của khách hàng.                        |\n",
    "| 27 | monthly_balance         | Số dư còn lại trong tài khoản của khách hàng vào cuối mỗi tháng.       |\n",
    "| 28 | credit_score            | Điểm tín dụng của khách hàng (biến mục tiêu: \"Good,\" \"Poor,\" \"Standard\").|\n"
   ]
  },
  {
   "cell_type": "markdown",
   "metadata": {},
   "source": [
    "### Preprocessing"
   ]
  },
  {
   "cell_type": "markdown",
   "metadata": {},
   "source": [
    "#### Df1"
   ]
  },
  {
   "cell_type": "code",
   "execution_count": 12,
   "metadata": {
    "execution": {
     "iopub.execute_input": "2025-04-18T14:32:06.007673Z",
     "iopub.status.busy": "2025-04-18T14:32:06.007342Z",
     "iopub.status.idle": "2025-04-18T14:32:06.513143Z",
     "shell.execute_reply": "2025-04-18T14:32:06.51235Z",
     "shell.execute_reply.started": "2025-04-18T14:32:06.007643Z"
    },
    "trusted": true
   },
   "outputs": [
    {
     "data": {
      "text/html": [
       "<div>\n",
       "<style scoped>\n",
       "    .dataframe tbody tr th:only-of-type {\n",
       "        vertical-align: middle;\n",
       "    }\n",
       "\n",
       "    .dataframe tbody tr th {\n",
       "        vertical-align: top;\n",
       "    }\n",
       "\n",
       "    .dataframe thead th {\n",
       "        text-align: right;\n",
       "    }\n",
       "</style>\n",
       "<table border=\"1\" class=\"dataframe\">\n",
       "  <thead>\n",
       "    <tr style=\"text-align: right;\">\n",
       "      <th></th>\n",
       "      <th>ID</th>\n",
       "      <th>Customer_ID</th>\n",
       "      <th>Month</th>\n",
       "      <th>Name</th>\n",
       "      <th>Age</th>\n",
       "      <th>SSN</th>\n",
       "      <th>Occupation</th>\n",
       "      <th>Annual_Income</th>\n",
       "      <th>Monthly_Inhand_Salary</th>\n",
       "      <th>Credit_History_Age</th>\n",
       "      <th>Total_EMI_per_month</th>\n",
       "    </tr>\n",
       "  </thead>\n",
       "  <tbody>\n",
       "    <tr>\n",
       "      <th>0</th>\n",
       "      <td>0x1602</td>\n",
       "      <td>CUS_0xd40</td>\n",
       "      <td>January</td>\n",
       "      <td>Aaron Maashoh</td>\n",
       "      <td>23</td>\n",
       "      <td>821-00-0265</td>\n",
       "      <td>Scientist</td>\n",
       "      <td>19114.12</td>\n",
       "      <td>1824.843333</td>\n",
       "      <td>22 Years and 1 Months</td>\n",
       "      <td>49.574949</td>\n",
       "    </tr>\n",
       "    <tr>\n",
       "      <th>1</th>\n",
       "      <td>0x1603</td>\n",
       "      <td>CUS_0xd40</td>\n",
       "      <td>February</td>\n",
       "      <td>Aaron Maashoh</td>\n",
       "      <td>23</td>\n",
       "      <td>821-00-0265</td>\n",
       "      <td>Scientist</td>\n",
       "      <td>19114.12</td>\n",
       "      <td>NaN</td>\n",
       "      <td>NaN</td>\n",
       "      <td>49.574949</td>\n",
       "    </tr>\n",
       "    <tr>\n",
       "      <th>2</th>\n",
       "      <td>0x1604</td>\n",
       "      <td>CUS_0xd40</td>\n",
       "      <td>March</td>\n",
       "      <td>Aaron Maashoh</td>\n",
       "      <td>-500</td>\n",
       "      <td>821-00-0265</td>\n",
       "      <td>Scientist</td>\n",
       "      <td>19114.12</td>\n",
       "      <td>NaN</td>\n",
       "      <td>22 Years and 3 Months</td>\n",
       "      <td>49.574949</td>\n",
       "    </tr>\n",
       "    <tr>\n",
       "      <th>3</th>\n",
       "      <td>0x1605</td>\n",
       "      <td>CUS_0xd40</td>\n",
       "      <td>April</td>\n",
       "      <td>Aaron Maashoh</td>\n",
       "      <td>23</td>\n",
       "      <td>821-00-0265</td>\n",
       "      <td>Scientist</td>\n",
       "      <td>19114.12</td>\n",
       "      <td>NaN</td>\n",
       "      <td>22 Years and 4 Months</td>\n",
       "      <td>49.574949</td>\n",
       "    </tr>\n",
       "    <tr>\n",
       "      <th>4</th>\n",
       "      <td>0x1606</td>\n",
       "      <td>CUS_0xd40</td>\n",
       "      <td>May</td>\n",
       "      <td>Aaron Maashoh</td>\n",
       "      <td>23</td>\n",
       "      <td>821-00-0265</td>\n",
       "      <td>Scientist</td>\n",
       "      <td>19114.12</td>\n",
       "      <td>1824.843333</td>\n",
       "      <td>22 Years and 5 Months</td>\n",
       "      <td>49.574949</td>\n",
       "    </tr>\n",
       "  </tbody>\n",
       "</table>\n",
       "</div>"
      ],
      "text/plain": [
       "       ID Customer_ID     Month           Name   Age          SSN Occupation  \\\n",
       "0  0x1602   CUS_0xd40   January  Aaron Maashoh    23  821-00-0265  Scientist   \n",
       "1  0x1603   CUS_0xd40  February  Aaron Maashoh    23  821-00-0265  Scientist   \n",
       "2  0x1604   CUS_0xd40     March  Aaron Maashoh  -500  821-00-0265  Scientist   \n",
       "3  0x1605   CUS_0xd40     April  Aaron Maashoh    23  821-00-0265  Scientist   \n",
       "4  0x1606   CUS_0xd40       May  Aaron Maashoh    23  821-00-0265  Scientist   \n",
       "\n",
       "  Annual_Income  Monthly_Inhand_Salary     Credit_History_Age  \\\n",
       "0      19114.12            1824.843333  22 Years and 1 Months   \n",
       "1      19114.12                    NaN                    NaN   \n",
       "2      19114.12                    NaN  22 Years and 3 Months   \n",
       "3      19114.12                    NaN  22 Years and 4 Months   \n",
       "4      19114.12            1824.843333  22 Years and 5 Months   \n",
       "\n",
       "   Total_EMI_per_month  \n",
       "0            49.574949  \n",
       "1            49.574949  \n",
       "2            49.574949  \n",
       "3            49.574949  \n",
       "4            49.574949  "
      ]
     },
     "execution_count": 12,
     "metadata": {},
     "output_type": "execute_result"
    }
   ],
   "source": [
    "columns_to_use = [\"ID\", \"Customer_ID\", \"Month\", \"Name\", \"Age\",\"Credit_History_Age\", \"SSN\", \"Occupation\",\n",
    "    \"Annual_Income\", \"Monthly_Inhand_Salary\", \"Total_EMI_per_month\"]\n",
    "\n",
    "df1 = pd.read_csv(r'../data/raw_data.csv', usecols=columns_to_use)\n",
    "df1.head()"
   ]
  },
  {
   "cell_type": "code",
   "execution_count": 13,
   "metadata": {
    "execution": {
     "iopub.execute_input": "2025-04-18T14:32:06.514205Z",
     "iopub.status.busy": "2025-04-18T14:32:06.513969Z",
     "iopub.status.idle": "2025-04-18T14:32:06.518727Z",
     "shell.execute_reply": "2025-04-18T14:32:06.517886Z",
     "shell.execute_reply.started": "2025-04-18T14:32:06.514183Z"
    },
    "trusted": true
   },
   "outputs": [],
   "source": [
    "df1.columns = [column.lower() for column in df1.columns]"
   ]
  },
  {
   "cell_type": "code",
   "execution_count": 14,
   "metadata": {
    "execution": {
     "iopub.execute_input": "2025-04-18T14:32:06.519947Z",
     "iopub.status.busy": "2025-04-18T14:32:06.519716Z",
     "iopub.status.idle": "2025-04-18T14:32:06.588491Z",
     "shell.execute_reply": "2025-04-18T14:32:06.587592Z",
     "shell.execute_reply.started": "2025-04-18T14:32:06.51993Z"
    },
    "trusted": true
   },
   "outputs": [
    {
     "name": "stdout",
     "output_type": "stream",
     "text": [
      "<class 'pandas.core.frame.DataFrame'>\n",
      "RangeIndex: 100000 entries, 0 to 99999\n",
      "Data columns (total 11 columns):\n",
      " #   Column                 Non-Null Count   Dtype  \n",
      "---  ------                 --------------   -----  \n",
      " 0   id                     100000 non-null  object \n",
      " 1   customer_id            100000 non-null  object \n",
      " 2   month                  100000 non-null  object \n",
      " 3   name                   90015 non-null   object \n",
      " 4   age                    100000 non-null  object \n",
      " 5   ssn                    100000 non-null  object \n",
      " 6   occupation             100000 non-null  object \n",
      " 7   annual_income          100000 non-null  object \n",
      " 8   monthly_inhand_salary  84998 non-null   float64\n",
      " 9   credit_history_age     90970 non-null   object \n",
      " 10  total_emi_per_month    100000 non-null  float64\n",
      "dtypes: float64(2), object(9)\n",
      "memory usage: 8.4+ MB\n"
     ]
    }
   ],
   "source": [
    "df1.info()"
   ]
  },
  {
   "cell_type": "code",
   "execution_count": 15,
   "metadata": {
    "execution": {
     "iopub.execute_input": "2025-04-18T14:32:06.58993Z",
     "iopub.status.busy": "2025-04-18T14:32:06.589615Z",
     "iopub.status.idle": "2025-04-18T14:32:06.611944Z",
     "shell.execute_reply": "2025-04-18T14:32:06.611169Z",
     "shell.execute_reply.started": "2025-04-18T14:32:06.589909Z"
    },
    "trusted": true
   },
   "outputs": [
    {
     "data": {
      "text/html": [
       "<div>\n",
       "<style scoped>\n",
       "    .dataframe tbody tr th:only-of-type {\n",
       "        vertical-align: middle;\n",
       "    }\n",
       "\n",
       "    .dataframe tbody tr th {\n",
       "        vertical-align: top;\n",
       "    }\n",
       "\n",
       "    .dataframe thead th {\n",
       "        text-align: right;\n",
       "    }\n",
       "</style>\n",
       "<table border=\"1\" class=\"dataframe\">\n",
       "  <thead>\n",
       "    <tr style=\"text-align: right;\">\n",
       "      <th></th>\n",
       "      <th>monthly_inhand_salary</th>\n",
       "      <th>total_emi_per_month</th>\n",
       "    </tr>\n",
       "  </thead>\n",
       "  <tbody>\n",
       "    <tr>\n",
       "      <th>count</th>\n",
       "      <td>84998.000000</td>\n",
       "      <td>100000.000000</td>\n",
       "    </tr>\n",
       "    <tr>\n",
       "      <th>mean</th>\n",
       "      <td>4194.170850</td>\n",
       "      <td>1403.118217</td>\n",
       "    </tr>\n",
       "    <tr>\n",
       "      <th>std</th>\n",
       "      <td>3183.686167</td>\n",
       "      <td>8306.041270</td>\n",
       "    </tr>\n",
       "    <tr>\n",
       "      <th>min</th>\n",
       "      <td>303.645417</td>\n",
       "      <td>0.000000</td>\n",
       "    </tr>\n",
       "    <tr>\n",
       "      <th>25%</th>\n",
       "      <td>1625.568229</td>\n",
       "      <td>30.306660</td>\n",
       "    </tr>\n",
       "    <tr>\n",
       "      <th>50%</th>\n",
       "      <td>3093.745000</td>\n",
       "      <td>69.249473</td>\n",
       "    </tr>\n",
       "    <tr>\n",
       "      <th>75%</th>\n",
       "      <td>5957.448333</td>\n",
       "      <td>161.224249</td>\n",
       "    </tr>\n",
       "    <tr>\n",
       "      <th>max</th>\n",
       "      <td>15204.633333</td>\n",
       "      <td>82331.000000</td>\n",
       "    </tr>\n",
       "  </tbody>\n",
       "</table>\n",
       "</div>"
      ],
      "text/plain": [
       "       monthly_inhand_salary  total_emi_per_month\n",
       "count           84998.000000        100000.000000\n",
       "mean             4194.170850          1403.118217\n",
       "std              3183.686167          8306.041270\n",
       "min               303.645417             0.000000\n",
       "25%              1625.568229            30.306660\n",
       "50%              3093.745000            69.249473\n",
       "75%              5957.448333           161.224249\n",
       "max             15204.633333         82331.000000"
      ]
     },
     "execution_count": 15,
     "metadata": {},
     "output_type": "execute_result"
    }
   ],
   "source": [
    "df1.describe()"
   ]
  },
  {
   "cell_type": "code",
   "execution_count": 16,
   "metadata": {
    "execution": {
     "iopub.execute_input": "2025-04-18T14:32:06.612962Z",
     "iopub.status.busy": "2025-04-18T14:32:06.612725Z",
     "iopub.status.idle": "2025-04-18T14:32:06.838728Z",
     "shell.execute_reply": "2025-04-18T14:32:06.837866Z",
     "shell.execute_reply.started": "2025-04-18T14:32:06.612942Z"
    },
    "trusted": true
   },
   "outputs": [
    {
     "data": {
      "text/html": [
       "<div>\n",
       "<style scoped>\n",
       "    .dataframe tbody tr th:only-of-type {\n",
       "        vertical-align: middle;\n",
       "    }\n",
       "\n",
       "    .dataframe tbody tr th {\n",
       "        vertical-align: top;\n",
       "    }\n",
       "\n",
       "    .dataframe thead th {\n",
       "        text-align: right;\n",
       "    }\n",
       "</style>\n",
       "<table border=\"1\" class=\"dataframe\">\n",
       "  <thead>\n",
       "    <tr style=\"text-align: right;\">\n",
       "      <th></th>\n",
       "      <th>id</th>\n",
       "      <th>customer_id</th>\n",
       "      <th>month</th>\n",
       "      <th>name</th>\n",
       "      <th>age</th>\n",
       "      <th>ssn</th>\n",
       "      <th>occupation</th>\n",
       "      <th>annual_income</th>\n",
       "      <th>credit_history_age</th>\n",
       "    </tr>\n",
       "  </thead>\n",
       "  <tbody>\n",
       "    <tr>\n",
       "      <th>count</th>\n",
       "      <td>100000</td>\n",
       "      <td>100000</td>\n",
       "      <td>100000</td>\n",
       "      <td>90015</td>\n",
       "      <td>100000</td>\n",
       "      <td>100000</td>\n",
       "      <td>100000</td>\n",
       "      <td>100000</td>\n",
       "      <td>90970</td>\n",
       "    </tr>\n",
       "    <tr>\n",
       "      <th>unique</th>\n",
       "      <td>100000</td>\n",
       "      <td>12500</td>\n",
       "      <td>8</td>\n",
       "      <td>10139</td>\n",
       "      <td>1788</td>\n",
       "      <td>12501</td>\n",
       "      <td>16</td>\n",
       "      <td>18940</td>\n",
       "      <td>404</td>\n",
       "    </tr>\n",
       "    <tr>\n",
       "      <th>top</th>\n",
       "      <td>0x25fd5</td>\n",
       "      <td>CUS_0x942c</td>\n",
       "      <td>January</td>\n",
       "      <td>Stevex</td>\n",
       "      <td>38</td>\n",
       "      <td>#F%$D@*&amp;8</td>\n",
       "      <td>_______</td>\n",
       "      <td>36585.12</td>\n",
       "      <td>15 Years and 11 Months</td>\n",
       "    </tr>\n",
       "    <tr>\n",
       "      <th>freq</th>\n",
       "      <td>1</td>\n",
       "      <td>8</td>\n",
       "      <td>12500</td>\n",
       "      <td>44</td>\n",
       "      <td>2833</td>\n",
       "      <td>5572</td>\n",
       "      <td>7062</td>\n",
       "      <td>16</td>\n",
       "      <td>446</td>\n",
       "    </tr>\n",
       "  </tbody>\n",
       "</table>\n",
       "</div>"
      ],
      "text/plain": [
       "             id customer_id    month    name     age        ssn occupation  \\\n",
       "count    100000      100000   100000   90015  100000     100000     100000   \n",
       "unique   100000       12500        8   10139    1788      12501         16   \n",
       "top     0x25fd5  CUS_0x942c  January  Stevex      38  #F%$D@*&8    _______   \n",
       "freq          1           8    12500      44    2833       5572       7062   \n",
       "\n",
       "       annual_income      credit_history_age  \n",
       "count         100000                   90970  \n",
       "unique         18940                     404  \n",
       "top         36585.12  15 Years and 11 Months  \n",
       "freq              16                     446  "
      ]
     },
     "execution_count": 16,
     "metadata": {},
     "output_type": "execute_result"
    }
   ],
   "source": [
    "df1.describe(include='object')"
   ]
  },
  {
   "cell_type": "code",
   "execution_count": 17,
   "metadata": {
    "execution": {
     "iopub.execute_input": "2025-04-18T14:32:06.840229Z",
     "iopub.status.busy": "2025-04-18T14:32:06.84Z",
     "iopub.status.idle": "2025-04-18T14:32:06.928397Z",
     "shell.execute_reply": "2025-04-18T14:32:06.927583Z",
     "shell.execute_reply.started": "2025-04-18T14:32:06.840211Z"
    },
    "trusted": true
   },
   "outputs": [
    {
     "data": {
      "text/plain": [
       "np.int64(0)"
      ]
     },
     "execution_count": 17,
     "metadata": {},
     "output_type": "execute_result"
    }
   ],
   "source": [
    "df1.duplicated().sum()"
   ]
  },
  {
   "cell_type": "markdown",
   "metadata": {},
   "source": []
  },
  {
   "cell_type": "code",
   "execution_count": 18,
   "metadata": {
    "execution": {
     "iopub.execute_input": "2025-04-18T14:32:06.929647Z",
     "iopub.status.busy": "2025-04-18T14:32:06.929382Z",
     "iopub.status.idle": "2025-04-18T14:32:06.95219Z",
     "shell.execute_reply": "2025-04-18T14:32:06.950885Z",
     "shell.execute_reply.started": "2025-04-18T14:32:06.929627Z"
    },
    "trusted": true
   },
   "outputs": [
    {
     "data": {
      "text/plain": [
       "customer_id\n",
       "CUS_0x942c    8\n",
       "CUS_0xd40     8\n",
       "CUS_0x21b1    8\n",
       "CUS_0x2dbc    8\n",
       "CUS_0x1d18    8\n",
       "             ..\n",
       "CUS_0x4157    8\n",
       "CUS_0x5407    8\n",
       "CUS_0x284a    8\n",
       "CUS_0x95ee    8\n",
       "CUS_0x1cdb    8\n",
       "Name: count, Length: 12500, dtype: int64"
      ]
     },
     "execution_count": 18,
     "metadata": {},
     "output_type": "execute_result"
    }
   ],
   "source": [
    "df1['customer_id'].value_counts()"
   ]
  },
  {
   "cell_type": "code",
   "execution_count": 19,
   "metadata": {
    "execution": {
     "iopub.execute_input": "2025-04-18T14:32:06.954119Z",
     "iopub.status.busy": "2025-04-18T14:32:06.953769Z",
     "iopub.status.idle": "2025-04-18T14:32:06.980102Z",
     "shell.execute_reply": "2025-04-18T14:32:06.978838Z",
     "shell.execute_reply.started": "2025-04-18T14:32:06.954086Z"
    },
    "trusted": true
   },
   "outputs": [
    {
     "data": {
      "text/plain": [
       "True"
      ]
     },
     "execution_count": 19,
     "metadata": {},
     "output_type": "execute_result"
    }
   ],
   "source": [
    "all(df1['customer_id'].value_counts()==8)"
   ]
  },
  {
   "cell_type": "markdown",
   "metadata": {},
   "source": [
    "Mỗi khách hàng đều xuất hiện 8 lần trong dữ liệu "
   ]
  },
  {
   "cell_type": "code",
   "execution_count": 20,
   "metadata": {
    "execution": {
     "iopub.execute_input": "2025-04-18T14:32:06.981737Z",
     "iopub.status.busy": "2025-04-18T14:32:06.981375Z",
     "iopub.status.idle": "2025-04-18T14:32:07.02637Z",
     "shell.execute_reply": "2025-04-18T14:32:07.025705Z",
     "shell.execute_reply.started": "2025-04-18T14:32:06.981707Z"
    },
    "trusted": true
   },
   "outputs": [
    {
     "data": {
      "text/plain": [
       "customer_id\n",
       "CUS_0x1000    8\n",
       "CUS_0x1009    8\n",
       "CUS_0x100b    8\n",
       "CUS_0x1011    8\n",
       "CUS_0x1013    8\n",
       "             ..\n",
       "CUS_0xff3     8\n",
       "CUS_0xff4     8\n",
       "CUS_0xff6     8\n",
       "CUS_0xffc     8\n",
       "CUS_0xffd     8\n",
       "Name: month, Length: 12500, dtype: int64"
      ]
     },
     "execution_count": 20,
     "metadata": {},
     "output_type": "execute_result"
    }
   ],
   "source": [
    "df1.groupby('customer_id')['month'].count()"
   ]
  },
  {
   "cell_type": "code",
   "execution_count": 21,
   "metadata": {
    "execution": {
     "iopub.execute_input": "2025-04-18T14:32:07.027607Z",
     "iopub.status.busy": "2025-04-18T14:32:07.02731Z",
     "iopub.status.idle": "2025-04-18T14:32:07.059319Z",
     "shell.execute_reply": "2025-04-18T14:32:07.058483Z",
     "shell.execute_reply.started": "2025-04-18T14:32:07.027586Z"
    },
    "trusted": true
   },
   "outputs": [
    {
     "data": {
      "text/plain": [
       "True"
      ]
     },
     "execution_count": 21,
     "metadata": {},
     "output_type": "execute_result"
    }
   ],
   "source": [
    "all(df1.groupby('customer_id')['month'].count()==8)"
   ]
  },
  {
   "cell_type": "markdown",
   "metadata": {},
   "source": [
    "Mỗi khác hàng đều có 8 tháng trong dữ liệu"
   ]
  },
  {
   "cell_type": "code",
   "execution_count": 22,
   "metadata": {
    "execution": {
     "iopub.execute_input": "2025-04-18T14:32:07.061053Z",
     "iopub.status.busy": "2025-04-18T14:32:07.060728Z",
     "iopub.status.idle": "2025-04-18T14:32:07.551061Z",
     "shell.execute_reply": "2025-04-18T14:32:07.55027Z",
     "shell.execute_reply.started": "2025-04-18T14:32:07.061024Z"
    },
    "trusted": true
   },
   "outputs": [
    {
     "data": {
      "text/plain": [
       "customer_id\n",
       "CUS_0x1000    [January, February, March, April, May, June, J...\n",
       "CUS_0x1009    [January, February, March, April, May, June, J...\n",
       "CUS_0x100b    [January, February, March, April, May, June, J...\n",
       "CUS_0x1011    [January, February, March, April, May, June, J...\n",
       "CUS_0x1013    [January, February, March, April, May, June, J...\n",
       "                                    ...                        \n",
       "CUS_0xff3     [January, February, March, April, May, June, J...\n",
       "CUS_0xff4     [January, February, March, April, May, June, J...\n",
       "CUS_0xff6     [January, February, March, April, May, June, J...\n",
       "CUS_0xffc     [January, February, March, April, May, June, J...\n",
       "CUS_0xffd     [January, February, March, April, May, June, J...\n",
       "Name: month, Length: 12500, dtype: object"
      ]
     },
     "execution_count": 22,
     "metadata": {},
     "output_type": "execute_result"
    }
   ],
   "source": [
    "df1.groupby('customer_id')['month'].unique()"
   ]
  },
  {
   "cell_type": "code",
   "execution_count": 23,
   "metadata": {
    "execution": {
     "iopub.execute_input": "2025-04-18T14:32:07.552967Z",
     "iopub.status.busy": "2025-04-18T14:32:07.552237Z",
     "iopub.status.idle": "2025-04-18T14:32:08.241803Z",
     "shell.execute_reply": "2025-04-18T14:32:08.240978Z",
     "shell.execute_reply.started": "2025-04-18T14:32:07.552942Z"
    },
    "trusted": true
   },
   "outputs": [
    {
     "data": {
      "text/plain": [
       "True"
      ]
     },
     "execution_count": 23,
     "metadata": {},
     "output_type": "execute_result"
    }
   ],
   "source": [
    "filtered_df = df1.groupby('customer_id')['month'].unique()\n",
    "\n",
    "all(filtered_df.apply(lambda x: set(x) == set(filtered_df.iloc[0])))"
   ]
  },
  {
   "cell_type": "markdown",
   "metadata": {},
   "source": [
    "Tất cả các tháng của mỗi khách hàng xuất hiện trong dữ liệu là giống nhau."
   ]
  },
  {
   "cell_type": "markdown",
   "metadata": {},
   "source": [
    "##### name"
   ]
  },
  {
   "cell_type": "code",
   "execution_count": 24,
   "metadata": {
    "execution": {
     "iopub.execute_input": "2025-04-18T14:32:08.243624Z",
     "iopub.status.busy": "2025-04-18T14:32:08.242943Z",
     "iopub.status.idle": "2025-04-18T14:32:08.255271Z",
     "shell.execute_reply": "2025-04-18T14:32:08.254263Z",
     "shell.execute_reply.started": "2025-04-18T14:32:08.243592Z"
    },
    "trusted": true
   },
   "outputs": [
    {
     "data": {
      "text/plain": [
       "np.int64(9985)"
      ]
     },
     "execution_count": 24,
     "metadata": {},
     "output_type": "execute_result"
    }
   ],
   "source": [
    "df1['name'].isna().sum()"
   ]
  },
  {
   "cell_type": "code",
   "execution_count": 25,
   "metadata": {
    "execution": {
     "iopub.execute_input": "2025-04-18T14:32:08.257143Z",
     "iopub.status.busy": "2025-04-18T14:32:08.256329Z",
     "iopub.status.idle": "2025-04-18T14:32:12.141996Z",
     "shell.execute_reply": "2025-04-18T14:32:12.141113Z",
     "shell.execute_reply.started": "2025-04-18T14:32:08.257119Z"
    },
    "trusted": true
   },
   "outputs": [
    {
     "data": {
      "text/plain": [
       "True"
      ]
     },
     "execution_count": 25,
     "metadata": {},
     "output_type": "execute_result"
    }
   ],
   "source": [
    "df1['name'] = df1.groupby('customer_id')['name'].transform(lambda x: x.fillna(x.mode()[0]))\n",
    "\n",
    "all(df1.groupby('customer_id')['name'].count() == 8)"
   ]
  },
  {
   "cell_type": "markdown",
   "metadata": {},
   "source": [
    "##### Age"
   ]
  },
  {
   "cell_type": "code",
   "execution_count": 26,
   "metadata": {
    "execution": {
     "iopub.execute_input": "2025-04-18T14:32:12.143389Z",
     "iopub.status.busy": "2025-04-18T14:32:12.143067Z",
     "iopub.status.idle": "2025-04-18T14:32:12.150109Z",
     "shell.execute_reply": "2025-04-18T14:32:12.149354Z",
     "shell.execute_reply.started": "2025-04-18T14:32:12.143361Z"
    },
    "trusted": true
   },
   "outputs": [
    {
     "data": {
      "text/plain": [
       "0          23\n",
       "1          23\n",
       "2        -500\n",
       "3          23\n",
       "4          23\n",
       "         ... \n",
       "99995      25\n",
       "99996      25\n",
       "99997      25\n",
       "99998      25\n",
       "99999      25\n",
       "Name: age, Length: 100000, dtype: object"
      ]
     },
     "execution_count": 26,
     "metadata": {},
     "output_type": "execute_result"
    }
   ],
   "source": [
    "df1['age']"
   ]
  },
  {
   "cell_type": "code",
   "execution_count": 27,
   "metadata": {
    "execution": {
     "iopub.execute_input": "2025-04-18T14:32:12.151958Z",
     "iopub.status.busy": "2025-04-18T14:32:12.151052Z",
     "iopub.status.idle": "2025-04-18T14:32:12.223893Z",
     "shell.execute_reply": "2025-04-18T14:32:12.223045Z",
     "shell.execute_reply.started": "2025-04-18T14:32:12.151937Z"
    },
    "trusted": true
   },
   "outputs": [
    {
     "data": {
      "text/plain": [
       "8      28_\n",
       "54     34_\n",
       "58     30_\n",
       "71     24_\n",
       "89     33_\n",
       "97     35_\n",
       "123    30_\n",
       "184    31_\n",
       "227    40_\n",
       "236    37_\n",
       "240    54_\n",
       "256    21_\n",
       "277    37_\n",
       "311    37_\n",
       "326    33_\n",
       "359    20_\n",
       "381    30_\n",
       "387    43_\n",
       "399    38_\n",
       "524    18_\n",
       "Name: age, dtype: object"
      ]
     },
     "execution_count": 27,
     "metadata": {},
     "output_type": "execute_result"
    }
   ],
   "source": [
    "df1[pd.to_numeric(df1['age'], errors='coerce').isna()]['age'].head(20)"
   ]
  },
  {
   "cell_type": "code",
   "execution_count": 28,
   "metadata": {
    "execution": {
     "iopub.execute_input": "2025-04-18T14:32:12.229488Z",
     "iopub.status.busy": "2025-04-18T14:32:12.228793Z",
     "iopub.status.idle": "2025-04-18T14:32:12.32708Z",
     "shell.execute_reply": "2025-04-18T14:32:12.326268Z",
     "shell.execute_reply.started": "2025-04-18T14:32:12.229465Z"
    },
    "trusted": true
   },
   "outputs": [
    {
     "data": {
      "text/plain": [
       "dtype('int16')"
      ]
     },
     "execution_count": 28,
     "metadata": {},
     "output_type": "execute_result"
    }
   ],
   "source": [
    "df1[\"age\"] = df1[\"age\"].str.strip(\"_\")\n",
    "\n",
    "df1[\"age\"] = pd.to_numeric(df1[\"age\"], downcast=\"integer\")\n",
    "\n",
    "df1[\"age\"].dtype"
   ]
  },
  {
   "cell_type": "code",
   "execution_count": 29,
   "metadata": {
    "execution": {
     "iopub.execute_input": "2025-04-18T14:32:12.328231Z",
     "iopub.status.busy": "2025-04-18T14:32:12.327933Z",
     "iopub.status.idle": "2025-04-18T14:32:12.339563Z",
     "shell.execute_reply": "2025-04-18T14:32:12.338357Z",
     "shell.execute_reply.started": "2025-04-18T14:32:12.32821Z"
    },
    "trusted": true
   },
   "outputs": [
    {
     "data": {
      "text/plain": [
       "age\n",
       "-500     886\n",
       " 14     1175\n",
       " 15     1574\n",
       " 16     1455\n",
       " 17     1502\n",
       " 18     2385\n",
       " 19     2793\n",
       " 20     2744\n",
       " 21     2716\n",
       " 22     2785\n",
       " 23     2654\n",
       " 24     2714\n",
       " 25     2861\n",
       " 26     2945\n",
       " 27     2859\n",
       " 28     2968\n",
       " 29     2735\n",
       " 30     2727\n",
       " 31     2955\n",
       " 32     2884\n",
       "Name: count, dtype: int64"
      ]
     },
     "execution_count": 29,
     "metadata": {},
     "output_type": "execute_result"
    }
   ],
   "source": [
    "df1['age'].value_counts().sort_index().head(20)"
   ]
  },
  {
   "cell_type": "code",
   "execution_count": 30,
   "metadata": {
    "execution": {
     "iopub.execute_input": "2025-04-18T14:32:12.340956Z",
     "iopub.status.busy": "2025-04-18T14:32:12.340665Z",
     "iopub.status.idle": "2025-04-18T14:32:12.358869Z",
     "shell.execute_reply": "2025-04-18T14:32:12.357968Z",
     "shell.execute_reply.started": "2025-04-18T14:32:12.340936Z"
    },
    "trusted": true
   },
   "outputs": [
    {
     "data": {
      "text/plain": [
       "age\n",
       "8587    1\n",
       "8592    2\n",
       "8608    1\n",
       "8616    2\n",
       "8623    1\n",
       "8628    1\n",
       "8632    1\n",
       "8639    2\n",
       "8640    1\n",
       "8643    1\n",
       "8655    1\n",
       "8662    1\n",
       "8663    1\n",
       "8666    1\n",
       "8669    1\n",
       "8674    1\n",
       "8678    1\n",
       "8682    1\n",
       "8697    1\n",
       "8698    1\n",
       "Name: count, dtype: int64"
      ]
     },
     "execution_count": 30,
     "metadata": {},
     "output_type": "execute_result"
    }
   ],
   "source": [
    "df1['age'].value_counts().sort_index().tail(20)"
   ]
  },
  {
   "cell_type": "code",
   "execution_count": 31,
   "metadata": {
    "execution": {
     "iopub.execute_input": "2025-04-18T14:32:12.359881Z",
     "iopub.status.busy": "2025-04-18T14:32:12.359673Z",
     "iopub.status.idle": "2025-04-18T14:32:12.379784Z",
     "shell.execute_reply": "2025-04-18T14:32:12.378645Z",
     "shell.execute_reply.started": "2025-04-18T14:32:12.359865Z"
    },
    "trusted": true
   },
   "outputs": [
    {
     "data": {
      "text/plain": [
       "age\n",
       "14    1175\n",
       "15    1574\n",
       "16    1455\n",
       "17    1502\n",
       "18    2385\n",
       "19    2793\n",
       "20    2744\n",
       "21    2716\n",
       "22    2785\n",
       "23    2654\n",
       "24    2714\n",
       "25    2861\n",
       "26    2945\n",
       "27    2859\n",
       "28    2968\n",
       "29    2735\n",
       "30    2727\n",
       "31    2955\n",
       "32    2884\n",
       "33    2543\n",
       "34    2837\n",
       "35    2866\n",
       "36    2868\n",
       "37    2742\n",
       "38    2994\n",
       "39    2846\n",
       "40    2609\n",
       "41    2785\n",
       "42    2577\n",
       "43    2734\n",
       "44    2824\n",
       "45    2642\n",
       "46    1621\n",
       "47    1227\n",
       "48    1385\n",
       "49    1375\n",
       "50    1273\n",
       "51    1291\n",
       "52    1356\n",
       "53    1354\n",
       "54    1311\n",
       "55    1366\n",
       "56     362\n",
       "95       3\n",
       "99       1\n",
       "Name: count, dtype: int64"
      ]
     },
     "execution_count": 31,
     "metadata": {},
     "output_type": "execute_result"
    }
   ],
   "source": [
    "count_age = df1['age'].value_counts().sort_index()\n",
    "count_age[(0 < count_age.index) & (count_age.index < 100)]"
   ]
  },
  {
   "cell_type": "markdown",
   "metadata": {},
   "source": [
    "Các giá trị có rất nhiều giá trị, chỉ có từ 95 trở đi thì có 3 giá trị, suy ra đây là giá trị lỗi."
   ]
  },
  {
   "cell_type": "code",
   "execution_count": 32,
   "metadata": {
    "execution": {
     "iopub.execute_input": "2025-04-18T14:32:12.381161Z",
     "iopub.status.busy": "2025-04-18T14:32:12.380847Z",
     "iopub.status.idle": "2025-04-18T14:32:12.397395Z",
     "shell.execute_reply": "2025-04-18T14:32:12.396285Z",
     "shell.execute_reply.started": "2025-04-18T14:32:12.381132Z"
    },
    "trusted": true
   },
   "outputs": [],
   "source": [
    "df1.loc[(df1['age'] < 14) | (df1['age'] > 56), 'age'] = np.nan"
   ]
  },
  {
   "cell_type": "code",
   "execution_count": 33,
   "metadata": {
    "execution": {
     "iopub.execute_input": "2025-04-18T14:32:12.398772Z",
     "iopub.status.busy": "2025-04-18T14:32:12.39832Z",
     "iopub.status.idle": "2025-04-18T14:32:15.377473Z",
     "shell.execute_reply": "2025-04-18T14:32:15.376759Z",
     "shell.execute_reply.started": "2025-04-18T14:32:12.398742Z"
    },
    "trusted": true
   },
   "outputs": [
    {
     "name": "stderr",
     "output_type": "stream",
     "text": [
      "/tmp/ipykernel_41511/1709874177.py:1: FutureWarning: Series.fillna with 'method' is deprecated and will raise in a future version. Use obj.ffill() or obj.bfill() instead.\n",
      "  df1['age'] = df1.groupby('customer_id')['age'].transform(lambda x: x.fillna(method='ffill').fillna(method='bfill'))\n"
     ]
    },
    {
     "data": {
      "text/plain": [
       "np.int64(0)"
      ]
     },
     "execution_count": 33,
     "metadata": {},
     "output_type": "execute_result"
    }
   ],
   "source": [
    "df1['age'] = df1.groupby('customer_id')['age'].transform(lambda x: x.fillna(method='ffill').fillna(method='bfill'))\n",
    "df1['age'].isna().sum()"
   ]
  },
  {
   "cell_type": "markdown",
   "metadata": {},
   "source": [
    "Vì là dữ liệu vay tiền nên cần loại đi những khách hàng có tuổi nhỏ hơn 16. Độ tuổi chưa đủ năng lực pháp lý."
   ]
  },
  {
   "cell_type": "markdown",
   "metadata": {},
   "source": [
    "Do đây là dữ liệu transcation nên customer_id có thể có giá trị ở nhiều thời điểm khác nhau vì thế nên age cũng khác nhau. nên không thể loại theo cách df1[df1['age'] > 16] mà phải lọc theo customer_id"
   ]
  },
  {
   "cell_type": "code",
   "execution_count": 34,
   "metadata": {
    "execution": {
     "iopub.execute_input": "2025-04-18T14:32:15.37867Z",
     "iopub.status.busy": "2025-04-18T14:32:15.378346Z",
     "iopub.status.idle": "2025-04-18T14:32:15.398825Z",
     "shell.execute_reply": "2025-04-18T14:32:15.397819Z",
     "shell.execute_reply.started": "2025-04-18T14:32:15.378644Z"
    },
    "trusted": true
   },
   "outputs": [],
   "source": [
    "drop_age = df1[df1['age'] < 16]['customer_id']\n",
    "df1=df1[~df1['customer_id'].isin(drop_age)]"
   ]
  },
  {
   "cell_type": "markdown",
   "metadata": {},
   "source": [
    "##### Credit_history_age"
   ]
  },
  {
   "cell_type": "code",
   "execution_count": 35,
   "metadata": {
    "execution": {
     "iopub.execute_input": "2025-04-18T14:32:15.400103Z",
     "iopub.status.busy": "2025-04-18T14:32:15.399847Z",
     "iopub.status.idle": "2025-04-18T14:32:15.412152Z",
     "shell.execute_reply": "2025-04-18T14:32:15.41047Z",
     "shell.execute_reply.started": "2025-04-18T14:32:15.400083Z"
    },
    "trusted": true
   },
   "outputs": [
    {
     "data": {
      "text/plain": [
       "credit_history_age\n",
       "NaN                       8724\n",
       "17 Years and 11 Months     435\n",
       "19 Years and 4 Months      432\n",
       "15 Years and 11 Months     432\n",
       "19 Years and 3 Months      431\n",
       "19 Years and 5 Months      428\n",
       "17 Years and 10 Months     427\n",
       "17 Years and 9 Months      423\n",
       "15 Years and 10 Months     418\n",
       "18 Years and 2 Months      418\n",
       "18 Years and 3 Months      417\n",
       "15 Years and 9 Months      416\n",
       "18 Years and 4 Months      412\n",
       "18 Years and 11 Months     408\n",
       "17 Years and 8 Months      404\n",
       "19 Years and 9 Months      402\n",
       "18 Years and 10 Months     400\n",
       "18 Years and 5 Months      399\n",
       "16 Years and 2 Months      399\n",
       "15 Years and 8 Months      398\n",
       "Name: count, dtype: int64"
      ]
     },
     "execution_count": 35,
     "metadata": {},
     "output_type": "execute_result"
    }
   ],
   "source": [
    "df1['credit_history_age'].value_counts(dropna=False).head(20)"
   ]
  },
  {
   "cell_type": "code",
   "execution_count": 37,
   "metadata": {
    "execution": {
     "iopub.execute_input": "2025-04-18T14:32:15.429839Z",
     "iopub.status.busy": "2025-04-18T14:32:15.429594Z",
     "iopub.status.idle": "2025-04-18T14:32:15.446577Z",
     "shell.execute_reply": "2025-04-18T14:32:15.445392Z",
     "shell.execute_reply.started": "2025-04-18T14:32:15.429819Z"
    },
    "trusted": true
   },
   "outputs": [],
   "source": [
    "#Calculate the month from the entire string\n",
    "def convert_age_to_months(history_age):\n",
    "    if pd.notna(history_age):  # NaN checking\n",
    "        match = re.match(r\"(\\d+) Years\\s*and\\s*(\\d+) Months\", history_age)  # Regex \n",
    "        if match:\n",
    "            years = int(match.group(1))\n",
    "            months = int(match.group(2))\n",
    "            total_months = years * 12 + months\n",
    "            return total_months\n",
    "    return np.nan"
   ]
  },
  {
   "cell_type": "code",
   "execution_count": 38,
   "metadata": {
    "execution": {
     "iopub.execute_input": "2025-04-18T14:32:15.448024Z",
     "iopub.status.busy": "2025-04-18T14:32:15.447747Z",
     "iopub.status.idle": "2025-04-18T14:32:15.647891Z",
     "shell.execute_reply": "2025-04-18T14:32:15.647109Z",
     "shell.execute_reply.started": "2025-04-18T14:32:15.448003Z"
    },
    "trusted": true
   },
   "outputs": [],
   "source": [
    "df1[\"credit_history_age_regulated\"] = df1[\"credit_history_age\"].transform(\n",
    "    convert_age_to_months)"
   ]
  },
  {
   "cell_type": "markdown",
   "metadata": {},
   "source": [
    "Authorized User là người được thêm vào thẻ tín dụng của người khác (thường là cha mẹ).\n",
    "\n",
    "Các tổ chức tín dụng và ngân hàng cho phép thêm authorized user từ 13 tuổi trở lên\n",
    "\n",
    "Vì vậy mà tuổi hiện tại - tuổi credit phải >= 13 tuổi."
   ]
  },
  {
   "cell_type": "code",
   "execution_count": 39,
   "metadata": {
    "execution": {
     "iopub.execute_input": "2025-04-18T14:32:15.649238Z",
     "iopub.status.busy": "2025-04-18T14:32:15.648887Z",
     "iopub.status.idle": "2025-04-18T14:32:15.674171Z",
     "shell.execute_reply": "2025-04-18T14:32:15.673454Z",
     "shell.execute_reply.started": "2025-04-18T14:32:15.649158Z"
    },
    "trusted": true
   },
   "outputs": [
    {
     "data": {
      "text/html": [
       "<div>\n",
       "<style scoped>\n",
       "    .dataframe tbody tr th:only-of-type {\n",
       "        vertical-align: middle;\n",
       "    }\n",
       "\n",
       "    .dataframe tbody tr th {\n",
       "        vertical-align: top;\n",
       "    }\n",
       "\n",
       "    .dataframe thead th {\n",
       "        text-align: right;\n",
       "    }\n",
       "</style>\n",
       "<table border=\"1\" class=\"dataframe\">\n",
       "  <thead>\n",
       "    <tr style=\"text-align: right;\">\n",
       "      <th></th>\n",
       "      <th>id</th>\n",
       "      <th>customer_id</th>\n",
       "      <th>month</th>\n",
       "      <th>name</th>\n",
       "      <th>age</th>\n",
       "      <th>ssn</th>\n",
       "      <th>occupation</th>\n",
       "      <th>annual_income</th>\n",
       "      <th>monthly_inhand_salary</th>\n",
       "      <th>credit_history_age</th>\n",
       "      <th>total_emi_per_month</th>\n",
       "      <th>credit_history_age_regulated</th>\n",
       "    </tr>\n",
       "  </thead>\n",
       "  <tbody>\n",
       "    <tr>\n",
       "      <th>0</th>\n",
       "      <td>0x1602</td>\n",
       "      <td>CUS_0xd40</td>\n",
       "      <td>January</td>\n",
       "      <td>Aaron Maashoh</td>\n",
       "      <td>23.0</td>\n",
       "      <td>821-00-0265</td>\n",
       "      <td>Scientist</td>\n",
       "      <td>19114.12</td>\n",
       "      <td>1824.843333</td>\n",
       "      <td>22 Years and 1 Months</td>\n",
       "      <td>49.574949</td>\n",
       "      <td>265.0</td>\n",
       "    </tr>\n",
       "    <tr>\n",
       "      <th>2</th>\n",
       "      <td>0x1604</td>\n",
       "      <td>CUS_0xd40</td>\n",
       "      <td>March</td>\n",
       "      <td>Aaron Maashoh</td>\n",
       "      <td>23.0</td>\n",
       "      <td>821-00-0265</td>\n",
       "      <td>Scientist</td>\n",
       "      <td>19114.12</td>\n",
       "      <td>NaN</td>\n",
       "      <td>22 Years and 3 Months</td>\n",
       "      <td>49.574949</td>\n",
       "      <td>267.0</td>\n",
       "    </tr>\n",
       "    <tr>\n",
       "      <th>3</th>\n",
       "      <td>0x1605</td>\n",
       "      <td>CUS_0xd40</td>\n",
       "      <td>April</td>\n",
       "      <td>Aaron Maashoh</td>\n",
       "      <td>23.0</td>\n",
       "      <td>821-00-0265</td>\n",
       "      <td>Scientist</td>\n",
       "      <td>19114.12</td>\n",
       "      <td>NaN</td>\n",
       "      <td>22 Years and 4 Months</td>\n",
       "      <td>49.574949</td>\n",
       "      <td>268.0</td>\n",
       "    </tr>\n",
       "    <tr>\n",
       "      <th>4</th>\n",
       "      <td>0x1606</td>\n",
       "      <td>CUS_0xd40</td>\n",
       "      <td>May</td>\n",
       "      <td>Aaron Maashoh</td>\n",
       "      <td>23.0</td>\n",
       "      <td>821-00-0265</td>\n",
       "      <td>Scientist</td>\n",
       "      <td>19114.12</td>\n",
       "      <td>1824.843333</td>\n",
       "      <td>22 Years and 5 Months</td>\n",
       "      <td>49.574949</td>\n",
       "      <td>269.0</td>\n",
       "    </tr>\n",
       "    <tr>\n",
       "      <th>5</th>\n",
       "      <td>0x1607</td>\n",
       "      <td>CUS_0xd40</td>\n",
       "      <td>June</td>\n",
       "      <td>Aaron Maashoh</td>\n",
       "      <td>23.0</td>\n",
       "      <td>821-00-0265</td>\n",
       "      <td>Scientist</td>\n",
       "      <td>19114.12</td>\n",
       "      <td>NaN</td>\n",
       "      <td>22 Years and 6 Months</td>\n",
       "      <td>49.574949</td>\n",
       "      <td>270.0</td>\n",
       "    </tr>\n",
       "    <tr>\n",
       "      <th>...</th>\n",
       "      <td>...</td>\n",
       "      <td>...</td>\n",
       "      <td>...</td>\n",
       "      <td>...</td>\n",
       "      <td>...</td>\n",
       "      <td>...</td>\n",
       "      <td>...</td>\n",
       "      <td>...</td>\n",
       "      <td>...</td>\n",
       "      <td>...</td>\n",
       "      <td>...</td>\n",
       "      <td>...</td>\n",
       "    </tr>\n",
       "    <tr>\n",
       "      <th>99995</th>\n",
       "      <td>0x25fe9</td>\n",
       "      <td>CUS_0x942c</td>\n",
       "      <td>April</td>\n",
       "      <td>Nicks</td>\n",
       "      <td>25.0</td>\n",
       "      <td>078-73-5990</td>\n",
       "      <td>Mechanic</td>\n",
       "      <td>39628.99</td>\n",
       "      <td>3359.415833</td>\n",
       "      <td>31 Years and 6 Months</td>\n",
       "      <td>35.104023</td>\n",
       "      <td>378.0</td>\n",
       "    </tr>\n",
       "    <tr>\n",
       "      <th>99996</th>\n",
       "      <td>0x25fea</td>\n",
       "      <td>CUS_0x942c</td>\n",
       "      <td>May</td>\n",
       "      <td>Nicks</td>\n",
       "      <td>25.0</td>\n",
       "      <td>078-73-5990</td>\n",
       "      <td>Mechanic</td>\n",
       "      <td>39628.99</td>\n",
       "      <td>3359.415833</td>\n",
       "      <td>31 Years and 7 Months</td>\n",
       "      <td>35.104023</td>\n",
       "      <td>379.0</td>\n",
       "    </tr>\n",
       "    <tr>\n",
       "      <th>99997</th>\n",
       "      <td>0x25feb</td>\n",
       "      <td>CUS_0x942c</td>\n",
       "      <td>June</td>\n",
       "      <td>Nicks</td>\n",
       "      <td>25.0</td>\n",
       "      <td>078-73-5990</td>\n",
       "      <td>Mechanic</td>\n",
       "      <td>39628.99</td>\n",
       "      <td>3359.415833</td>\n",
       "      <td>31 Years and 8 Months</td>\n",
       "      <td>35.104023</td>\n",
       "      <td>380.0</td>\n",
       "    </tr>\n",
       "    <tr>\n",
       "      <th>99998</th>\n",
       "      <td>0x25fec</td>\n",
       "      <td>CUS_0x942c</td>\n",
       "      <td>July</td>\n",
       "      <td>Nicks</td>\n",
       "      <td>25.0</td>\n",
       "      <td>078-73-5990</td>\n",
       "      <td>Mechanic</td>\n",
       "      <td>39628.99</td>\n",
       "      <td>3359.415833</td>\n",
       "      <td>31 Years and 9 Months</td>\n",
       "      <td>35.104023</td>\n",
       "      <td>381.0</td>\n",
       "    </tr>\n",
       "    <tr>\n",
       "      <th>99999</th>\n",
       "      <td>0x25fed</td>\n",
       "      <td>CUS_0x942c</td>\n",
       "      <td>August</td>\n",
       "      <td>Nicks</td>\n",
       "      <td>25.0</td>\n",
       "      <td>078-73-5990</td>\n",
       "      <td>Mechanic</td>\n",
       "      <td>39628.99_</td>\n",
       "      <td>3359.415833</td>\n",
       "      <td>31 Years and 10 Months</td>\n",
       "      <td>35.104023</td>\n",
       "      <td>382.0</td>\n",
       "    </tr>\n",
       "  </tbody>\n",
       "</table>\n",
       "<p>37137 rows × 12 columns</p>\n",
       "</div>"
      ],
      "text/plain": [
       "            id customer_id    month           name   age          ssn  \\\n",
       "0       0x1602   CUS_0xd40  January  Aaron Maashoh  23.0  821-00-0265   \n",
       "2       0x1604   CUS_0xd40    March  Aaron Maashoh  23.0  821-00-0265   \n",
       "3       0x1605   CUS_0xd40    April  Aaron Maashoh  23.0  821-00-0265   \n",
       "4       0x1606   CUS_0xd40      May  Aaron Maashoh  23.0  821-00-0265   \n",
       "5       0x1607   CUS_0xd40     June  Aaron Maashoh  23.0  821-00-0265   \n",
       "...        ...         ...      ...            ...   ...          ...   \n",
       "99995  0x25fe9  CUS_0x942c    April          Nicks  25.0  078-73-5990   \n",
       "99996  0x25fea  CUS_0x942c      May          Nicks  25.0  078-73-5990   \n",
       "99997  0x25feb  CUS_0x942c     June          Nicks  25.0  078-73-5990   \n",
       "99998  0x25fec  CUS_0x942c     July          Nicks  25.0  078-73-5990   \n",
       "99999  0x25fed  CUS_0x942c   August          Nicks  25.0  078-73-5990   \n",
       "\n",
       "      occupation annual_income  monthly_inhand_salary      credit_history_age  \\\n",
       "0      Scientist      19114.12            1824.843333   22 Years and 1 Months   \n",
       "2      Scientist      19114.12                    NaN   22 Years and 3 Months   \n",
       "3      Scientist      19114.12                    NaN   22 Years and 4 Months   \n",
       "4      Scientist      19114.12            1824.843333   22 Years and 5 Months   \n",
       "5      Scientist      19114.12                    NaN   22 Years and 6 Months   \n",
       "...          ...           ...                    ...                     ...   \n",
       "99995   Mechanic      39628.99            3359.415833   31 Years and 6 Months   \n",
       "99996   Mechanic      39628.99            3359.415833   31 Years and 7 Months   \n",
       "99997   Mechanic      39628.99            3359.415833   31 Years and 8 Months   \n",
       "99998   Mechanic      39628.99            3359.415833   31 Years and 9 Months   \n",
       "99999   Mechanic     39628.99_            3359.415833  31 Years and 10 Months   \n",
       "\n",
       "       total_emi_per_month  credit_history_age_regulated  \n",
       "0                49.574949                         265.0  \n",
       "2                49.574949                         267.0  \n",
       "3                49.574949                         268.0  \n",
       "4                49.574949                         269.0  \n",
       "5                49.574949                         270.0  \n",
       "...                    ...                           ...  \n",
       "99995            35.104023                         378.0  \n",
       "99996            35.104023                         379.0  \n",
       "99997            35.104023                         380.0  \n",
       "99998            35.104023                         381.0  \n",
       "99999            35.104023                         382.0  \n",
       "\n",
       "[37137 rows x 12 columns]"
      ]
     },
     "execution_count": 39,
     "metadata": {},
     "output_type": "execute_result"
    }
   ],
   "source": [
    "df1[(df1['age']*12 - df1['credit_history_age_regulated']) < 13*12]"
   ]
  },
  {
   "cell_type": "markdown",
   "metadata": {},
   "source": [
    "Ở dữ liệu ban đầu có 100000 bản ghi mà dữ liệu trên có 37137 bản ghi chiếm khoảng 37%. Điều này cho thấy đáng ra những khách hàng có tuổi hiện tại trừ tuổi credit nhỏ hơn 13 tuổi tức là không thỏa mãn.\n",
    "\n",
    "ở đây cũng có thể nhìn thấy khách hàng mới 23 tuổi nhưng đã có 22 years and 6 months. Điều này là vô lý. sauy ra có thể do sai sót khi nhập liệu. Có thể đây là 22 months and 6 weeks chẳng hạn."
   ]
  },
  {
   "cell_type": "markdown",
   "metadata": {},
   "source": [
    "Hãy thử convert thành tuần "
   ]
  },
  {
   "cell_type": "code",
   "execution_count": 40,
   "metadata": {
    "execution": {
     "iopub.execute_input": "2025-04-18T14:32:15.675475Z",
     "iopub.status.busy": "2025-04-18T14:32:15.675145Z",
     "iopub.status.idle": "2025-04-18T14:32:15.681327Z",
     "shell.execute_reply": "2025-04-18T14:32:15.680307Z",
     "shell.execute_reply.started": "2025-04-18T14:32:15.675447Z"
    },
    "trusted": true
   },
   "outputs": [],
   "source": [
    "#Calculate the month from the entire string\n",
    "def convert_age_to_months(history_age):\n",
    "    if pd.notna(history_age):  # NaN checking\n",
    "        match = re.match(r\"(\\d+) Years\\s*and\\s*(\\d+) Months\", history_age)  # Regex \n",
    "        if match:\n",
    "            months = int(match.group(1))\n",
    "            weeks = int(match.group(2))\n",
    "            total_weeks = months * 4 + weeks \n",
    "            return total_weeks\n",
    "    return np.nan  #Return NaN if there is no match or if it is NaN"
   ]
  },
  {
   "cell_type": "code",
   "execution_count": 41,
   "metadata": {
    "execution": {
     "iopub.execute_input": "2025-04-18T14:32:15.682657Z",
     "iopub.status.busy": "2025-04-18T14:32:15.682305Z",
     "iopub.status.idle": "2025-04-18T14:32:15.883614Z",
     "shell.execute_reply": "2025-04-18T14:32:15.882469Z",
     "shell.execute_reply.started": "2025-04-18T14:32:15.682628Z"
    },
    "trusted": true
   },
   "outputs": [],
   "source": [
    "df1[\"credit_history_age_regulated\"] = df1[\"credit_history_age\"].transform(\n",
    "    convert_age_to_months)\n",
    "\n",
    "difference = 13*52"
   ]
  },
  {
   "cell_type": "code",
   "execution_count": 42,
   "metadata": {
    "execution": {
     "iopub.execute_input": "2025-04-18T14:32:15.885054Z",
     "iopub.status.busy": "2025-04-18T14:32:15.884726Z",
     "iopub.status.idle": "2025-04-18T14:32:15.896581Z",
     "shell.execute_reply": "2025-04-18T14:32:15.895514Z",
     "shell.execute_reply.started": "2025-04-18T14:32:15.885022Z"
    },
    "trusted": true
   },
   "outputs": [
    {
     "data": {
      "text/html": [
       "<div>\n",
       "<style scoped>\n",
       "    .dataframe tbody tr th:only-of-type {\n",
       "        vertical-align: middle;\n",
       "    }\n",
       "\n",
       "    .dataframe tbody tr th {\n",
       "        vertical-align: top;\n",
       "    }\n",
       "\n",
       "    .dataframe thead th {\n",
       "        text-align: right;\n",
       "    }\n",
       "</style>\n",
       "<table border=\"1\" class=\"dataframe\">\n",
       "  <thead>\n",
       "    <tr style=\"text-align: right;\">\n",
       "      <th></th>\n",
       "      <th>id</th>\n",
       "      <th>customer_id</th>\n",
       "      <th>month</th>\n",
       "      <th>name</th>\n",
       "      <th>age</th>\n",
       "      <th>ssn</th>\n",
       "      <th>occupation</th>\n",
       "      <th>annual_income</th>\n",
       "      <th>monthly_inhand_salary</th>\n",
       "      <th>credit_history_age</th>\n",
       "      <th>total_emi_per_month</th>\n",
       "      <th>credit_history_age_regulated</th>\n",
       "    </tr>\n",
       "  </thead>\n",
       "  <tbody>\n",
       "  </tbody>\n",
       "</table>\n",
       "</div>"
      ],
      "text/plain": [
       "Empty DataFrame\n",
       "Columns: [id, customer_id, month, name, age, ssn, occupation, annual_income, monthly_inhand_salary, credit_history_age, total_emi_per_month, credit_history_age_regulated]\n",
       "Index: []"
      ]
     },
     "execution_count": 42,
     "metadata": {},
     "output_type": "execute_result"
    }
   ],
   "source": [
    "df1[((df1['age']* 52) - df1['credit_history_age_regulated']) < difference]"
   ]
  },
  {
   "cell_type": "markdown",
   "metadata": {},
   "source": [
    "cell trên kiểm tra xem có bản ghi nào có tuổi hiện tại trừ đi tuổi credit mà < difference tính theo tuần không. Rất tốt là không có điều này có thể coi như giả định nhập liệu sai của ta ở trên có thể đúng."
   ]
  },
  {
   "cell_type": "code",
   "execution_count": 43,
   "metadata": {
    "execution": {
     "iopub.execute_input": "2025-04-18T14:32:15.897844Z",
     "iopub.status.busy": "2025-04-18T14:32:15.897513Z",
     "iopub.status.idle": "2025-04-18T14:32:15.927316Z",
     "shell.execute_reply": "2025-04-18T14:32:15.926147Z",
     "shell.execute_reply.started": "2025-04-18T14:32:15.897823Z"
    },
    "trusted": true
   },
   "outputs": [],
   "source": [
    "df1['credit_history_age'] = df1['credit_history_age_regulated']\n",
    "df1.drop('credit_history_age_regulated', axis=1, inplace=True)"
   ]
  },
  {
   "cell_type": "code",
   "execution_count": 44,
   "metadata": {
    "execution": {
     "iopub.execute_input": "2025-04-18T14:32:15.928702Z",
     "iopub.status.busy": "2025-04-18T14:32:15.928349Z",
     "iopub.status.idle": "2025-04-18T14:32:15.988572Z",
     "shell.execute_reply": "2025-04-18T14:32:15.987516Z",
     "shell.execute_reply.started": "2025-04-18T14:32:15.928667Z"
    },
    "trusted": true
   },
   "outputs": [
    {
     "data": {
      "text/plain": [
       "customer_id  credit_history_age\n",
       "CUS_0x1000   42.0                  1\n",
       "             43.0                  1\n",
       "             44.0                  1\n",
       "             45.0                  1\n",
       "             46.0                  1\n",
       "             47.0                  1\n",
       "             48.0                  1\n",
       "             49.0                  1\n",
       "CUS_0x1009   124.0                 1\n",
       "             125.0                 1\n",
       "             126.0                 1\n",
       "             127.0                 1\n",
       "             129.0                 1\n",
       "             130.0                 1\n",
       "             131.0                 1\n",
       "             NaN                   1\n",
       "CUS_0x100b   63.0                  1\n",
       "             65.0                  1\n",
       "             66.0                  1\n",
       "             67.0                  1\n",
       "Name: count, dtype: int64"
      ]
     },
     "execution_count": 44,
     "metadata": {},
     "output_type": "execute_result"
    }
   ],
   "source": [
    "df1.groupby('customer_id')['credit_history_age'].value_counts(dropna=False).head(20)"
   ]
  },
  {
   "cell_type": "markdown",
   "metadata": {},
   "source": [
    "Ta thấy ở mỗi khách hàng có tổi credit tăng dần theo tuần."
   ]
  },
  {
   "cell_type": "code",
   "execution_count": 45,
   "metadata": {
    "execution": {
     "iopub.execute_input": "2025-04-18T14:32:15.989417Z",
     "iopub.status.busy": "2025-04-18T14:32:15.989194Z",
     "iopub.status.idle": "2025-04-18T14:32:16.045274Z",
     "shell.execute_reply": "2025-04-18T14:32:16.044442Z",
     "shell.execute_reply.started": "2025-04-18T14:32:15.9894Z"
    },
    "trusted": true
   },
   "outputs": [
    {
     "data": {
      "text/plain": [
       "customer_id  credit_history_age\n",
       "CUS_0x1000   42.0                  1\n",
       "             43.0                  1\n",
       "             44.0                  1\n",
       "             45.0                  1\n",
       "             46.0                  1\n",
       "Name: count, dtype: int64"
      ]
     },
     "execution_count": 45,
     "metadata": {},
     "output_type": "execute_result"
    }
   ],
   "source": [
    "tmp_ = df1.groupby('customer_id')['credit_history_age'].value_counts(dropna=False)\n",
    "tmp_.head()"
   ]
  },
  {
   "cell_type": "code",
   "execution_count": 46,
   "metadata": {
    "execution": {
     "iopub.execute_input": "2025-04-18T14:32:16.046583Z",
     "iopub.status.busy": "2025-04-18T14:32:16.0462Z",
     "iopub.status.idle": "2025-04-18T14:32:16.054261Z",
     "shell.execute_reply": "2025-04-18T14:32:16.0534Z",
     "shell.execute_reply.started": "2025-04-18T14:32:16.046555Z"
    },
    "trusted": true
   },
   "outputs": [
    {
     "data": {
      "text/plain": [
       "MultiIndex([('CUS_0x1000',  42.0),\n",
       "            ('CUS_0x1000',  43.0),\n",
       "            ('CUS_0x1000',  44.0),\n",
       "            ('CUS_0x1000',  45.0),\n",
       "            ('CUS_0x1000',  46.0),\n",
       "            ('CUS_0x1000',  47.0),\n",
       "            ('CUS_0x1000',  48.0),\n",
       "            ('CUS_0x1000',  49.0),\n",
       "            ('CUS_0x1009', 124.0),\n",
       "            ('CUS_0x1009', 125.0),\n",
       "            ...\n",
       "            ( 'CUS_0xffc',  58.0),\n",
       "            ( 'CUS_0xffc',  59.0),\n",
       "            ( 'CUS_0xffd',  74.0),\n",
       "            ( 'CUS_0xffd',  75.0),\n",
       "            ( 'CUS_0xffd',  76.0),\n",
       "            ( 'CUS_0xffd',  77.0),\n",
       "            ( 'CUS_0xffd',  78.0),\n",
       "            ( 'CUS_0xffd',  79.0),\n",
       "            ( 'CUS_0xffd',  80.0),\n",
       "            ( 'CUS_0xffd',  81.0)],\n",
       "           names=['customer_id', 'credit_history_age'], length=94408)"
      ]
     },
     "execution_count": 46,
     "metadata": {},
     "output_type": "execute_result"
    }
   ],
   "source": [
    "tmp_.index"
   ]
  },
  {
   "cell_type": "code",
   "execution_count": 47,
   "metadata": {
    "execution": {
     "iopub.execute_input": "2025-04-18T14:32:16.05571Z",
     "iopub.status.busy": "2025-04-18T14:32:16.055368Z",
     "iopub.status.idle": "2025-04-18T14:32:16.081924Z",
     "shell.execute_reply": "2025-04-18T14:32:16.080887Z",
     "shell.execute_reply.started": "2025-04-18T14:32:16.055678Z"
    },
    "trusted": true
   },
   "outputs": [
    {
     "data": {
      "text/plain": [
       "customer_id  credit_history_age\n",
       "CUS_0x1009   NaN                   1\n",
       "CUS_0x100b   NaN                   1\n",
       "CUS_0x1013   NaN                   1\n",
       "CUS_0x1015   NaN                   1\n",
       "CUS_0x1026   NaN                   1\n",
       "                                  ..\n",
       "CUS_0xfe5    NaN                   1\n",
       "CUS_0xfea    NaN                   1\n",
       "CUS_0xff3    NaN                   1\n",
       "CUS_0xff4    NaN                   1\n",
       "CUS_0xffc    NaN                   2\n",
       "Name: count, Length: 6436, dtype: int64"
      ]
     },
     "execution_count": 47,
     "metadata": {},
     "output_type": "execute_result"
    }
   ],
   "source": [
    "tmp_[tmp_.index.get_level_values(1).isna()]"
   ]
  },
  {
   "cell_type": "code",
   "execution_count": 48,
   "metadata": {
    "execution": {
     "iopub.execute_input": "2025-04-18T14:32:16.083041Z",
     "iopub.status.busy": "2025-04-18T14:32:16.082817Z",
     "iopub.status.idle": "2025-04-18T14:32:16.103292Z",
     "shell.execute_reply": "2025-04-18T14:32:16.102332Z",
     "shell.execute_reply.started": "2025-04-18T14:32:16.083023Z"
    },
    "trusted": true
   },
   "outputs": [],
   "source": [
    "def fill_nan(group):\n",
    "    # Loop to fill NaN values từ trên xuống\n",
    "    for i in range(len(group)):\n",
    "        if pd.isna(group.loc[group.index[i], \"credit_history_age\"]):\n",
    "            if i > 0:\n",
    "                group.loc[group.index[i], \"credit_history_age\"] = group.loc[group.index[i-1], \"credit_history_age\"] + 1\n",
    "            else:\n",
    "                group.loc[group.index[i], \"credit_history_age\"] = np.nan  # Nếu là giá trị đầu tiên\n",
    "\n",
    "    # Loop để fill NaN còn lại từ dưới lên\n",
    "    for i in range(len(group) - 1, -1, -1):\n",
    "        if pd.isna(group.loc[group.index[i], \"credit_history_age\"]):\n",
    "            if i < len(group) - 1:\n",
    "                group.loc[group.index[i], \"credit_history_age\"] = group.loc[group.index[i+1], \"credit_history_age\"] - 1\n",
    "\n",
    "    return group"
   ]
  },
  {
   "cell_type": "code",
   "execution_count": 49,
   "metadata": {
    "execution": {
     "iopub.execute_input": "2025-04-18T14:32:16.104562Z",
     "iopub.status.busy": "2025-04-18T14:32:16.104216Z",
     "iopub.status.idle": "2025-04-18T14:32:23.086985Z",
     "shell.execute_reply": "2025-04-18T14:32:23.08611Z",
     "shell.execute_reply.started": "2025-04-18T14:32:16.104511Z"
    },
    "trusted": true
   },
   "outputs": [
    {
     "name": "stderr",
     "output_type": "stream",
     "text": [
      "/tmp/ipykernel_41511/988843339.py:1: DeprecationWarning: DataFrameGroupBy.apply operated on the grouping columns. This behavior is deprecated, and in a future version of pandas the grouping columns will be excluded from the operation. Either pass `include_groups=False` to exclude the groupings or explicitly select the grouping columns after groupby to silence this warning.\n",
      "  df1 = df1.groupby(\"customer_id\", group_keys=False).apply(fill_nan)\n"
     ]
    }
   ],
   "source": [
    "df1 = df1.groupby(\"customer_id\", group_keys=False).apply(fill_nan)"
   ]
  },
  {
   "cell_type": "code",
   "execution_count": 50,
   "metadata": {
    "execution": {
     "iopub.execute_input": "2025-04-18T14:32:23.088058Z",
     "iopub.status.busy": "2025-04-18T14:32:23.087846Z",
     "iopub.status.idle": "2025-04-18T14:32:23.140774Z",
     "shell.execute_reply": "2025-04-18T14:32:23.139943Z",
     "shell.execute_reply.started": "2025-04-18T14:32:23.088041Z"
    },
    "trusted": true
   },
   "outputs": [
    {
     "data": {
      "text/plain": [
       "customer_id  credit_history_age\n",
       "CUS_0x1000   42.0                  1\n",
       "             43.0                  1\n",
       "             44.0                  1\n",
       "             45.0                  1\n",
       "             46.0                  1\n",
       "             47.0                  1\n",
       "             48.0                  1\n",
       "             49.0                  1\n",
       "CUS_0x1009   124.0                 1\n",
       "             125.0                 1\n",
       "             126.0                 1\n",
       "             127.0                 1\n",
       "             128.0                 1\n",
       "             129.0                 1\n",
       "             130.0                 1\n",
       "             131.0                 1\n",
       "CUS_0x100b   63.0                  1\n",
       "             64.0                  1\n",
       "             65.0                  1\n",
       "             66.0                  1\n",
       "Name: count, dtype: int64"
      ]
     },
     "execution_count": 50,
     "metadata": {},
     "output_type": "execute_result"
    }
   ],
   "source": [
    "df1.groupby(\"customer_id\")[\"credit_history_age\"].value_counts(\n",
    "    dropna=False).sort_index().head(20)"
   ]
  },
  {
   "cell_type": "markdown",
   "metadata": {},
   "source": [
    "##### SSN"
   ]
  },
  {
   "cell_type": "code",
   "execution_count": 52,
   "metadata": {
    "execution": {
     "iopub.execute_input": "2025-04-18T14:32:23.161949Z",
     "iopub.status.busy": "2025-04-18T14:32:23.161629Z",
     "iopub.status.idle": "2025-04-18T14:32:23.182796Z",
     "shell.execute_reply": "2025-04-18T14:32:23.181912Z",
     "shell.execute_reply.started": "2025-04-18T14:32:23.161914Z"
    },
    "trusted": true
   },
   "outputs": [
    {
     "data": {
      "text/plain": [
       "ssn\n",
       "#F%$D@*&8      5370\n",
       "487-63-4849       8\n",
       "341-94-4616       8\n",
       "940-15-4402       8\n",
       "016-90-7822       8\n",
       "               ... \n",
       "642-73-7670       4\n",
       "856-06-6147       4\n",
       "838-33-4811       4\n",
       "331-28-1921       4\n",
       "753-72-2651       4\n",
       "Name: count, Length: 12088, dtype: int64"
      ]
     },
     "execution_count": 52,
     "metadata": {},
     "output_type": "execute_result"
    }
   ],
   "source": [
    "df1.ssn.value_counts()"
   ]
  },
  {
   "cell_type": "code",
   "execution_count": 53,
   "metadata": {
    "execution": {
     "iopub.execute_input": "2025-04-18T14:32:23.184317Z",
     "iopub.status.busy": "2025-04-18T14:32:23.184Z",
     "iopub.status.idle": "2025-04-18T14:32:27.286855Z",
     "shell.execute_reply": "2025-04-18T14:32:27.285832Z",
     "shell.execute_reply.started": "2025-04-18T14:32:23.184291Z"
    },
    "trusted": true
   },
   "outputs": [
    {
     "name": "stderr",
     "output_type": "stream",
     "text": [
      "/tmp/ipykernel_41511/1415374695.py:4: FutureWarning: Series.fillna with 'method' is deprecated and will raise in a future version. Use obj.ffill() or obj.bfill() instead.\n",
      "  lambda x: x.fillna(method=\"ffill\").fillna(method=\"bfill\"))\n"
     ]
    },
    {
     "data": {
      "text/plain": [
       "np.int64(0)"
      ]
     },
     "execution_count": 53,
     "metadata": {},
     "output_type": "execute_result"
    }
   ],
   "source": [
    "df1.loc[df1[\"ssn\"] == \"#F%$D@*&8\", \"ssn\"] = pd.NA\n",
    "\n",
    "df1[\"ssn\"] = df1.groupby(\"customer_id\")[\"ssn\"].transform(\n",
    "    lambda x: x.fillna(method=\"ffill\").fillna(method=\"bfill\"))\n",
    "\n",
    "df1[\"ssn\"].isna().sum()"
   ]
  },
  {
   "cell_type": "markdown",
   "metadata": {},
   "source": [
    "##### occupation"
   ]
  },
  {
   "cell_type": "code",
   "execution_count": 54,
   "metadata": {
    "execution": {
     "iopub.execute_input": "2025-04-18T14:32:27.288036Z",
     "iopub.status.busy": "2025-04-18T14:32:27.287809Z",
     "iopub.status.idle": "2025-04-18T14:32:27.302255Z",
     "shell.execute_reply": "2025-04-18T14:32:27.301587Z",
     "shell.execute_reply.started": "2025-04-18T14:32:27.288019Z"
    },
    "trusted": true
   },
   "outputs": [
    {
     "data": {
      "text/plain": [
       "occupation\n",
       "_______          6831\n",
       "Lawyer           6381\n",
       "Architect        6188\n",
       "Engineer         6127\n",
       "Accountant       6068\n",
       "Scientist        6066\n",
       "Developer        6062\n",
       "Mechanic         6059\n",
       "Media_Manager    6004\n",
       "Teacher          5967\n",
       "Journalist       5958\n",
       "Entrepreneur     5933\n",
       "Doctor           5890\n",
       "Musician         5739\n",
       "Manager          5727\n",
       "Writer           5696\n",
       "Name: count, dtype: int64"
      ]
     },
     "execution_count": 54,
     "metadata": {},
     "output_type": "execute_result"
    }
   ],
   "source": [
    "df1.occupation.value_counts()"
   ]
  },
  {
   "cell_type": "code",
   "execution_count": 55,
   "metadata": {
    "execution": {
     "iopub.execute_input": "2025-04-18T14:33:28.643627Z",
     "iopub.status.busy": "2025-04-18T14:33:28.643256Z",
     "iopub.status.idle": "2025-04-18T14:33:28.682764Z",
     "shell.execute_reply": "2025-04-18T14:33:28.682026Z",
     "shell.execute_reply.started": "2025-04-18T14:33:28.643603Z"
    },
    "trusted": true
   },
   "outputs": [
    {
     "data": {
      "text/plain": [
       "customer_id  occupation   \n",
       "CUS_0x1000   Lawyer           8\n",
       "CUS_0x1009   Mechanic         7\n",
       "             _______          1\n",
       "CUS_0x100b   Media_Manager    8\n",
       "CUS_0x1011   Doctor           8\n",
       "CUS_0x1013   Mechanic         8\n",
       "CUS_0x1015   Journalist       8\n",
       "CUS_0x1026   Manager          7\n",
       "             _______          1\n",
       "CUS_0x102d   Entrepreneur     7\n",
       "             _______          1\n",
       "CUS_0x102e   Scientist        8\n",
       "CUS_0x1032   Lawyer           8\n",
       "CUS_0x1037   Accountant       8\n",
       "CUS_0x1038   Architect        8\n",
       "CUS_0x103e   Scientist        8\n",
       "CUS_0x1044   Entrepreneur     7\n",
       "             _______          1\n",
       "CUS_0x1048   Accountant       8\n",
       "CUS_0x104a   Mechanic         8\n",
       "CUS_0x104e   Teacher          7\n",
       "             _______          1\n",
       "CUS_0x104f   Architect        7\n",
       "             _______          1\n",
       "CUS_0x1051   Engineer         7\n",
       "             _______          1\n",
       "CUS_0x1056   Entrepreneur     8\n",
       "CUS_0x1057   Writer           7\n",
       "             _______          1\n",
       "CUS_0x105b   Accountant       7\n",
       "Name: count, dtype: int64"
      ]
     },
     "execution_count": 55,
     "metadata": {},
     "output_type": "execute_result"
    }
   ],
   "source": [
    "df1.groupby(\"customer_id\")[\"occupation\"].value_counts().head(30)"
   ]
  },
  {
   "cell_type": "code",
   "execution_count": 56,
   "metadata": {
    "execution": {
     "iopub.execute_input": "2025-04-18T14:38:32.876327Z",
     "iopub.status.busy": "2025-04-18T14:38:32.87595Z",
     "iopub.status.idle": "2025-04-18T14:38:39.766424Z",
     "shell.execute_reply": "2025-04-18T14:38:39.765453Z",
     "shell.execute_reply.started": "2025-04-18T14:38:32.876302Z"
    },
    "trusted": true
   },
   "outputs": [
    {
     "name": "stdout",
     "output_type": "stream",
     "text": [
      "occupation\n",
      "Lawyer           6888\n",
      "Architect        6648\n",
      "Engineer         6616\n",
      "Developer        6536\n",
      "Mechanic         6528\n",
      "Accountant       6520\n",
      "Scientist        6496\n",
      "Media_Manager    6472\n",
      "Teacher          6408\n",
      "Journalist       6400\n",
      "Entrepreneur     6392\n",
      "Doctor           6352\n",
      "Manager          6168\n",
      "Musician         6168\n",
      "Writer           6104\n",
      "Name: count, dtype: int64\n"
     ]
    }
   ],
   "source": [
    "df1[\"occupation\"] = df1.groupby(\"customer_id\")[\"occupation\"].transform(\n",
    "    lambda x: x.where(x != \"_______\", x[x != \"_______\"].mode()[0]))\n",
    "\n",
    "print(df1[\"occupation\"].value_counts())"
   ]
  },
  {
   "cell_type": "code",
   "execution_count": 57,
   "metadata": {
    "execution": {
     "iopub.execute_input": "2025-04-18T14:41:16.996695Z",
     "iopub.status.busy": "2025-04-18T14:41:16.996054Z",
     "iopub.status.idle": "2025-04-18T14:41:17.030596Z",
     "shell.execute_reply": "2025-04-18T14:41:17.029674Z",
     "shell.execute_reply.started": "2025-04-18T14:41:16.996665Z"
    },
    "trusted": true
   },
   "outputs": [
    {
     "data": {
      "text/plain": [
       "np.int64(12087)"
      ]
     },
     "execution_count": 57,
     "metadata": {},
     "output_type": "execute_result"
    }
   ],
   "source": [
    "(df1.groupby(\"customer_id\")[\"occupation\"].nunique() == 1).sum()"
   ]
  },
  {
   "cell_type": "markdown",
   "metadata": {},
   "source": [
    "##### monthly_inhand_salary"
   ]
  },
  {
   "cell_type": "code",
   "execution_count": 58,
   "metadata": {
    "execution": {
     "iopub.execute_input": "2025-04-18T14:52:28.709064Z",
     "iopub.status.busy": "2025-04-18T14:52:28.708729Z",
     "iopub.status.idle": "2025-04-18T14:52:28.71821Z",
     "shell.execute_reply": "2025-04-18T14:52:28.717131Z",
     "shell.execute_reply.started": "2025-04-18T14:52:28.709042Z"
    },
    "trusted": true
   },
   "outputs": [
    {
     "data": {
      "text/plain": [
       "0        1824.843333\n",
       "1                NaN\n",
       "2                NaN\n",
       "3                NaN\n",
       "4        1824.843333\n",
       "            ...     \n",
       "99995    3359.415833\n",
       "99996    3359.415833\n",
       "99997    3359.415833\n",
       "99998    3359.415833\n",
       "99999    3359.415833\n",
       "Name: monthly_inhand_salary, Length: 96696, dtype: float64"
      ]
     },
     "execution_count": 58,
     "metadata": {},
     "output_type": "execute_result"
    }
   ],
   "source": [
    "df1[\"monthly_inhand_salary\"]"
   ]
  },
  {
   "cell_type": "code",
   "execution_count": 59,
   "metadata": {
    "execution": {
     "iopub.execute_input": "2025-04-18T14:53:32.45342Z",
     "iopub.status.busy": "2025-04-18T14:53:32.453056Z",
     "iopub.status.idle": "2025-04-18T14:53:32.464749Z",
     "shell.execute_reply": "2025-04-18T14:53:32.463624Z",
     "shell.execute_reply.started": "2025-04-18T14:53:32.453386Z"
    },
    "trusted": true
   },
   "outputs": [
    {
     "data": {
      "text/plain": [
       "monthly_inhand_salary\n",
       "NaN             14486\n",
       "6769.130000        15\n",
       "2295.058333        15\n",
       "6082.187500        15\n",
       "6358.956667        15\n",
       "                ...  \n",
       "2728.017745         1\n",
       "2671.207498         1\n",
       "5081.452604         1\n",
       "11102.135322        1\n",
       "1069.950000         1\n",
       "Name: count, Length: 12799, dtype: int64"
      ]
     },
     "execution_count": 59,
     "metadata": {},
     "output_type": "execute_result"
    }
   ],
   "source": [
    "df1[\"monthly_inhand_salary\"].value_counts(dropna=False)"
   ]
  },
  {
   "cell_type": "code",
   "execution_count": 60,
   "metadata": {
    "execution": {
     "iopub.execute_input": "2025-04-18T14:54:01.88897Z",
     "iopub.status.busy": "2025-04-18T14:54:01.888675Z",
     "iopub.status.idle": "2025-04-18T14:54:04.800258Z",
     "shell.execute_reply": "2025-04-18T14:54:04.799534Z",
     "shell.execute_reply.started": "2025-04-18T14:54:01.888948Z"
    },
    "trusted": true
   },
   "outputs": [
    {
     "name": "stderr",
     "output_type": "stream",
     "text": [
      "/tmp/ipykernel_41511/4243933595.py:3: FutureWarning: Series.fillna with 'method' is deprecated and will raise in a future version. Use obj.ffill() or obj.bfill() instead.\n",
      "  lambda x: x.fillna(method=\"ffill\").fillna(method=\"bfill\"))\n"
     ]
    },
    {
     "data": {
      "text/plain": [
       "np.int64(0)"
      ]
     },
     "execution_count": 60,
     "metadata": {},
     "output_type": "execute_result"
    }
   ],
   "source": [
    "df1[\"monthly_inhand_salary\"] = df1.groupby(\n",
    "    \"customer_id\")[\"monthly_inhand_salary\"].transform(\n",
    "        lambda x: x.fillna(method=\"ffill\").fillna(method=\"bfill\"))\n",
    "\n",
    "df1[\"monthly_inhand_salary\"].isna().sum()"
   ]
  },
  {
   "cell_type": "markdown",
   "metadata": {},
   "source": [
    "##### annual_income"
   ]
  },
  {
   "cell_type": "code",
   "execution_count": 61,
   "metadata": {
    "execution": {
     "iopub.execute_input": "2025-04-18T14:55:45.581694Z",
     "iopub.status.busy": "2025-04-18T14:55:45.581332Z",
     "iopub.status.idle": "2025-04-18T14:55:45.628099Z",
     "shell.execute_reply": "2025-04-18T14:55:45.627096Z",
     "shell.execute_reply.started": "2025-04-18T14:55:45.581671Z"
    },
    "trusted": true
   },
   "outputs": [
    {
     "data": {
      "text/plain": [
       "10      34847.84_\n",
       "27      30689.89_\n",
       "32      35547.71_\n",
       "56      34081.38_\n",
       "66     114838.41_\n",
       "94      88640.24_\n",
       "98      54392.16_\n",
       "106     8701.545_\n",
       "111     8701.545_\n",
       "115     25546.26_\n",
       "129     92047.08_\n",
       "151     97791.42_\n",
       "175    10183.015_\n",
       "180    106733.13_\n",
       "188    12600.445_\n",
       "197     57983.12_\n",
       "214     34290.12_\n",
       "217     43070.24_\n",
       "231    6515990.0_\n",
       "235     39641.54_\n",
       "Name: annual_income, dtype: object"
      ]
     },
     "execution_count": 61,
     "metadata": {},
     "output_type": "execute_result"
    }
   ],
   "source": [
    "df1[pd.to_numeric(df1[\"annual_income\"],\n",
    "                  errors=\"coerce\").isna()][\"annual_income\"].head(20)"
   ]
  },
  {
   "cell_type": "code",
   "execution_count": 62,
   "metadata": {
    "execution": {
     "iopub.execute_input": "2025-04-18T14:55:55.905401Z",
     "iopub.status.busy": "2025-04-18T14:55:55.905072Z",
     "iopub.status.idle": "2025-04-18T14:55:55.973002Z",
     "shell.execute_reply": "2025-04-18T14:55:55.972288Z",
     "shell.execute_reply.started": "2025-04-18T14:55:55.905377Z"
    },
    "trusted": true
   },
   "outputs": [
    {
     "data": {
      "text/plain": [
       "dtype('float64')"
      ]
     },
     "execution_count": 62,
     "metadata": {},
     "output_type": "execute_result"
    }
   ],
   "source": [
    "df1[\"annual_income\"] = df1[\"annual_income\"].str.strip(\"_\")\n",
    "\n",
    "df1[\"annual_income\"] = pd.to_numeric(df1[\"annual_income\"], downcast=\"integer\")\n",
    "\n",
    "df1[\"annual_income\"].dtype"
   ]
  },
  {
   "cell_type": "code",
   "execution_count": 63,
   "metadata": {
    "execution": {
     "iopub.execute_input": "2025-04-18T14:56:06.891555Z",
     "iopub.status.busy": "2025-04-18T14:56:06.891246Z",
     "iopub.status.idle": "2025-04-18T14:56:07.447983Z",
     "shell.execute_reply": "2025-04-18T14:56:07.447272Z",
     "shell.execute_reply.started": "2025-04-18T14:56:06.891509Z"
    },
    "trusted": true
   },
   "outputs": [
    {
     "data": {
      "text/plain": [
       "customer_id\n",
       "CUS_0x5c60     [19266.77]\n",
       "CUS_0x1414     [51093.12]\n",
       "CUS_0x205f     [34361.32]\n",
       "CUS_0x956d    [140254.28]\n",
       "CUS_0xc632     [33376.81]\n",
       "CUS_0x83d7     [21709.07]\n",
       "CUS_0x3e83     [33857.41]\n",
       "CUS_0x9cc3     [48657.42]\n",
       "CUS_0x1fbe     [29482.06]\n",
       "CUS_0x5b0d     [14433.94]\n",
       "CUS_0xe10      [81126.78]\n",
       "CUS_0x5215      [71285.0]\n",
       "CUS_0x41e7     [60574.48]\n",
       "CUS_0xc4c3     [32276.42]\n",
       "CUS_0x2f03      [61435.6]\n",
       "CUS_0x8b2c      [71479.6]\n",
       "CUS_0x413      [41806.16]\n",
       "CUS_0x4ac9     [95332.23]\n",
       "CUS_0x96b3     [61181.88]\n",
       "CUS_0x75fd     [13180.99]\n",
       "Name: annual_income, dtype: object"
      ]
     },
     "execution_count": 63,
     "metadata": {},
     "output_type": "execute_result"
    }
   ],
   "source": [
    "df1.groupby(\"customer_id\")[\"annual_income\"].unique().sample(20)"
   ]
  },
  {
   "cell_type": "code",
   "execution_count": 64,
   "metadata": {
    "execution": {
     "iopub.execute_input": "2025-04-18T15:31:45.066509Z",
     "iopub.status.busy": "2025-04-18T15:31:45.066127Z",
     "iopub.status.idle": "2025-04-18T15:31:45.591252Z",
     "shell.execute_reply": "2025-04-18T15:31:45.590307Z",
     "shell.execute_reply.started": "2025-04-18T15:31:45.066482Z"
    },
    "trusted": true
   },
   "outputs": [
    {
     "data": {
      "text/plain": [
       "customer_id\n",
       "CUS_0x1057     [86617.16, 1105753.0]\n",
       "CUS_0x108a    [36982.36, 11641815.0]\n",
       "CUS_0x10a9    [17603.265, 9032145.0]\n",
       "CUS_0x10b6     [23627.63, 5691341.0]\n",
       "CUS_0x10dd     [7572168.0, 105645.6]\n",
       "                       ...          \n",
       "CUS_0xe5b     [43568.84, 17488375.0]\n",
       "CUS_0xee1     [14630332.0, 17116.55]\n",
       "CUS_0xf20     [58063.48, 20189519.0]\n",
       "CUS_0xf55     [78443.48, 20350298.0]\n",
       "CUS_0xfa4      [15035.19, 7711339.0]\n",
       "Name: annual_income, Length: 937, dtype: object"
      ]
     },
     "execution_count": 64,
     "metadata": {},
     "output_type": "execute_result"
    }
   ],
   "source": [
    "filter_df = df1.groupby(\"customer_id\")[\"annual_income\"].unique()\n",
    "filter_df[filter_df.apply(lambda x: len(x) > 1)]"
   ]
  },
  {
   "cell_type": "code",
   "execution_count": 65,
   "metadata": {
    "execution": {
     "iopub.execute_input": "2025-04-18T15:32:54.374763Z",
     "iopub.status.busy": "2025-04-18T15:32:54.374432Z",
     "iopub.status.idle": "2025-04-18T15:32:54.406102Z",
     "shell.execute_reply": "2025-04-18T15:32:54.405192Z",
     "shell.execute_reply.started": "2025-04-18T15:32:54.374742Z"
    },
    "trusted": true
   },
   "outputs": [
    {
     "data": {
      "text/html": [
       "<div>\n",
       "<style scoped>\n",
       "    .dataframe tbody tr th:only-of-type {\n",
       "        vertical-align: middle;\n",
       "    }\n",
       "\n",
       "    .dataframe tbody tr th {\n",
       "        vertical-align: top;\n",
       "    }\n",
       "\n",
       "    .dataframe thead th {\n",
       "        text-align: right;\n",
       "    }\n",
       "</style>\n",
       "<table border=\"1\" class=\"dataframe\">\n",
       "  <thead>\n",
       "    <tr style=\"text-align: right;\">\n",
       "      <th></th>\n",
       "      <th>id</th>\n",
       "      <th>customer_id</th>\n",
       "      <th>month</th>\n",
       "      <th>name</th>\n",
       "      <th>age</th>\n",
       "      <th>ssn</th>\n",
       "      <th>occupation</th>\n",
       "      <th>annual_income</th>\n",
       "      <th>monthly_inhand_salary</th>\n",
       "      <th>credit_history_age</th>\n",
       "      <th>total_emi_per_month</th>\n",
       "    </tr>\n",
       "  </thead>\n",
       "  <tbody>\n",
       "    <tr>\n",
       "      <th>48</th>\n",
       "      <td>0x164a</td>\n",
       "      <td>CUS_0x284a</td>\n",
       "      <td>January</td>\n",
       "      <td>Nadiaq</td>\n",
       "      <td>33.0</td>\n",
       "      <td>411-51-0676</td>\n",
       "      <td>Lawyer</td>\n",
       "      <td>131313.40</td>\n",
       "      <td>11242.783333</td>\n",
       "      <td>127.0</td>\n",
       "      <td>137.644605</td>\n",
       "    </tr>\n",
       "    <tr>\n",
       "      <th>49</th>\n",
       "      <td>0x164b</td>\n",
       "      <td>CUS_0x284a</td>\n",
       "      <td>February</td>\n",
       "      <td>Nadiaq</td>\n",
       "      <td>34.0</td>\n",
       "      <td>411-51-0676</td>\n",
       "      <td>Lawyer</td>\n",
       "      <td>131313.40</td>\n",
       "      <td>11242.783333</td>\n",
       "      <td>128.0</td>\n",
       "      <td>137.644605</td>\n",
       "    </tr>\n",
       "    <tr>\n",
       "      <th>50</th>\n",
       "      <td>0x164c</td>\n",
       "      <td>CUS_0x284a</td>\n",
       "      <td>March</td>\n",
       "      <td>Nadiaq</td>\n",
       "      <td>34.0</td>\n",
       "      <td>411-51-0676</td>\n",
       "      <td>Lawyer</td>\n",
       "      <td>131313.40</td>\n",
       "      <td>10469.207759</td>\n",
       "      <td>129.0</td>\n",
       "      <td>911.220179</td>\n",
       "    </tr>\n",
       "    <tr>\n",
       "      <th>51</th>\n",
       "      <td>0x164d</td>\n",
       "      <td>CUS_0x284a</td>\n",
       "      <td>April</td>\n",
       "      <td>Nadiaq</td>\n",
       "      <td>34.0</td>\n",
       "      <td>411-51-0676</td>\n",
       "      <td>Lawyer</td>\n",
       "      <td>131313.40</td>\n",
       "      <td>10469.207759</td>\n",
       "      <td>130.0</td>\n",
       "      <td>23834.000000</td>\n",
       "    </tr>\n",
       "    <tr>\n",
       "      <th>52</th>\n",
       "      <td>0x164e</td>\n",
       "      <td>CUS_0x284a</td>\n",
       "      <td>May</td>\n",
       "      <td>Nadiaq</td>\n",
       "      <td>34.0</td>\n",
       "      <td>411-51-0676</td>\n",
       "      <td>Lawyer</td>\n",
       "      <td>131313.40</td>\n",
       "      <td>10469.207759</td>\n",
       "      <td>131.0</td>\n",
       "      <td>32662.000000</td>\n",
       "    </tr>\n",
       "    <tr>\n",
       "      <th>53</th>\n",
       "      <td>0x164f</td>\n",
       "      <td>CUS_0x284a</td>\n",
       "      <td>June</td>\n",
       "      <td>Nadiaq</td>\n",
       "      <td>34.0</td>\n",
       "      <td>411-51-0676</td>\n",
       "      <td>Lawyer</td>\n",
       "      <td>131313.40</td>\n",
       "      <td>10469.207759</td>\n",
       "      <td>124.0</td>\n",
       "      <td>911.220179</td>\n",
       "    </tr>\n",
       "    <tr>\n",
       "      <th>54</th>\n",
       "      <td>0x1650</td>\n",
       "      <td>CUS_0x284a</td>\n",
       "      <td>July</td>\n",
       "      <td>Nadiaq</td>\n",
       "      <td>34.0</td>\n",
       "      <td>411-51-0676</td>\n",
       "      <td>Lawyer</td>\n",
       "      <td>10909427.00</td>\n",
       "      <td>10469.207759</td>\n",
       "      <td>125.0</td>\n",
       "      <td>911.220179</td>\n",
       "    </tr>\n",
       "    <tr>\n",
       "      <th>55</th>\n",
       "      <td>0x1651</td>\n",
       "      <td>CUS_0x284a</td>\n",
       "      <td>August</td>\n",
       "      <td>Nadiaq</td>\n",
       "      <td>34.0</td>\n",
       "      <td>411-51-0676</td>\n",
       "      <td>Lawyer</td>\n",
       "      <td>131313.40</td>\n",
       "      <td>10469.207759</td>\n",
       "      <td>126.0</td>\n",
       "      <td>911.220179</td>\n",
       "    </tr>\n",
       "    <tr>\n",
       "      <th>224</th>\n",
       "      <td>0x1752</td>\n",
       "      <td>CUS_0xbffe</td>\n",
       "      <td>January</td>\n",
       "      <td>Dhanya Skariachano</td>\n",
       "      <td>40.0</td>\n",
       "      <td>311-13-7309</td>\n",
       "      <td>Architect</td>\n",
       "      <td>28572.39</td>\n",
       "      <td>2210.032500</td>\n",
       "      <td>123.0</td>\n",
       "      <td>69.602920</td>\n",
       "    </tr>\n",
       "    <tr>\n",
       "      <th>225</th>\n",
       "      <td>0x1753</td>\n",
       "      <td>CUS_0xbffe</td>\n",
       "      <td>February</td>\n",
       "      <td>Dhanya Skariachano</td>\n",
       "      <td>40.0</td>\n",
       "      <td>311-13-7309</td>\n",
       "      <td>Architect</td>\n",
       "      <td>28572.39</td>\n",
       "      <td>2210.032500</td>\n",
       "      <td>124.0</td>\n",
       "      <td>69.602920</td>\n",
       "    </tr>\n",
       "    <tr>\n",
       "      <th>226</th>\n",
       "      <td>0x1754</td>\n",
       "      <td>CUS_0xbffe</td>\n",
       "      <td>March</td>\n",
       "      <td>Dhanya Skariachano</td>\n",
       "      <td>40.0</td>\n",
       "      <td>311-13-7309</td>\n",
       "      <td>Architect</td>\n",
       "      <td>28572.39</td>\n",
       "      <td>2210.032500</td>\n",
       "      <td>125.0</td>\n",
       "      <td>69.602920</td>\n",
       "    </tr>\n",
       "    <tr>\n",
       "      <th>227</th>\n",
       "      <td>0x1755</td>\n",
       "      <td>CUS_0xbffe</td>\n",
       "      <td>April</td>\n",
       "      <td>Dhanya Skariachano</td>\n",
       "      <td>40.0</td>\n",
       "      <td>311-13-7309</td>\n",
       "      <td>Architect</td>\n",
       "      <td>28572.39</td>\n",
       "      <td>2210.032500</td>\n",
       "      <td>126.0</td>\n",
       "      <td>69.602920</td>\n",
       "    </tr>\n",
       "    <tr>\n",
       "      <th>228</th>\n",
       "      <td>0x1756</td>\n",
       "      <td>CUS_0xbffe</td>\n",
       "      <td>May</td>\n",
       "      <td>Dhanya Skariachano</td>\n",
       "      <td>40.0</td>\n",
       "      <td>311-13-7309</td>\n",
       "      <td>Architect</td>\n",
       "      <td>28572.39</td>\n",
       "      <td>2210.032500</td>\n",
       "      <td>127.0</td>\n",
       "      <td>69.602920</td>\n",
       "    </tr>\n",
       "    <tr>\n",
       "      <th>229</th>\n",
       "      <td>0x1757</td>\n",
       "      <td>CUS_0xbffe</td>\n",
       "      <td>June</td>\n",
       "      <td>Dhanya Skariachano</td>\n",
       "      <td>40.0</td>\n",
       "      <td>311-13-7309</td>\n",
       "      <td>Architect</td>\n",
       "      <td>28572.39</td>\n",
       "      <td>2210.032500</td>\n",
       "      <td>128.0</td>\n",
       "      <td>69.602920</td>\n",
       "    </tr>\n",
       "    <tr>\n",
       "      <th>230</th>\n",
       "      <td>0x1758</td>\n",
       "      <td>CUS_0xbffe</td>\n",
       "      <td>July</td>\n",
       "      <td>Dhanya Skariachano</td>\n",
       "      <td>40.0</td>\n",
       "      <td>311-13-7309</td>\n",
       "      <td>Architect</td>\n",
       "      <td>28572.39</td>\n",
       "      <td>2210.032500</td>\n",
       "      <td>129.0</td>\n",
       "      <td>69.602920</td>\n",
       "    </tr>\n",
       "    <tr>\n",
       "      <th>231</th>\n",
       "      <td>0x1759</td>\n",
       "      <td>CUS_0xbffe</td>\n",
       "      <td>August</td>\n",
       "      <td>Dhanya Skariachano</td>\n",
       "      <td>40.0</td>\n",
       "      <td>311-13-7309</td>\n",
       "      <td>Architect</td>\n",
       "      <td>6515990.00</td>\n",
       "      <td>2210.032500</td>\n",
       "      <td>130.0</td>\n",
       "      <td>69.602920</td>\n",
       "    </tr>\n",
       "    <tr>\n",
       "      <th>240</th>\n",
       "      <td>0x176a</td>\n",
       "      <td>CUS_0x9a71</td>\n",
       "      <td>January</td>\n",
       "      <td>Mukhopadhyayc</td>\n",
       "      <td>54.0</td>\n",
       "      <td>889-07-2357</td>\n",
       "      <td>Scientist</td>\n",
       "      <td>20186.02</td>\n",
       "      <td>1684.168333</td>\n",
       "      <td>75.0</td>\n",
       "      <td>29.534584</td>\n",
       "    </tr>\n",
       "    <tr>\n",
       "      <th>241</th>\n",
       "      <td>0x176b</td>\n",
       "      <td>CUS_0x9a71</td>\n",
       "      <td>February</td>\n",
       "      <td>Mukhopadhyayc</td>\n",
       "      <td>54.0</td>\n",
       "      <td>889-07-2357</td>\n",
       "      <td>Scientist</td>\n",
       "      <td>20186.02</td>\n",
       "      <td>1684.168333</td>\n",
       "      <td>76.0</td>\n",
       "      <td>14130.000000</td>\n",
       "    </tr>\n",
       "    <tr>\n",
       "      <th>242</th>\n",
       "      <td>0x176c</td>\n",
       "      <td>CUS_0x9a71</td>\n",
       "      <td>March</td>\n",
       "      <td>Mukhopadhyayc</td>\n",
       "      <td>55.0</td>\n",
       "      <td>889-07-2357</td>\n",
       "      <td>Scientist</td>\n",
       "      <td>20186.02</td>\n",
       "      <td>1684.168333</td>\n",
       "      <td>77.0</td>\n",
       "      <td>29.534584</td>\n",
       "    </tr>\n",
       "    <tr>\n",
       "      <th>243</th>\n",
       "      <td>0x176d</td>\n",
       "      <td>CUS_0x9a71</td>\n",
       "      <td>April</td>\n",
       "      <td>Mukhopadhyayc</td>\n",
       "      <td>55.0</td>\n",
       "      <td>889-07-2357</td>\n",
       "      <td>Scientist</td>\n",
       "      <td>20186.02</td>\n",
       "      <td>1684.168333</td>\n",
       "      <td>78.0</td>\n",
       "      <td>29.534584</td>\n",
       "    </tr>\n",
       "  </tbody>\n",
       "</table>\n",
       "</div>"
      ],
      "text/plain": [
       "         id customer_id     month                name   age          ssn  \\\n",
       "48   0x164a  CUS_0x284a   January              Nadiaq  33.0  411-51-0676   \n",
       "49   0x164b  CUS_0x284a  February              Nadiaq  34.0  411-51-0676   \n",
       "50   0x164c  CUS_0x284a     March              Nadiaq  34.0  411-51-0676   \n",
       "51   0x164d  CUS_0x284a     April              Nadiaq  34.0  411-51-0676   \n",
       "52   0x164e  CUS_0x284a       May              Nadiaq  34.0  411-51-0676   \n",
       "53   0x164f  CUS_0x284a      June              Nadiaq  34.0  411-51-0676   \n",
       "54   0x1650  CUS_0x284a      July              Nadiaq  34.0  411-51-0676   \n",
       "55   0x1651  CUS_0x284a    August              Nadiaq  34.0  411-51-0676   \n",
       "224  0x1752  CUS_0xbffe   January  Dhanya Skariachano  40.0  311-13-7309   \n",
       "225  0x1753  CUS_0xbffe  February  Dhanya Skariachano  40.0  311-13-7309   \n",
       "226  0x1754  CUS_0xbffe     March  Dhanya Skariachano  40.0  311-13-7309   \n",
       "227  0x1755  CUS_0xbffe     April  Dhanya Skariachano  40.0  311-13-7309   \n",
       "228  0x1756  CUS_0xbffe       May  Dhanya Skariachano  40.0  311-13-7309   \n",
       "229  0x1757  CUS_0xbffe      June  Dhanya Skariachano  40.0  311-13-7309   \n",
       "230  0x1758  CUS_0xbffe      July  Dhanya Skariachano  40.0  311-13-7309   \n",
       "231  0x1759  CUS_0xbffe    August  Dhanya Skariachano  40.0  311-13-7309   \n",
       "240  0x176a  CUS_0x9a71   January       Mukhopadhyayc  54.0  889-07-2357   \n",
       "241  0x176b  CUS_0x9a71  February       Mukhopadhyayc  54.0  889-07-2357   \n",
       "242  0x176c  CUS_0x9a71     March       Mukhopadhyayc  55.0  889-07-2357   \n",
       "243  0x176d  CUS_0x9a71     April       Mukhopadhyayc  55.0  889-07-2357   \n",
       "\n",
       "    occupation  annual_income  monthly_inhand_salary  credit_history_age  \\\n",
       "48      Lawyer      131313.40           11242.783333               127.0   \n",
       "49      Lawyer      131313.40           11242.783333               128.0   \n",
       "50      Lawyer      131313.40           10469.207759               129.0   \n",
       "51      Lawyer      131313.40           10469.207759               130.0   \n",
       "52      Lawyer      131313.40           10469.207759               131.0   \n",
       "53      Lawyer      131313.40           10469.207759               124.0   \n",
       "54      Lawyer    10909427.00           10469.207759               125.0   \n",
       "55      Lawyer      131313.40           10469.207759               126.0   \n",
       "224  Architect       28572.39            2210.032500               123.0   \n",
       "225  Architect       28572.39            2210.032500               124.0   \n",
       "226  Architect       28572.39            2210.032500               125.0   \n",
       "227  Architect       28572.39            2210.032500               126.0   \n",
       "228  Architect       28572.39            2210.032500               127.0   \n",
       "229  Architect       28572.39            2210.032500               128.0   \n",
       "230  Architect       28572.39            2210.032500               129.0   \n",
       "231  Architect     6515990.00            2210.032500               130.0   \n",
       "240  Scientist       20186.02            1684.168333                75.0   \n",
       "241  Scientist       20186.02            1684.168333                76.0   \n",
       "242  Scientist       20186.02            1684.168333                77.0   \n",
       "243  Scientist       20186.02            1684.168333                78.0   \n",
       "\n",
       "     total_emi_per_month  \n",
       "48            137.644605  \n",
       "49            137.644605  \n",
       "50            911.220179  \n",
       "51          23834.000000  \n",
       "52          32662.000000  \n",
       "53            911.220179  \n",
       "54            911.220179  \n",
       "55            911.220179  \n",
       "224            69.602920  \n",
       "225            69.602920  \n",
       "226            69.602920  \n",
       "227            69.602920  \n",
       "228            69.602920  \n",
       "229            69.602920  \n",
       "230            69.602920  \n",
       "231            69.602920  \n",
       "240            29.534584  \n",
       "241         14130.000000  \n",
       "242            29.534584  \n",
       "243            29.534584  "
      ]
     },
     "execution_count": 65,
     "metadata": {},
     "output_type": "execute_result"
    }
   ],
   "source": [
    "df1[df1['customer_id'].isin(filter_df[filter_df.apply(lambda x: len(x) > 1)].index)].head(20)"
   ]
  },
  {
   "cell_type": "code",
   "execution_count": 66,
   "metadata": {
    "execution": {
     "iopub.execute_input": "2025-04-18T15:36:49.145064Z",
     "iopub.status.busy": "2025-04-18T15:36:49.144661Z",
     "iopub.status.idle": "2025-04-18T15:36:51.316066Z",
     "shell.execute_reply": "2025-04-18T15:36:51.315157Z",
     "shell.execute_reply.started": "2025-04-18T15:36:49.145036Z"
    },
    "trusted": true
   },
   "outputs": [],
   "source": [
    "# Tìm mode của annual_income theo customer_id\n",
    "mode_income = df1.groupby('customer_id')['annual_income'].agg(lambda x: x.mode().iloc[0])\n",
    "\n",
    "# Thay những giá trị khác mode bằng mode\n",
    "df1['annual_income'] = df1.apply(\n",
    "    lambda row: mode_income[row['customer_id']] if row['annual_income'] != mode_income[row['customer_id']] else row['annual_income'],\n",
    "    axis=1\n",
    ")"
   ]
  },
  {
   "cell_type": "markdown",
   "metadata": {},
   "source": [
    "##### total_emi_per_month"
   ]
  },
  {
   "cell_type": "code",
   "execution_count": 67,
   "metadata": {
    "execution": {
     "iopub.execute_input": "2025-04-18T16:04:59.890052Z",
     "iopub.status.busy": "2025-04-18T16:04:59.889663Z",
     "iopub.status.idle": "2025-04-18T16:04:59.907031Z",
     "shell.execute_reply": "2025-04-18T16:04:59.90591Z",
     "shell.execute_reply.started": "2025-04-18T16:04:59.890025Z"
    },
    "trusted": true
   },
   "outputs": [
    {
     "data": {
      "text/plain": [
       "id                       3041\n",
       "customer_id              3041\n",
       "month                    3041\n",
       "name                     3041\n",
       "age                      3041\n",
       "ssn                      3041\n",
       "occupation               3041\n",
       "annual_income            3041\n",
       "monthly_inhand_salary    3041\n",
       "credit_history_age       3041\n",
       "total_emi_per_month      3041\n",
       "dtype: int64"
      ]
     },
     "execution_count": 67,
     "metadata": {},
     "output_type": "execute_result"
    }
   ],
   "source": [
    "#The value of total_emi_per_month is typically around 30%-40% of the monthly income.\n",
    "df1.loc[df1[\"total_emi_per_month\"] > df1[\"monthly_inhand_salary\"] *\n",
    "        0.3].count()"
   ]
  },
  {
   "cell_type": "code",
   "execution_count": 68,
   "metadata": {
    "execution": {
     "iopub.execute_input": "2025-04-18T16:05:15.857504Z",
     "iopub.status.busy": "2025-04-18T16:05:15.857119Z",
     "iopub.status.idle": "2025-04-18T16:05:15.893858Z",
     "shell.execute_reply": "2025-04-18T16:05:15.893034Z",
     "shell.execute_reply.started": "2025-04-18T16:05:15.857484Z"
    },
    "trusted": true
   },
   "outputs": [
    {
     "data": {
      "text/plain": [
       "customer_id  monthly_inhand_salary  total_emi_per_month\n",
       "CUS_0x1013   7962.415000            48538.0                1\n",
       "CUS_0x103e   8262.233333            27369.0                1\n",
       "CUS_0x105b   2575.017500            79286.0                1\n",
       "CUS_0x1069   4799.445000            10251.0                1\n",
       "CUS_0x106f   11102.590000           60413.0                1\n",
       "CUS_0x1098   1468.081667            49236.0                1\n",
       "CUS_0x109b   2610.827500            58850.0                1\n",
       "CUS_0x10b3   11127.883333           52503.0                1\n",
       "CUS_0x10b6   1712.969167            37404.0                1\n",
       "CUS_0x10c5   13180.596667           53804.0                1\n",
       "CUS_0x10d7   1380.678333            11569.0                1\n",
       "CUS_0x10df   828.436250             1436.0                 1\n",
       "CUS_0x1119   4593.825000            65629.0                1\n",
       "CUS_0x1135   6896.525000            47946.0                1\n",
       "CUS_0x114b   9104.580000            53636.0                1\n",
       "CUS_0x1152   2510.705833            26959.0                1\n",
       "CUS_0x1155   12927.956667           33909.0                1\n",
       "CUS_0x115c   3401.646667            15443.0                1\n",
       "CUS_0x1190   3661.838333            76671.0                1\n",
       "CUS_0x1193   2571.476667            1928.0                 1\n",
       "Name: count, dtype: int64"
      ]
     },
     "execution_count": 68,
     "metadata": {},
     "output_type": "execute_result"
    }
   ],
   "source": [
    "df1.loc[df1[\"total_emi_per_month\"] > df1[\"monthly_inhand_salary\"] *\n",
    "        0.3].groupby([\"customer_id\"\n",
    "                      ])[[\"monthly_inhand_salary\",\n",
    "                          \"total_emi_per_month\"]].value_counts().head(20)"
   ]
  },
  {
   "cell_type": "code",
   "execution_count": 69,
   "metadata": {
    "execution": {
     "iopub.execute_input": "2025-04-18T16:05:24.471225Z",
     "iopub.status.busy": "2025-04-18T16:05:24.470137Z",
     "iopub.status.idle": "2025-04-18T16:05:28.203144Z",
     "shell.execute_reply": "2025-04-18T16:05:28.202283Z",
     "shell.execute_reply.started": "2025-04-18T16:05:24.471169Z"
    },
    "trusted": true
   },
   "outputs": [
    {
     "data": {
      "text/plain": [
       "np.int64(0)"
      ]
     },
     "execution_count": 69,
     "metadata": {},
     "output_type": "execute_result"
    }
   ],
   "source": [
    "df1.loc[df1[\"total_emi_per_month\"] > df1[\"monthly_inhand_salary\"] * 0.3,\n",
    "        \"total_emi_per_month\"] = np.nan\n",
    "\n",
    "df1[\"total_emi_per_month\"] = df1.groupby(\n",
    "    \"customer_id\")[\"total_emi_per_month\"].transform(\n",
    "        lambda x: x.fillna(x.mode()[0]) if not x.mode().empty else x)\n",
    "\n",
    "df1[\"total_emi_per_month\"].isna().sum()"
   ]
  },
  {
   "cell_type": "code",
   "execution_count": 71,
   "metadata": {
    "execution": {
     "iopub.execute_input": "2025-04-18T16:05:37.166334Z",
     "iopub.status.busy": "2025-04-18T16:05:37.165964Z",
     "iopub.status.idle": "2025-04-18T16:05:37.213068Z",
     "shell.execute_reply": "2025-04-18T16:05:37.212297Z",
     "shell.execute_reply.started": "2025-04-18T16:05:37.166307Z"
    },
    "trusted": true
   },
   "outputs": [
    {
     "data": {
      "text/plain": [
       "customer_id  total_emi_per_month\n",
       "CUS_0x105b   0.000000               5\n",
       "             285.423800             3\n",
       "CUS_0x106f   143.483732             7\n",
       "             1357.000000            1\n",
       "CUS_0x1075   43.385046              4\n",
       "             196.027162             4\n",
       "CUS_0x108a   454.419552             6\n",
       "             200.370042             2\n",
       "CUS_0x10a9   0.000000               5\n",
       "             102.992772             3\n",
       "CUS_0x10f9   0.000000               7\n",
       "             1494.838012            1\n",
       "CUS_0x1130   988.448091             5\n",
       "             0.000000               3\n",
       "CUS_0x1134   76.539303              7\n",
       "             29.035514              1\n",
       "CUS_0x1168   96.749710              7\n",
       "             1950.000000            1\n",
       "CUS_0x1182   301.843757             4\n",
       "             1169.809116            4\n",
       "Name: count, dtype: int64"
      ]
     },
     "execution_count": 71,
     "metadata": {},
     "output_type": "execute_result"
    }
   ],
   "source": [
    "filtered_df = df1.groupby(\n",
    "    \"customer_id\")[\"total_emi_per_month\"].nunique().loc[lambda x: x > 1].index\n",
    "\n",
    "df1[df1[\"customer_id\"].isin(filtered_df)].groupby(\n",
    "    \"customer_id\")[\"total_emi_per_month\"].value_counts().head(20)"
   ]
  },
  {
   "cell_type": "code",
   "execution_count": 72,
   "metadata": {
    "execution": {
     "iopub.execute_input": "2025-04-18T16:07:45.353205Z",
     "iopub.status.busy": "2025-04-18T16:07:45.352856Z",
     "iopub.status.idle": "2025-04-18T16:07:47.431426Z",
     "shell.execute_reply": "2025-04-18T16:07:47.430558Z",
     "shell.execute_reply.started": "2025-04-18T16:07:45.353183Z"
    },
    "trusted": true
   },
   "outputs": [],
   "source": [
    "#More than 1 unique total_emi_per_month and their value_counts\n",
    "filtered_df = df1[df1[\"customer_id\"].isin(filtered_df)].groupby(\n",
    "    \"customer_id\")[\"total_emi_per_month\"].value_counts()\n",
    "\n",
    "for (customer_id, emi_value), count in filtered_df.items():\n",
    "    # Check if the count of total_emi_per_month is 1\n",
    "    if count == 1:\n",
    "        # Extract total_emi_per_month values for the current customer_id\n",
    "        customer_data = df1[df1[\"customer_id\"] ==\n",
    "                            customer_id][\"total_emi_per_month\"]\n",
    "\n",
    "        # Check if the current emi_value is not the first or last value\n",
    "        if not (emi_value == customer_data.iloc[0]\n",
    "                or emi_value == customer_data.iloc[-1]):\n",
    "            # Get the mode value\n",
    "            mode_value = customer_data.mode()\n",
    "            # Replace the emi_value with the mode\n",
    "            df1.loc[(df1[\"customer_id\"] == customer_id) &\n",
    "                    (df1[\"total_emi_per_month\"] == emi_value),\n",
    "                    \"total_emi_per_month\"] = mode_value[0]"
   ]
  },
  {
   "cell_type": "code",
   "execution_count": 73,
   "metadata": {
    "execution": {
     "iopub.execute_input": "2025-04-18T16:08:05.96451Z",
     "iopub.status.busy": "2025-04-18T16:08:05.964127Z",
     "iopub.status.idle": "2025-04-18T16:08:05.976687Z",
     "shell.execute_reply": "2025-04-18T16:08:05.975625Z",
     "shell.execute_reply.started": "2025-04-18T16:08:05.964484Z"
    },
    "trusted": true
   },
   "outputs": [
    {
     "data": {
      "text/plain": [
       "total_emi_per_month\n",
       "152.557166    1\n",
       "129.035750    1\n",
       "182.739733    1\n",
       "45.355560     1\n",
       "203.355777    1\n",
       "176.518429    1\n",
       "950.312352    1\n",
       "199.393603    1\n",
       "37.669844     1\n",
       "20.289966     1\n",
       "157.760530    1\n",
       "394.861724    1\n",
       "65.317609     1\n",
       "37.933167     1\n",
       "94.861737     1\n",
       "142.575851    1\n",
       "83.395483     1\n",
       "660.808744    1\n",
       "25.229572     1\n",
       "242.612857    1\n",
       "Name: count, dtype: int64"
      ]
     },
     "execution_count": 73,
     "metadata": {},
     "output_type": "execute_result"
    }
   ],
   "source": [
    "df1.total_emi_per_month.value_counts().sort_values().head(20)"
   ]
  },
  {
   "cell_type": "code",
   "execution_count": 74,
   "metadata": {
    "execution": {
     "iopub.execute_input": "2025-04-18T16:10:47.401954Z",
     "iopub.status.busy": "2025-04-18T16:10:47.401609Z",
     "iopub.status.idle": "2025-04-18T16:10:48.119347Z",
     "shell.execute_reply": "2025-04-18T16:10:48.117467Z",
     "shell.execute_reply.started": "2025-04-18T16:10:47.401932Z"
    },
    "trusted": true
   },
   "outputs": [
    {
     "data": {
      "image/png": "[encoded data removed]",
      "text/plain": [
       "<Figure size 1000x500 with 1 Axes>"
      ]
     },
     "metadata": {},
     "output_type": "display_data"
    }
   ],
   "source": [
    "plt.figure(figsize=(10, 5))\n",
    "sns.histplot(data=df1, x=\"total_emi_per_month\", bins=10, kde=True, color='blue')\n",
    "\n",
    "plt.title('Distribution of total_emi_per_month', fontsize=16)\n",
    "plt.xlabel('Total EMI per Month', fontsize=14)\n",
    "plt.ylabel('Frequency', fontsize=14)\n",
    "\n",
    "plt.grid(axis='y', linestyle='--', alpha=0.7)\n",
    "\n",
    "plt.tight_layout()\n",
    "plt.show()"
   ]
  },
  {
   "cell_type": "markdown",
   "metadata": {},
   "source": [
    "#### Df2"
   ]
  },
  {
   "cell_type": "code",
   "execution_count": 77,
   "metadata": {
    "execution": {
     "iopub.execute_input": "2025-04-18T16:27:51.287993Z",
     "iopub.status.busy": "2025-04-18T16:27:51.287712Z",
     "iopub.status.idle": "2025-04-18T16:27:51.730628Z",
     "shell.execute_reply": "2025-04-18T16:27:51.729671Z",
     "shell.execute_reply.started": "2025-04-18T16:27:51.287975Z"
    },
    "trusted": true
   },
   "outputs": [
    {
     "data": {
      "text/html": [
       "<div>\n",
       "<style scoped>\n",
       "    .dataframe tbody tr th:only-of-type {\n",
       "        vertical-align: middle;\n",
       "    }\n",
       "\n",
       "    .dataframe tbody tr th {\n",
       "        vertical-align: top;\n",
       "    }\n",
       "\n",
       "    .dataframe thead th {\n",
       "        text-align: right;\n",
       "    }\n",
       "</style>\n",
       "<table border=\"1\" class=\"dataframe\">\n",
       "  <thead>\n",
       "    <tr style=\"text-align: right;\">\n",
       "      <th></th>\n",
       "      <th>Customer_ID</th>\n",
       "      <th>Num_Bank_Accounts</th>\n",
       "      <th>Num_Credit_Card</th>\n",
       "      <th>Interest_Rate</th>\n",
       "      <th>Num_of_Loan</th>\n",
       "      <th>Type_of_Loan</th>\n",
       "      <th>Delay_from_due_date</th>\n",
       "      <th>Num_of_Delayed_Payment</th>\n",
       "      <th>Changed_Credit_Limit</th>\n",
       "      <th>Num_Credit_Inquiries</th>\n",
       "      <th>Credit_Mix</th>\n",
       "      <th>Outstanding_Debt</th>\n",
       "    </tr>\n",
       "  </thead>\n",
       "  <tbody>\n",
       "    <tr>\n",
       "      <th>0</th>\n",
       "      <td>CUS_0xd40</td>\n",
       "      <td>3</td>\n",
       "      <td>4</td>\n",
       "      <td>3</td>\n",
       "      <td>4</td>\n",
       "      <td>Auto Loan, Credit-Builder Loan, Personal Loan,...</td>\n",
       "      <td>3</td>\n",
       "      <td>7</td>\n",
       "      <td>11.27</td>\n",
       "      <td>4.0</td>\n",
       "      <td>_</td>\n",
       "      <td>809.98</td>\n",
       "    </tr>\n",
       "    <tr>\n",
       "      <th>1</th>\n",
       "      <td>CUS_0xd40</td>\n",
       "      <td>3</td>\n",
       "      <td>4</td>\n",
       "      <td>3</td>\n",
       "      <td>4</td>\n",
       "      <td>Auto Loan, Credit-Builder Loan, Personal Loan,...</td>\n",
       "      <td>-1</td>\n",
       "      <td>NaN</td>\n",
       "      <td>11.27</td>\n",
       "      <td>4.0</td>\n",
       "      <td>Good</td>\n",
       "      <td>809.98</td>\n",
       "    </tr>\n",
       "    <tr>\n",
       "      <th>2</th>\n",
       "      <td>CUS_0xd40</td>\n",
       "      <td>3</td>\n",
       "      <td>4</td>\n",
       "      <td>3</td>\n",
       "      <td>4</td>\n",
       "      <td>Auto Loan, Credit-Builder Loan, Personal Loan,...</td>\n",
       "      <td>3</td>\n",
       "      <td>7</td>\n",
       "      <td>_</td>\n",
       "      <td>4.0</td>\n",
       "      <td>Good</td>\n",
       "      <td>809.98</td>\n",
       "    </tr>\n",
       "    <tr>\n",
       "      <th>3</th>\n",
       "      <td>CUS_0xd40</td>\n",
       "      <td>3</td>\n",
       "      <td>4</td>\n",
       "      <td>3</td>\n",
       "      <td>4</td>\n",
       "      <td>Auto Loan, Credit-Builder Loan, Personal Loan,...</td>\n",
       "      <td>5</td>\n",
       "      <td>4</td>\n",
       "      <td>6.27</td>\n",
       "      <td>4.0</td>\n",
       "      <td>Good</td>\n",
       "      <td>809.98</td>\n",
       "    </tr>\n",
       "    <tr>\n",
       "      <th>4</th>\n",
       "      <td>CUS_0xd40</td>\n",
       "      <td>3</td>\n",
       "      <td>4</td>\n",
       "      <td>3</td>\n",
       "      <td>4</td>\n",
       "      <td>Auto Loan, Credit-Builder Loan, Personal Loan,...</td>\n",
       "      <td>6</td>\n",
       "      <td>NaN</td>\n",
       "      <td>11.27</td>\n",
       "      <td>4.0</td>\n",
       "      <td>Good</td>\n",
       "      <td>809.98</td>\n",
       "    </tr>\n",
       "    <tr>\n",
       "      <th>5</th>\n",
       "      <td>CUS_0xd40</td>\n",
       "      <td>3</td>\n",
       "      <td>4</td>\n",
       "      <td>3</td>\n",
       "      <td>4</td>\n",
       "      <td>Auto Loan, Credit-Builder Loan, Personal Loan,...</td>\n",
       "      <td>8</td>\n",
       "      <td>4</td>\n",
       "      <td>9.27</td>\n",
       "      <td>4.0</td>\n",
       "      <td>Good</td>\n",
       "      <td>809.98</td>\n",
       "    </tr>\n",
       "    <tr>\n",
       "      <th>6</th>\n",
       "      <td>CUS_0xd40</td>\n",
       "      <td>3</td>\n",
       "      <td>4</td>\n",
       "      <td>3</td>\n",
       "      <td>4</td>\n",
       "      <td>Auto Loan, Credit-Builder Loan, Personal Loan,...</td>\n",
       "      <td>3</td>\n",
       "      <td>8_</td>\n",
       "      <td>11.27</td>\n",
       "      <td>4.0</td>\n",
       "      <td>Good</td>\n",
       "      <td>809.98</td>\n",
       "    </tr>\n",
       "    <tr>\n",
       "      <th>7</th>\n",
       "      <td>CUS_0xd40</td>\n",
       "      <td>3</td>\n",
       "      <td>4</td>\n",
       "      <td>3</td>\n",
       "      <td>4</td>\n",
       "      <td>Auto Loan, Credit-Builder Loan, Personal Loan,...</td>\n",
       "      <td>3</td>\n",
       "      <td>6</td>\n",
       "      <td>11.27</td>\n",
       "      <td>4.0</td>\n",
       "      <td>Good</td>\n",
       "      <td>809.98</td>\n",
       "    </tr>\n",
       "    <tr>\n",
       "      <th>8</th>\n",
       "      <td>CUS_0x21b1</td>\n",
       "      <td>2</td>\n",
       "      <td>4</td>\n",
       "      <td>6</td>\n",
       "      <td>1</td>\n",
       "      <td>Credit-Builder Loan</td>\n",
       "      <td>3</td>\n",
       "      <td>4</td>\n",
       "      <td>5.42</td>\n",
       "      <td>2.0</td>\n",
       "      <td>Good</td>\n",
       "      <td>605.03</td>\n",
       "    </tr>\n",
       "    <tr>\n",
       "      <th>9</th>\n",
       "      <td>CUS_0x21b1</td>\n",
       "      <td>2</td>\n",
       "      <td>4</td>\n",
       "      <td>6</td>\n",
       "      <td>1</td>\n",
       "      <td>Credit-Builder Loan</td>\n",
       "      <td>7</td>\n",
       "      <td>1</td>\n",
       "      <td>7.42</td>\n",
       "      <td>2.0</td>\n",
       "      <td>Good</td>\n",
       "      <td>605.03</td>\n",
       "    </tr>\n",
       "  </tbody>\n",
       "</table>\n",
       "</div>"
      ],
      "text/plain": [
       "  Customer_ID  Num_Bank_Accounts  Num_Credit_Card  Interest_Rate Num_of_Loan  \\\n",
       "0   CUS_0xd40                  3                4              3           4   \n",
       "1   CUS_0xd40                  3                4              3           4   \n",
       "2   CUS_0xd40                  3                4              3           4   \n",
       "3   CUS_0xd40                  3                4              3           4   \n",
       "4   CUS_0xd40                  3                4              3           4   \n",
       "5   CUS_0xd40                  3                4              3           4   \n",
       "6   CUS_0xd40                  3                4              3           4   \n",
       "7   CUS_0xd40                  3                4              3           4   \n",
       "8  CUS_0x21b1                  2                4              6           1   \n",
       "9  CUS_0x21b1                  2                4              6           1   \n",
       "\n",
       "                                        Type_of_Loan  Delay_from_due_date  \\\n",
       "0  Auto Loan, Credit-Builder Loan, Personal Loan,...                    3   \n",
       "1  Auto Loan, Credit-Builder Loan, Personal Loan,...                   -1   \n",
       "2  Auto Loan, Credit-Builder Loan, Personal Loan,...                    3   \n",
       "3  Auto Loan, Credit-Builder Loan, Personal Loan,...                    5   \n",
       "4  Auto Loan, Credit-Builder Loan, Personal Loan,...                    6   \n",
       "5  Auto Loan, Credit-Builder Loan, Personal Loan,...                    8   \n",
       "6  Auto Loan, Credit-Builder Loan, Personal Loan,...                    3   \n",
       "7  Auto Loan, Credit-Builder Loan, Personal Loan,...                    3   \n",
       "8                                Credit-Builder Loan                    3   \n",
       "9                                Credit-Builder Loan                    7   \n",
       "\n",
       "  Num_of_Delayed_Payment Changed_Credit_Limit  Num_Credit_Inquiries  \\\n",
       "0                      7                11.27                   4.0   \n",
       "1                    NaN                11.27                   4.0   \n",
       "2                      7                    _                   4.0   \n",
       "3                      4                 6.27                   4.0   \n",
       "4                    NaN                11.27                   4.0   \n",
       "5                      4                 9.27                   4.0   \n",
       "6                     8_                11.27                   4.0   \n",
       "7                      6                11.27                   4.0   \n",
       "8                      4                 5.42                   2.0   \n",
       "9                      1                 7.42                   2.0   \n",
       "\n",
       "  Credit_Mix Outstanding_Debt  \n",
       "0          _           809.98  \n",
       "1       Good           809.98  \n",
       "2       Good           809.98  \n",
       "3       Good           809.98  \n",
       "4       Good           809.98  \n",
       "5       Good           809.98  \n",
       "6       Good           809.98  \n",
       "7       Good           809.98  \n",
       "8       Good           605.03  \n",
       "9       Good           605.03  "
      ]
     },
     "execution_count": 77,
     "metadata": {},
     "output_type": "execute_result"
    }
   ],
   "source": [
    "columns_to_use = [\n",
    "    \"Customer_ID\", \"Num_Bank_Accounts\", \"Num_Credit_Card\", \"Interest_Rate\",\n",
    "    \"Num_of_Loan\", \"Type_of_Loan\", \"Delay_from_due_date\",\n",
    "    \"Num_of_Delayed_Payment\", \"Changed_Credit_Limit\", \"Num_Credit_Inquiries\",\n",
    "    \"Credit_Mix\", \"Outstanding_Debt\"\n",
    "]\n",
    "\n",
    "df2 = pd.read_csv(r\"../data/raw_data.csv\", usecols=columns_to_use)\n",
    "\n",
    "df2.head(10)"
   ]
  },
  {
   "cell_type": "code",
   "execution_count": 78,
   "metadata": {
    "execution": {
     "iopub.execute_input": "2025-04-18T16:28:01.032872Z",
     "iopub.status.busy": "2025-04-18T16:28:01.032497Z",
     "iopub.status.idle": "2025-04-18T16:28:01.037973Z",
     "shell.execute_reply": "2025-04-18T16:28:01.036869Z",
     "shell.execute_reply.started": "2025-04-18T16:28:01.032849Z"
    },
    "trusted": true
   },
   "outputs": [],
   "source": [
    "df2.columns = [column.lower() for column in df2.columns]"
   ]
  },
  {
   "cell_type": "code",
   "execution_count": 79,
   "metadata": {
    "execution": {
     "iopub.execute_input": "2025-04-18T16:28:03.651586Z",
     "iopub.status.busy": "2025-04-18T16:28:03.651228Z",
     "iopub.status.idle": "2025-04-18T16:28:03.699726Z",
     "shell.execute_reply": "2025-04-18T16:28:03.698676Z",
     "shell.execute_reply.started": "2025-04-18T16:28:03.651557Z"
    },
    "trusted": true
   },
   "outputs": [
    {
     "name": "stdout",
     "output_type": "stream",
     "text": [
      "<class 'pandas.core.frame.DataFrame'>\n",
      "RangeIndex: 100000 entries, 0 to 99999\n",
      "Data columns (total 12 columns):\n",
      " #   Column                  Non-Null Count   Dtype  \n",
      "---  ------                  --------------   -----  \n",
      " 0   customer_id             100000 non-null  object \n",
      " 1   num_bank_accounts       100000 non-null  int64  \n",
      " 2   num_credit_card         100000 non-null  int64  \n",
      " 3   interest_rate           100000 non-null  int64  \n",
      " 4   num_of_loan             100000 non-null  object \n",
      " 5   type_of_loan            88592 non-null   object \n",
      " 6   delay_from_due_date     100000 non-null  int64  \n",
      " 7   num_of_delayed_payment  92998 non-null   object \n",
      " 8   changed_credit_limit    100000 non-null  object \n",
      " 9   num_credit_inquiries    98035 non-null   float64\n",
      " 10  credit_mix              100000 non-null  object \n",
      " 11  outstanding_debt        100000 non-null  object \n",
      "dtypes: float64(1), int64(4), object(7)\n",
      "memory usage: 9.2+ MB\n"
     ]
    }
   ],
   "source": [
    "df2.info()"
   ]
  },
  {
   "cell_type": "markdown",
   "metadata": {},
   "source": [
    "##### num_bank_accounts"
   ]
  },
  {
   "cell_type": "code",
   "execution_count": 80,
   "metadata": {
    "execution": {
     "iopub.execute_input": "2025-04-18T16:28:05.980161Z",
     "iopub.status.busy": "2025-04-18T16:28:05.979838Z",
     "iopub.status.idle": "2025-04-18T16:28:05.989764Z",
     "shell.execute_reply": "2025-04-18T16:28:05.988828Z",
     "shell.execute_reply.started": "2025-04-18T16:28:05.980131Z"
    },
    "trusted": true
   },
   "outputs": [
    {
     "data": {
      "text/plain": [
       "num_bank_accounts\n",
       "-1        21\n",
       " 0      4328\n",
       " 1      4490\n",
       " 2      4304\n",
       " 3     11950\n",
       " 4     12186\n",
       " 5     12118\n",
       " 6     13001\n",
       " 7     12823\n",
       " 8     12765\n",
       " 9      5443\n",
       " 10     5247\n",
       " 11        9\n",
       " 18        1\n",
       " 26        1\n",
       " 27        1\n",
       " 28        3\n",
       " 29        1\n",
       " 30        1\n",
       " 31        1\n",
       "Name: count, dtype: int64"
      ]
     },
     "execution_count": 80,
     "metadata": {},
     "output_type": "execute_result"
    }
   ],
   "source": [
    "df2[\"num_bank_accounts\"].value_counts().sort_index().head(20) "
   ]
  },
  {
   "cell_type": "markdown",
   "metadata": {},
   "source": [
    "có một số giá trị bất thường như -1, các gía trị từ 18 trở đi chỉ xuất hiện 1 lần rất ít."
   ]
  },
  {
   "cell_type": "code",
   "execution_count": 81,
   "metadata": {
    "execution": {
     "iopub.execute_input": "2025-04-18T16:28:07.975728Z",
     "iopub.status.busy": "2025-04-18T16:28:07.975358Z",
     "iopub.status.idle": "2025-04-18T16:28:07.992757Z",
     "shell.execute_reply": "2025-04-18T16:28:07.991776Z",
     "shell.execute_reply.started": "2025-04-18T16:28:07.975704Z"
    },
    "trusted": true
   },
   "outputs": [
    {
     "data": {
      "text/html": [
       "<div>\n",
       "<style scoped>\n",
       "    .dataframe tbody tr th:only-of-type {\n",
       "        vertical-align: middle;\n",
       "    }\n",
       "\n",
       "    .dataframe tbody tr th {\n",
       "        vertical-align: top;\n",
       "    }\n",
       "\n",
       "    .dataframe thead th {\n",
       "        text-align: right;\n",
       "    }\n",
       "</style>\n",
       "<table border=\"1\" class=\"dataframe\">\n",
       "  <thead>\n",
       "    <tr style=\"text-align: right;\">\n",
       "      <th></th>\n",
       "      <th>customer_id</th>\n",
       "      <th>num_bank_accounts</th>\n",
       "      <th>num_credit_card</th>\n",
       "      <th>interest_rate</th>\n",
       "      <th>num_of_loan</th>\n",
       "      <th>type_of_loan</th>\n",
       "      <th>delay_from_due_date</th>\n",
       "      <th>num_of_delayed_payment</th>\n",
       "      <th>changed_credit_limit</th>\n",
       "      <th>num_credit_inquiries</th>\n",
       "      <th>credit_mix</th>\n",
       "      <th>outstanding_debt</th>\n",
       "    </tr>\n",
       "  </thead>\n",
       "  <tbody>\n",
       "    <tr>\n",
       "      <th>12447</th>\n",
       "      <td>CUS_0x18bc</td>\n",
       "      <td>26</td>\n",
       "      <td>4</td>\n",
       "      <td>5</td>\n",
       "      <td>-100</td>\n",
       "      <td>Personal Loan, and Debt Consolidation Loan</td>\n",
       "      <td>22</td>\n",
       "      <td>NaN</td>\n",
       "      <td>_</td>\n",
       "      <td>7.0</td>\n",
       "      <td>Good</td>\n",
       "      <td>1475.91</td>\n",
       "    </tr>\n",
       "    <tr>\n",
       "      <th>18124</th>\n",
       "      <td>CUS_0x4b09</td>\n",
       "      <td>28</td>\n",
       "      <td>7</td>\n",
       "      <td>13</td>\n",
       "      <td>3_</td>\n",
       "      <td>Mortgage Loan, Credit-Builder Loan, and Person...</td>\n",
       "      <td>25</td>\n",
       "      <td>14</td>\n",
       "      <td>8.33</td>\n",
       "      <td>8.0</td>\n",
       "      <td>Standard</td>\n",
       "      <td>1017.73</td>\n",
       "    </tr>\n",
       "    <tr>\n",
       "      <th>21388</th>\n",
       "      <td>CUS_0xaa62</td>\n",
       "      <td>31</td>\n",
       "      <td>5</td>\n",
       "      <td>19</td>\n",
       "      <td>4_</td>\n",
       "      <td>Payday Loan, Mortgage Loan, Personal Loan, and...</td>\n",
       "      <td>21</td>\n",
       "      <td>15</td>\n",
       "      <td>12.23</td>\n",
       "      <td>6.0</td>\n",
       "      <td>_</td>\n",
       "      <td>2010.92</td>\n",
       "    </tr>\n",
       "    <tr>\n",
       "      <th>55871</th>\n",
       "      <td>CUS_0x4ade</td>\n",
       "      <td>28</td>\n",
       "      <td>5</td>\n",
       "      <td>8</td>\n",
       "      <td>4</td>\n",
       "      <td>Student Loan, Home Equity Loan, Student Loan, ...</td>\n",
       "      <td>1</td>\n",
       "      <td>12</td>\n",
       "      <td>11.01</td>\n",
       "      <td>6.0</td>\n",
       "      <td>_</td>\n",
       "      <td>78.47</td>\n",
       "    </tr>\n",
       "    <tr>\n",
       "      <th>57421</th>\n",
       "      <td>CUS_0x5e84</td>\n",
       "      <td>30</td>\n",
       "      <td>7</td>\n",
       "      <td>28</td>\n",
       "      <td>8</td>\n",
       "      <td>Not Specified, Home Equity Loan, Personal Loan...</td>\n",
       "      <td>27</td>\n",
       "      <td>17</td>\n",
       "      <td>25.93</td>\n",
       "      <td>11.0</td>\n",
       "      <td>Bad</td>\n",
       "      <td>2681.84</td>\n",
       "    </tr>\n",
       "    <tr>\n",
       "      <th>58356</th>\n",
       "      <td>CUS_0xa1ce</td>\n",
       "      <td>29</td>\n",
       "      <td>3</td>\n",
       "      <td>19</td>\n",
       "      <td>7</td>\n",
       "      <td>Not Specified, Not Specified, Mortgage Loan, C...</td>\n",
       "      <td>21</td>\n",
       "      <td>14</td>\n",
       "      <td>16.4</td>\n",
       "      <td>8.0</td>\n",
       "      <td>_</td>\n",
       "      <td>1417.06</td>\n",
       "    </tr>\n",
       "    <tr>\n",
       "      <th>69723</th>\n",
       "      <td>CUS_0x7350</td>\n",
       "      <td>28</td>\n",
       "      <td>5</td>\n",
       "      <td>30</td>\n",
       "      <td>4</td>\n",
       "      <td>Personal Loan, Debt Consolidation Loan, Studen...</td>\n",
       "      <td>30</td>\n",
       "      <td>16</td>\n",
       "      <td>16.98</td>\n",
       "      <td>9.0</td>\n",
       "      <td>Standard</td>\n",
       "      <td>2297.52</td>\n",
       "    </tr>\n",
       "    <tr>\n",
       "      <th>73219</th>\n",
       "      <td>CUS_0x39c5</td>\n",
       "      <td>18</td>\n",
       "      <td>9</td>\n",
       "      <td>26</td>\n",
       "      <td>2</td>\n",
       "      <td>Personal Loan, and Student Loan</td>\n",
       "      <td>32</td>\n",
       "      <td>NaN</td>\n",
       "      <td>7.83</td>\n",
       "      <td>9.0</td>\n",
       "      <td>Bad</td>\n",
       "      <td>1488.01</td>\n",
       "    </tr>\n",
       "    <tr>\n",
       "      <th>95861</th>\n",
       "      <td>CUS_0x28f5</td>\n",
       "      <td>27</td>\n",
       "      <td>7</td>\n",
       "      <td>5</td>\n",
       "      <td>4</td>\n",
       "      <td>Payday Loan, Mortgage Loan, Credit-Builder Loa...</td>\n",
       "      <td>18</td>\n",
       "      <td>13</td>\n",
       "      <td>10.67</td>\n",
       "      <td>3.0</td>\n",
       "      <td>Good</td>\n",
       "      <td>1482.24</td>\n",
       "    </tr>\n",
       "  </tbody>\n",
       "</table>\n",
       "</div>"
      ],
      "text/plain": [
       "      customer_id  num_bank_accounts  num_credit_card  interest_rate  \\\n",
       "12447  CUS_0x18bc                 26                4              5   \n",
       "18124  CUS_0x4b09                 28                7             13   \n",
       "21388  CUS_0xaa62                 31                5             19   \n",
       "55871  CUS_0x4ade                 28                5              8   \n",
       "57421  CUS_0x5e84                 30                7             28   \n",
       "58356  CUS_0xa1ce                 29                3             19   \n",
       "69723  CUS_0x7350                 28                5             30   \n",
       "73219  CUS_0x39c5                 18                9             26   \n",
       "95861  CUS_0x28f5                 27                7              5   \n",
       "\n",
       "      num_of_loan                                       type_of_loan  \\\n",
       "12447        -100         Personal Loan, and Debt Consolidation Loan   \n",
       "18124          3_  Mortgage Loan, Credit-Builder Loan, and Person...   \n",
       "21388          4_  Payday Loan, Mortgage Loan, Personal Loan, and...   \n",
       "55871           4  Student Loan, Home Equity Loan, Student Loan, ...   \n",
       "57421           8  Not Specified, Home Equity Loan, Personal Loan...   \n",
       "58356           7  Not Specified, Not Specified, Mortgage Loan, C...   \n",
       "69723           4  Personal Loan, Debt Consolidation Loan, Studen...   \n",
       "73219           2                    Personal Loan, and Student Loan   \n",
       "95861           4  Payday Loan, Mortgage Loan, Credit-Builder Loa...   \n",
       "\n",
       "       delay_from_due_date num_of_delayed_payment changed_credit_limit  \\\n",
       "12447                   22                    NaN                    _   \n",
       "18124                   25                     14                 8.33   \n",
       "21388                   21                     15                12.23   \n",
       "55871                    1                     12                11.01   \n",
       "57421                   27                     17                25.93   \n",
       "58356                   21                     14                 16.4   \n",
       "69723                   30                     16                16.98   \n",
       "73219                   32                    NaN                 7.83   \n",
       "95861                   18                     13                10.67   \n",
       "\n",
       "       num_credit_inquiries credit_mix outstanding_debt  \n",
       "12447                   7.0       Good          1475.91  \n",
       "18124                   8.0   Standard          1017.73  \n",
       "21388                   6.0          _          2010.92  \n",
       "55871                   6.0          _            78.47  \n",
       "57421                  11.0        Bad          2681.84  \n",
       "58356                   8.0          _          1417.06  \n",
       "69723                   9.0   Standard          2297.52  \n",
       "73219                   9.0        Bad          1488.01  \n",
       "95861                   3.0       Good          1482.24  "
      ]
     },
     "execution_count": 81,
     "metadata": {},
     "output_type": "execute_result"
    }
   ],
   "source": [
    "df2[df2['num_bank_accounts'].isin([18, 26, 27, 28, 29, 30, 31])]"
   ]
  },
  {
   "cell_type": "code",
   "execution_count": 82,
   "metadata": {
    "execution": {
     "iopub.execute_input": "2025-04-18T16:30:04.038697Z",
     "iopub.status.busy": "2025-04-18T16:30:04.038337Z",
     "iopub.status.idle": "2025-04-18T16:30:07.141575Z",
     "shell.execute_reply": "2025-04-18T16:30:07.140684Z",
     "shell.execute_reply.started": "2025-04-18T16:30:04.038674Z"
    },
    "trusted": true
   },
   "outputs": [
    {
     "name": "stderr",
     "output_type": "stream",
     "text": [
      "/tmp/ipykernel_41511/57338157.py:6: FutureWarning: Series.fillna with 'method' is deprecated and will raise in a future version. Use obj.ffill() or obj.bfill() instead.\n",
      "  lambda x: x.fillna(method=\"ffill\").fillna(method=\"bfill\"))\n"
     ]
    },
    {
     "data": {
      "text/plain": [
       "np.int64(0)"
      ]
     },
     "execution_count": 82,
     "metadata": {},
     "output_type": "execute_result"
    }
   ],
   "source": [
    "df2.loc[(df2[\"num_bank_accounts\"] < 0) | (df2[\"num_bank_accounts\"] > 11),\n",
    "        \"num_bank_accounts\", ] = pd.NA\n",
    "\n",
    "df2[\"num_bank_accounts\"] = df2.groupby(\n",
    "    \"customer_id\")[\"num_bank_accounts\"].transform(\n",
    "        lambda x: x.fillna(method=\"ffill\").fillna(method=\"bfill\"))\n",
    "\n",
    "df2[\"num_bank_accounts\"].isna().sum()"
   ]
  },
  {
   "cell_type": "markdown",
   "metadata": {},
   "source": [
    "##### num_credit_card"
   ]
  },
  {
   "cell_type": "code",
   "execution_count": 83,
   "metadata": {
    "execution": {
     "iopub.execute_input": "2025-04-18T16:30:09.679317Z",
     "iopub.status.busy": "2025-04-18T16:30:09.679027Z",
     "iopub.status.idle": "2025-04-18T16:30:09.689089Z",
     "shell.execute_reply": "2025-04-18T16:30:09.688125Z",
     "shell.execute_reply.started": "2025-04-18T16:30:09.679297Z"
    },
    "trusted": true
   },
   "outputs": [
    {
     "data": {
      "text/plain": [
       "num_credit_card\n",
       "0        13\n",
       "1      2132\n",
       "2      2149\n",
       "3     13277\n",
       "4     14030\n",
       "5     18459\n",
       "6     16559\n",
       "7     16615\n",
       "8      4956\n",
       "9      4643\n",
       "10     4860\n",
       "11       36\n",
       "15        3\n",
       "16        2\n",
       "17        1\n",
       "18        1\n",
       "20        1\n",
       "21        1\n",
       "22        2\n",
       "24        1\n",
       "Name: count, dtype: int64"
      ]
     },
     "execution_count": 83,
     "metadata": {},
     "output_type": "execute_result"
    }
   ],
   "source": [
    "df2[\"num_credit_card\"].value_counts().sort_index().head(20)"
   ]
  },
  {
   "cell_type": "markdown",
   "metadata": {},
   "source": [
    "Các giá trị từ 15 xuất hiện chỉ một vài lần vì vậy có thể tìm cách thay thế."
   ]
  },
  {
   "cell_type": "code",
   "execution_count": 84,
   "metadata": {
    "execution": {
     "iopub.execute_input": "2025-04-18T16:30:12.49968Z",
     "iopub.status.busy": "2025-04-18T16:30:12.498783Z",
     "iopub.status.idle": "2025-04-18T16:30:15.343132Z",
     "shell.execute_reply": "2025-04-18T16:30:15.342321Z",
     "shell.execute_reply.started": "2025-04-18T16:30:12.499648Z"
    },
    "trusted": true
   },
   "outputs": [
    {
     "name": "stderr",
     "output_type": "stream",
     "text": [
      "/tmp/ipykernel_41511/2577496029.py:5: FutureWarning: Series.fillna with 'method' is deprecated and will raise in a future version. Use obj.ffill() or obj.bfill() instead.\n",
      "  lambda x: x.fillna(method=\"ffill\").fillna(method=\"bfill\"))\n"
     ]
    },
    {
     "data": {
      "text/plain": [
       "np.int64(0)"
      ]
     },
     "execution_count": 84,
     "metadata": {},
     "output_type": "execute_result"
    }
   ],
   "source": [
    "df2.loc[df2[\"num_credit_card\"] > 11, \"num_credit_card\"] = pd.NA\n",
    "\n",
    "df2[\"num_credit_card\"] = df2.groupby(\n",
    "    \"customer_id\")[\"num_credit_card\"].transform(\n",
    "        lambda x: x.fillna(method=\"ffill\").fillna(method=\"bfill\"))\n",
    "\n",
    "df2[\"num_credit_card\"].isna().sum()"
   ]
  },
  {
   "cell_type": "markdown",
   "metadata": {},
   "source": [
    "##### interest_rate"
   ]
  },
  {
   "cell_type": "code",
   "execution_count": 85,
   "metadata": {
    "execution": {
     "iopub.execute_input": "2025-04-18T16:31:30.495966Z",
     "iopub.status.busy": "2025-04-18T16:31:30.495641Z",
     "iopub.status.idle": "2025-04-18T16:31:30.505971Z",
     "shell.execute_reply": "2025-04-18T16:31:30.505037Z",
     "shell.execute_reply.started": "2025-04-18T16:31:30.495941Z"
    },
    "trusted": true
   },
   "outputs": [
    {
     "data": {
      "text/plain": [
       "interest_rate\n",
       "1     2683\n",
       "2     2465\n",
       "3     2765\n",
       "4     2589\n",
       "5     4979\n",
       "6     4721\n",
       "7     4494\n",
       "8     5012\n",
       "9     4494\n",
       "10    4540\n",
       "11    4428\n",
       "12    4540\n",
       "13    2384\n",
       "14    2229\n",
       "15    3992\n",
       "16    3730\n",
       "17    3813\n",
       "18    4102\n",
       "19    3630\n",
       "20    3929\n",
       "21    1560\n",
       "22    1720\n",
       "23    1683\n",
       "24    1685\n",
       "25    1566\n",
       "26    1489\n",
       "27    1608\n",
       "28    1616\n",
       "29    1662\n",
       "30    1690\n",
       "31    1457\n",
       "32    1742\n",
       "33    1467\n",
       "34    1502\n",
       "59       1\n",
       "60       1\n",
       "64       1\n",
       "67       1\n",
       "73       1\n",
       "74       1\n",
       "Name: count, dtype: int64"
      ]
     },
     "execution_count": 85,
     "metadata": {},
     "output_type": "execute_result"
    }
   ],
   "source": [
    "df2.interest_rate.value_counts().sort_index().head(40)"
   ]
  },
  {
   "cell_type": "code",
   "execution_count": 86,
   "metadata": {
    "execution": {
     "iopub.execute_input": "2025-04-18T16:31:42.274979Z",
     "iopub.status.busy": "2025-04-18T16:31:42.274693Z",
     "iopub.status.idle": "2025-04-18T16:31:45.263807Z",
     "shell.execute_reply": "2025-04-18T16:31:45.262931Z",
     "shell.execute_reply.started": "2025-04-18T16:31:42.27496Z"
    },
    "trusted": true
   },
   "outputs": [
    {
     "data": {
      "text/plain": [
       "np.int64(0)"
      ]
     },
     "execution_count": 86,
     "metadata": {},
     "output_type": "execute_result"
    }
   ],
   "source": [
    "df2.loc[df2[\"interest_rate\"] > 34, \"interest_rate\"] = pd.NA\n",
    "\n",
    "df2[\"interest_rate\"] = df2.groupby(\"customer_id\")[\"interest_rate\"].transform(\n",
    "    lambda x: x.fillna(x.mode()[0]))\n",
    "\n",
    "df2[\"interest_rate\"].isna().sum()"
   ]
  },
  {
   "cell_type": "code",
   "execution_count": 87,
   "metadata": {
    "execution": {
     "iopub.execute_input": "2025-04-18T16:31:57.895675Z",
     "iopub.status.busy": "2025-04-18T16:31:57.895318Z",
     "iopub.status.idle": "2025-04-18T16:31:57.925949Z",
     "shell.execute_reply": "2025-04-18T16:31:57.924942Z",
     "shell.execute_reply.started": "2025-04-18T16:31:57.895649Z"
    },
    "trusted": true
   },
   "outputs": [
    {
     "data": {
      "text/plain": [
       "np.int64(0)"
      ]
     },
     "execution_count": 87,
     "metadata": {},
     "output_type": "execute_result"
    }
   ],
   "source": [
    "(df2.groupby(\"customer_id\")[\"interest_rate\"].nunique() == 2).sum()"
   ]
  },
  {
   "cell_type": "markdown",
   "metadata": {},
   "source": [
    "##### num_of_loan"
   ]
  },
  {
   "cell_type": "code",
   "execution_count": 88,
   "metadata": {
    "execution": {
     "iopub.execute_input": "2025-04-18T16:32:36.668341Z",
     "iopub.status.busy": "2025-04-18T16:32:36.667996Z",
     "iopub.status.idle": "2025-04-18T16:32:36.725381Z",
     "shell.execute_reply": "2025-04-18T16:32:36.724438Z",
     "shell.execute_reply.started": "2025-04-18T16:32:36.668319Z"
    },
    "trusted": true
   },
   "outputs": [
    {
     "data": {
      "text/plain": [
       "37     0_\n",
       "80     3_\n",
       "84     3_\n",
       "94     2_\n",
       "119    5_\n",
       "125    2_\n",
       "131    0_\n",
       "144    0_\n",
       "158    5_\n",
       "256    2_\n",
       "360    8_\n",
       "366    8_\n",
       "377    2_\n",
       "382    2_\n",
       "391    9_\n",
       "410    5_\n",
       "442    4_\n",
       "481    7_\n",
       "483    7_\n",
       "486    7_\n",
       "Name: num_of_loan, dtype: object"
      ]
     },
     "execution_count": 88,
     "metadata": {},
     "output_type": "execute_result"
    }
   ],
   "source": [
    "df2[pd.to_numeric(df2[\"num_of_loan\"], errors=\"coerce\").isna()][\"num_of_loan\"].head(20)"
   ]
  },
  {
   "cell_type": "code",
   "execution_count": 89,
   "metadata": {
    "execution": {
     "iopub.execute_input": "2025-04-18T16:32:46.019646Z",
     "iopub.status.busy": "2025-04-18T16:32:46.019297Z",
     "iopub.status.idle": "2025-04-18T16:32:46.091774Z",
     "shell.execute_reply": "2025-04-18T16:32:46.090985Z",
     "shell.execute_reply.started": "2025-04-18T16:32:46.01962Z"
    },
    "trusted": true
   },
   "outputs": [
    {
     "data": {
      "text/plain": [
       "dtype('int16')"
      ]
     },
     "execution_count": 89,
     "metadata": {},
     "output_type": "execute_result"
    }
   ],
   "source": [
    "df2[\"num_of_loan\"] = df2[\"num_of_loan\"].str.strip(\"_\")\n",
    "\n",
    "df2[\"num_of_loan\"] = pd.to_numeric(df2[\"num_of_loan\"], downcast=\"integer\")\n",
    "\n",
    "df2[\"num_of_loan\"].dtype"
   ]
  },
  {
   "cell_type": "code",
   "execution_count": 90,
   "metadata": {
    "execution": {
     "iopub.execute_input": "2025-04-18T16:33:06.076512Z",
     "iopub.status.busy": "2025-04-18T16:33:06.076184Z",
     "iopub.status.idle": "2025-04-18T16:33:06.08522Z",
     "shell.execute_reply": "2025-04-18T16:33:06.084087Z",
     "shell.execute_reply.started": "2025-04-18T16:33:06.076487Z"
    },
    "trusted": true
   },
   "outputs": [
    {
     "data": {
      "text/plain": [
       "num_of_loan\n",
       "-100     3876\n",
       " 0      10930\n",
       " 1      10606\n",
       " 2      15032\n",
       " 3      15104\n",
       " 4      14743\n",
       " 5       7197\n",
       " 6       7803\n",
       " 7       7344\n",
       " 8       3191\n",
       " 9       3702\n",
       " 17         1\n",
       " 18         1\n",
       " 19         1\n",
       " 23         2\n",
       " 27         1\n",
       " 29         1\n",
       " 31         2\n",
       " 32         1\n",
       " 33         2\n",
       "Name: count, dtype: int64"
      ]
     },
     "execution_count": 90,
     "metadata": {},
     "output_type": "execute_result"
    }
   ],
   "source": [
    "df2[\"num_of_loan\"].value_counts().sort_index().head(20)"
   ]
  },
  {
   "cell_type": "code",
   "execution_count": 91,
   "metadata": {
    "execution": {
     "iopub.execute_input": "2025-04-18T16:33:17.944678Z",
     "iopub.status.busy": "2025-04-18T16:33:17.944331Z",
     "iopub.status.idle": "2025-04-18T16:33:20.797254Z",
     "shell.execute_reply": "2025-04-18T16:33:20.796341Z",
     "shell.execute_reply.started": "2025-04-18T16:33:17.944655Z"
    },
    "trusted": true
   },
   "outputs": [
    {
     "name": "stderr",
     "output_type": "stream",
     "text": [
      "/tmp/ipykernel_41511/163374721.py:5: FutureWarning: Series.fillna with 'method' is deprecated and will raise in a future version. Use obj.ffill() or obj.bfill() instead.\n",
      "  lambda x: x.fillna(method=\"ffill\").fillna(method=\"bfill\"))\n"
     ]
    },
    {
     "data": {
      "text/plain": [
       "np.int64(0)"
      ]
     },
     "execution_count": 91,
     "metadata": {},
     "output_type": "execute_result"
    }
   ],
   "source": [
    "df2.loc[(df2[\"num_of_loan\"] < 0) | (df2[\"num_of_loan\"] > 9),\n",
    "        \"num_of_loan\"] = pd.NA\n",
    "\n",
    "df2[\"num_of_loan\"] = df2.groupby(\"customer_id\")[\"num_of_loan\"].transform(\n",
    "    lambda x: x.fillna(method=\"ffill\").fillna(method=\"bfill\"))\n",
    "\n",
    "df2[\"num_of_loan\"].isna().sum()"
   ]
  },
  {
   "cell_type": "markdown",
   "metadata": {},
   "source": [
    "##### type_of_loan"
   ]
  },
  {
   "cell_type": "code",
   "execution_count": 92,
   "metadata": {
    "execution": {
     "iopub.execute_input": "2025-04-18T16:36:19.183376Z",
     "iopub.status.busy": "2025-04-18T16:36:19.18296Z",
     "iopub.status.idle": "2025-04-18T16:36:19.195896Z",
     "shell.execute_reply": "2025-04-18T16:36:19.195005Z",
     "shell.execute_reply.started": "2025-04-18T16:36:19.183347Z"
    },
    "trusted": true
   },
   "outputs": [
    {
     "data": {
      "text/plain": [
       "np.int64(11408)"
      ]
     },
     "execution_count": 92,
     "metadata": {},
     "output_type": "execute_result"
    }
   ],
   "source": [
    "df2['type_of_loan'].isna().sum()"
   ]
  },
  {
   "cell_type": "code",
   "execution_count": 93,
   "metadata": {
    "execution": {
     "iopub.execute_input": "2025-04-18T16:36:30.553475Z",
     "iopub.status.busy": "2025-04-18T16:36:30.552875Z",
     "iopub.status.idle": "2025-04-18T16:36:30.579283Z",
     "shell.execute_reply": "2025-04-18T16:36:30.578245Z",
     "shell.execute_reply.started": "2025-04-18T16:36:30.553449Z"
    },
    "trusted": true
   },
   "outputs": [
    {
     "data": {
      "text/html": [
       "<div>\n",
       "<style scoped>\n",
       "    .dataframe tbody tr th:only-of-type {\n",
       "        vertical-align: middle;\n",
       "    }\n",
       "\n",
       "    .dataframe tbody tr th {\n",
       "        vertical-align: top;\n",
       "    }\n",
       "\n",
       "    .dataframe thead th {\n",
       "        text-align: right;\n",
       "    }\n",
       "</style>\n",
       "<table border=\"1\" class=\"dataframe\">\n",
       "  <thead>\n",
       "    <tr style=\"text-align: right;\">\n",
       "      <th></th>\n",
       "      <th>customer_id</th>\n",
       "      <th>num_bank_accounts</th>\n",
       "      <th>num_credit_card</th>\n",
       "      <th>interest_rate</th>\n",
       "      <th>num_of_loan</th>\n",
       "      <th>type_of_loan</th>\n",
       "      <th>delay_from_due_date</th>\n",
       "      <th>num_of_delayed_payment</th>\n",
       "      <th>changed_credit_limit</th>\n",
       "      <th>num_credit_inquiries</th>\n",
       "      <th>credit_mix</th>\n",
       "      <th>outstanding_debt</th>\n",
       "    </tr>\n",
       "  </thead>\n",
       "  <tbody>\n",
       "    <tr>\n",
       "      <th>32</th>\n",
       "      <td>CUS_0x1cdb</td>\n",
       "      <td>7.0</td>\n",
       "      <td>5.0</td>\n",
       "      <td>5.0</td>\n",
       "      <td>0.0</td>\n",
       "      <td>NaN</td>\n",
       "      <td>5</td>\n",
       "      <td>NaN</td>\n",
       "      <td>2.58</td>\n",
       "      <td>4.0</td>\n",
       "      <td>Standard</td>\n",
       "      <td>943.86</td>\n",
       "    </tr>\n",
       "    <tr>\n",
       "      <th>33</th>\n",
       "      <td>CUS_0x1cdb</td>\n",
       "      <td>7.0</td>\n",
       "      <td>5.0</td>\n",
       "      <td>5.0</td>\n",
       "      <td>0.0</td>\n",
       "      <td>NaN</td>\n",
       "      <td>9</td>\n",
       "      <td>NaN</td>\n",
       "      <td>2.58</td>\n",
       "      <td>4.0</td>\n",
       "      <td>Standard</td>\n",
       "      <td>943.86</td>\n",
       "    </tr>\n",
       "    <tr>\n",
       "      <th>34</th>\n",
       "      <td>CUS_0x1cdb</td>\n",
       "      <td>7.0</td>\n",
       "      <td>5.0</td>\n",
       "      <td>5.0</td>\n",
       "      <td>0.0</td>\n",
       "      <td>NaN</td>\n",
       "      <td>5</td>\n",
       "      <td>12</td>\n",
       "      <td>2.58</td>\n",
       "      <td>4.0</td>\n",
       "      <td>Standard</td>\n",
       "      <td>943.86</td>\n",
       "    </tr>\n",
       "    <tr>\n",
       "      <th>35</th>\n",
       "      <td>CUS_0x1cdb</td>\n",
       "      <td>7.0</td>\n",
       "      <td>5.0</td>\n",
       "      <td>5.0</td>\n",
       "      <td>0.0</td>\n",
       "      <td>NaN</td>\n",
       "      <td>1</td>\n",
       "      <td>15</td>\n",
       "      <td>2.58</td>\n",
       "      <td>4.0</td>\n",
       "      <td>_</td>\n",
       "      <td>943.86</td>\n",
       "    </tr>\n",
       "    <tr>\n",
       "      <th>36</th>\n",
       "      <td>CUS_0x1cdb</td>\n",
       "      <td>7.0</td>\n",
       "      <td>5.0</td>\n",
       "      <td>5.0</td>\n",
       "      <td>0.0</td>\n",
       "      <td>NaN</td>\n",
       "      <td>9</td>\n",
       "      <td>17</td>\n",
       "      <td>2.58</td>\n",
       "      <td>4.0</td>\n",
       "      <td>_</td>\n",
       "      <td>943.86</td>\n",
       "    </tr>\n",
       "    <tr>\n",
       "      <th>...</th>\n",
       "      <td>...</td>\n",
       "      <td>...</td>\n",
       "      <td>...</td>\n",
       "      <td>...</td>\n",
       "      <td>...</td>\n",
       "      <td>...</td>\n",
       "      <td>...</td>\n",
       "      <td>...</td>\n",
       "      <td>...</td>\n",
       "      <td>...</td>\n",
       "      <td>...</td>\n",
       "      <td>...</td>\n",
       "    </tr>\n",
       "    <tr>\n",
       "      <th>99939</th>\n",
       "      <td>CUS_0xad4f</td>\n",
       "      <td>7.0</td>\n",
       "      <td>3.0</td>\n",
       "      <td>9.0</td>\n",
       "      <td>0.0</td>\n",
       "      <td>NaN</td>\n",
       "      <td>27</td>\n",
       "      <td>19_</td>\n",
       "      <td>5.31</td>\n",
       "      <td>2.0</td>\n",
       "      <td>_</td>\n",
       "      <td>642.46</td>\n",
       "    </tr>\n",
       "    <tr>\n",
       "      <th>99940</th>\n",
       "      <td>CUS_0xad4f</td>\n",
       "      <td>7.0</td>\n",
       "      <td>3.0</td>\n",
       "      <td>9.0</td>\n",
       "      <td>0.0</td>\n",
       "      <td>NaN</td>\n",
       "      <td>30</td>\n",
       "      <td>18</td>\n",
       "      <td>4.31</td>\n",
       "      <td>2.0</td>\n",
       "      <td>Standard</td>\n",
       "      <td>642.46</td>\n",
       "    </tr>\n",
       "    <tr>\n",
       "      <th>99941</th>\n",
       "      <td>CUS_0xad4f</td>\n",
       "      <td>7.0</td>\n",
       "      <td>3.0</td>\n",
       "      <td>9.0</td>\n",
       "      <td>0.0</td>\n",
       "      <td>NaN</td>\n",
       "      <td>27</td>\n",
       "      <td>18</td>\n",
       "      <td>5.31</td>\n",
       "      <td>2.0</td>\n",
       "      <td>Standard</td>\n",
       "      <td>642.46</td>\n",
       "    </tr>\n",
       "    <tr>\n",
       "      <th>99942</th>\n",
       "      <td>CUS_0xad4f</td>\n",
       "      <td>6.0</td>\n",
       "      <td>2.0</td>\n",
       "      <td>9.0</td>\n",
       "      <td>0.0</td>\n",
       "      <td>NaN</td>\n",
       "      <td>27</td>\n",
       "      <td>17</td>\n",
       "      <td>1.3099999999999996</td>\n",
       "      <td>2.0</td>\n",
       "      <td>Standard</td>\n",
       "      <td>642.46</td>\n",
       "    </tr>\n",
       "    <tr>\n",
       "      <th>99943</th>\n",
       "      <td>CUS_0xad4f</td>\n",
       "      <td>6.0</td>\n",
       "      <td>2.0</td>\n",
       "      <td>9.0</td>\n",
       "      <td>0.0</td>\n",
       "      <td>NaN</td>\n",
       "      <td>27</td>\n",
       "      <td>15</td>\n",
       "      <td>5.31</td>\n",
       "      <td>2.0</td>\n",
       "      <td>_</td>\n",
       "      <td>642.46</td>\n",
       "    </tr>\n",
       "  </tbody>\n",
       "</table>\n",
       "<p>11408 rows × 12 columns</p>\n",
       "</div>"
      ],
      "text/plain": [
       "      customer_id  num_bank_accounts  num_credit_card  interest_rate  \\\n",
       "32     CUS_0x1cdb                7.0              5.0            5.0   \n",
       "33     CUS_0x1cdb                7.0              5.0            5.0   \n",
       "34     CUS_0x1cdb                7.0              5.0            5.0   \n",
       "35     CUS_0x1cdb                7.0              5.0            5.0   \n",
       "36     CUS_0x1cdb                7.0              5.0            5.0   \n",
       "...           ...                ...              ...            ...   \n",
       "99939  CUS_0xad4f                7.0              3.0            9.0   \n",
       "99940  CUS_0xad4f                7.0              3.0            9.0   \n",
       "99941  CUS_0xad4f                7.0              3.0            9.0   \n",
       "99942  CUS_0xad4f                6.0              2.0            9.0   \n",
       "99943  CUS_0xad4f                6.0              2.0            9.0   \n",
       "\n",
       "       num_of_loan type_of_loan  delay_from_due_date num_of_delayed_payment  \\\n",
       "32             0.0          NaN                    5                    NaN   \n",
       "33             0.0          NaN                    9                    NaN   \n",
       "34             0.0          NaN                    5                     12   \n",
       "35             0.0          NaN                    1                     15   \n",
       "36             0.0          NaN                    9                     17   \n",
       "...            ...          ...                  ...                    ...   \n",
       "99939          0.0          NaN                   27                    19_   \n",
       "99940          0.0          NaN                   30                     18   \n",
       "99941          0.0          NaN                   27                     18   \n",
       "99942          0.0          NaN                   27                     17   \n",
       "99943          0.0          NaN                   27                     15   \n",
       "\n",
       "      changed_credit_limit  num_credit_inquiries credit_mix outstanding_debt  \n",
       "32                    2.58                   4.0   Standard           943.86  \n",
       "33                    2.58                   4.0   Standard           943.86  \n",
       "34                    2.58                   4.0   Standard           943.86  \n",
       "35                    2.58                   4.0          _           943.86  \n",
       "36                    2.58                   4.0          _           943.86  \n",
       "...                    ...                   ...        ...              ...  \n",
       "99939                 5.31                   2.0          _           642.46  \n",
       "99940                 4.31                   2.0   Standard           642.46  \n",
       "99941                 5.31                   2.0   Standard           642.46  \n",
       "99942   1.3099999999999996                   2.0   Standard           642.46  \n",
       "99943                 5.31                   2.0          _           642.46  \n",
       "\n",
       "[11408 rows x 12 columns]"
      ]
     },
     "execution_count": 93,
     "metadata": {},
     "output_type": "execute_result"
    }
   ],
   "source": [
    "df2[df2['type_of_loan'].isna()]"
   ]
  },
  {
   "cell_type": "markdown",
   "metadata": {},
   "source": [
    "Có thể thấy hầu hết những bản ghi có num_of_loan = 0 thì type_of_loan là NaN."
   ]
  },
  {
   "cell_type": "code",
   "execution_count": 94,
   "metadata": {
    "execution": {
     "iopub.execute_input": "2025-04-18T16:48:24.341295Z",
     "iopub.status.busy": "2025-04-18T16:48:24.340912Z",
     "iopub.status.idle": "2025-04-18T16:48:24.350547Z",
     "shell.execute_reply": "2025-04-18T16:48:24.349534Z",
     "shell.execute_reply.started": "2025-04-18T16:48:24.341269Z"
    },
    "trusted": true
   },
   "outputs": [],
   "source": [
    "df2.loc[df2[\"num_of_loan\"] == 0, \"type_of_loan\"] = \"No Loan\""
   ]
  },
  {
   "cell_type": "code",
   "execution_count": 95,
   "metadata": {
    "execution": {
     "iopub.execute_input": "2025-04-18T16:48:33.309801Z",
     "iopub.status.busy": "2025-04-18T16:48:33.309435Z",
     "iopub.status.idle": "2025-04-18T16:48:33.557786Z",
     "shell.execute_reply": "2025-04-18T16:48:33.557049Z",
     "shell.execute_reply.started": "2025-04-18T16:48:33.309779Z"
    },
    "trusted": true
   },
   "outputs": [],
   "source": [
    "df2[\"type_of_loan\"] = df2[\"type_of_loan\"].str.replace(\" and\", \"\", regex=False)\n",
    "df2[\"type_of_loan\"] = df2[\"type_of_loan\"].str.split(\", \")"
   ]
  },
  {
   "cell_type": "code",
   "execution_count": 96,
   "metadata": {
    "execution": {
     "iopub.execute_input": "2025-04-18T16:49:01.346976Z",
     "iopub.status.busy": "2025-04-18T16:49:01.346167Z",
     "iopub.status.idle": "2025-04-18T16:49:08.431353Z",
     "shell.execute_reply": "2025-04-18T16:49:08.430312Z",
     "shell.execute_reply.started": "2025-04-18T16:49:01.346953Z"
    },
    "trusted": true
   },
   "outputs": [
    {
     "data": {
      "text/plain": [
       "type_of_loan\n",
       "[Mortgage Loan, Not Specified, Payday Loan, Debt Consolidation Loan, Mortgage Loan, Home Equity Loan, Home Equity Loan]                                                8\n",
       "[Home Equity Loan, Payday Loan, Debt Consolidation Loan]                                                                                                              16\n",
       "[Personal Loan, Payday Loan, Personal Loan]                                                                                                                           24\n",
       "[Auto Loan, Home Equity Loan, Not Specified, Debt Consolidation Loan, Personal Loan, Payday Loan, Mortgage Loan, Debt Consolidation Loan, Student Loan]                8\n",
       "[Home Equity Loan, Mortgage Loan, Home Equity Loan, Payday Loan, Not Specified, Credit-Builder Loan, Credit-Builder Loan]                                              8\n",
       "[Debt Consolidation Loan, Credit-Builder Loan, Credit-Builder Loan, Not Specified, Auto Loan, Personal Loan, Mortgage Loan, Home Equity Loan, Credit-Builder Loan]     8\n",
       "[Debt Consolidation Loan, Credit-Builder Loan, Mortgage Loan, Personal Loan, Mortgage Loan, Payday Loan, Not Specified]                                                8\n",
       "[Auto Loan, Personal Loan, Payday Loan, Credit-Builder Loan, Credit-Builder Loan, Auto Loan, Auto Loan]                                                                8\n",
       "[Payday Loan, Not Specified, Personal Loan, Personal Loan]                                                                                                             8\n",
       "[Home Equity Loan, Payday Loan, Not Specified, Debt Consolidation Loan, Home Equity Loan, Mortgage Loan]                                                               8\n",
       "[Mortgage Loan, Personal Loan, Mortgage Loan, Not Specified, Not Specified, Home Equity Loan, Home Equity Loan]                                                        8\n",
       "[Credit-Builder Loan, Auto Loan, Not Specified, Auto Loan, Debt Consolidation Loan, Auto Loan]                                                                         8\n",
       "[Credit-Builder Loan, Home Equity Loan, Mortgage Loan, Debt Consolidation Loan]                                                                                        8\n",
       "[Student Loan, Credit-Builder Loan, Debt Consolidation Loan, Student Loan, Debt Consolidation Loan]                                                                    8\n",
       "[Mortgage Loan, Personal Loan, Not Specified]                                                                                                                         56\n",
       "[Personal Loan, Not Specified, Home Equity Loan, Payday Loan, Auto Loan]                                                                                               8\n",
       "[Mortgage Loan, Student Loan, Personal Loan, Credit-Builder Loan, Debt Consolidation Loan, Credit-Builder Loan]                                                        8\n",
       "[Auto Loan, Payday Loan, Student Loan, Credit-Builder Loan]                                                                                                            8\n",
       "[Home Equity Loan, Personal Loan, Credit-Builder Loan, Credit-Builder Loan]                                                                                           32\n",
       "[Payday Loan, Payday Loan, Credit-Builder Loan, Credit-Builder Loan, Student Loan, Mortgage Loan, Not Specified]                                                       8\n",
       "Name: count, dtype: int64"
      ]
     },
     "execution_count": 96,
     "metadata": {},
     "output_type": "execute_result"
    }
   ],
   "source": [
    "df2[\"type_of_loan\"].value_counts().sample(20)"
   ]
  },
  {
   "cell_type": "markdown",
   "metadata": {},
   "source": [
    "##### delay_from_due_date"
   ]
  },
  {
   "cell_type": "code",
   "execution_count": 97,
   "metadata": {
    "execution": {
     "iopub.execute_input": "2025-04-18T16:49:49.294049Z",
     "iopub.status.busy": "2025-04-18T16:49:49.293771Z",
     "iopub.status.idle": "2025-04-18T16:49:49.303345Z",
     "shell.execute_reply": "2025-04-18T16:49:49.302378Z",
     "shell.execute_reply.started": "2025-04-18T16:49:49.294031Z"
    },
    "trusted": true
   },
   "outputs": [
    {
     "data": {
      "text/plain": [
       "delay_from_due_date\n",
       "-5      33\n",
       "-4      62\n",
       "-3     118\n",
       "-2     168\n",
       "-1     210\n",
       "      ... \n",
       " 63     69\n",
       " 64     64\n",
       " 65     56\n",
       " 66     32\n",
       " 67     22\n",
       "Name: count, Length: 73, dtype: int64"
      ]
     },
     "execution_count": 97,
     "metadata": {},
     "output_type": "execute_result"
    }
   ],
   "source": [
    "df2.delay_from_due_date.value_counts().sort_index()"
   ]
  },
  {
   "cell_type": "code",
   "execution_count": 98,
   "metadata": {
    "execution": {
     "iopub.execute_input": "2025-04-18T17:00:33.990563Z",
     "iopub.status.busy": "2025-04-18T17:00:33.989811Z",
     "iopub.status.idle": "2025-04-18T17:00:35.212889Z",
     "shell.execute_reply": "2025-04-18T17:00:35.211891Z",
     "shell.execute_reply.started": "2025-04-18T17:00:33.990504Z"
    },
    "trusted": true
   },
   "outputs": [
    {
     "name": "stderr",
     "output_type": "stream",
     "text": [
      "/tmp/ipykernel_41511/740411280.py:11: DeprecationWarning: DataFrameGroupBy.apply operated on the grouping columns. This behavior is deprecated, and in a future version of pandas the grouping columns will be excluded from the operation. Either pass `include_groups=False` to exclude the groupings or explicitly select the grouping columns after groupby to silence this warning.\n",
      "  any(df2.groupby(\"customer_id\").apply(check_consecutive_delays))\n"
     ]
    },
    {
     "data": {
      "text/plain": [
       "False"
      ]
     },
     "execution_count": 98,
     "metadata": {},
     "output_type": "execute_result"
    }
   ],
   "source": [
    "def check_consecutive_delays(group):\n",
    "    # Calculate the consecutive differences\n",
    "    for i in range(len(group[\"delay_from_due_date\"].values) - 1):\n",
    "        if (abs(group[\"delay_from_due_date\"].values[i] -\n",
    "                group[\"delay_from_due_date\"].values[i + 1]) > 30):\n",
    "            return True\n",
    "    return False\n",
    "\n",
    "\n",
    "# Group by customer_id and check\n",
    "any(df2.groupby(\"customer_id\").apply(check_consecutive_delays))"
   ]
  },
  {
   "cell_type": "markdown",
   "metadata": {},
   "source": [
    "Như vậy không có bản ghi nào có số ngày trả nợ muộn quá 30 ngày."
   ]
  },
  {
   "cell_type": "markdown",
   "metadata": {},
   "source": [
    "##### num_of_delayed_payment"
   ]
  },
  {
   "cell_type": "code",
   "execution_count": 99,
   "metadata": {
    "execution": {
     "iopub.execute_input": "2025-04-18T17:01:57.494034Z",
     "iopub.status.busy": "2025-04-18T17:01:57.493689Z",
     "iopub.status.idle": "2025-04-18T17:01:57.553493Z",
     "shell.execute_reply": "2025-04-18T17:01:57.552571Z",
     "shell.execute_reply.started": "2025-04-18T17:01:57.494009Z"
    },
    "trusted": true
   },
   "outputs": [
    {
     "data": {
      "text/plain": [
       "1      NaN\n",
       "4      NaN\n",
       "6       8_\n",
       "11      3_\n",
       "30     NaN\n",
       "32     NaN\n",
       "33     NaN\n",
       "53      3_\n",
       "54      2_\n",
       "70     NaN\n",
       "95     NaN\n",
       "106    NaN\n",
       "119    13_\n",
       "124    14_\n",
       "140    NaN\n",
       "141    12_\n",
       "142    NaN\n",
       "148    NaN\n",
       "152    NaN\n",
       "164    NaN\n",
       "Name: num_of_delayed_payment, dtype: object"
      ]
     },
     "execution_count": 99,
     "metadata": {},
     "output_type": "execute_result"
    }
   ],
   "source": [
    "df2[pd.to_numeric(df2[\"num_of_delayed_payment\"],\n",
    "                  errors=\"coerce\").isna()][\"num_of_delayed_payment\"].head(20)"
   ]
  },
  {
   "cell_type": "code",
   "execution_count": 100,
   "metadata": {
    "execution": {
     "iopub.execute_input": "2025-04-18T17:02:09.649479Z",
     "iopub.status.busy": "2025-04-18T17:02:09.649139Z",
     "iopub.status.idle": "2025-04-18T17:02:09.722164Z",
     "shell.execute_reply": "2025-04-18T17:02:09.721275Z",
     "shell.execute_reply.started": "2025-04-18T17:02:09.649453Z"
    },
    "trusted": true
   },
   "outputs": [
    {
     "data": {
      "text/plain": [
       "dtype('float64')"
      ]
     },
     "execution_count": 100,
     "metadata": {},
     "output_type": "execute_result"
    }
   ],
   "source": [
    "df2[\"num_of_delayed_payment\"] = df2[\"num_of_delayed_payment\"].str.strip(\"_\")\n",
    "\n",
    "df2[\"num_of_delayed_payment\"] = pd.to_numeric(df2[\"num_of_delayed_payment\"],\n",
    "                                              downcast=\"integer\")\n",
    "\n",
    "df2[\"num_of_delayed_payment\"].dtype"
   ]
  },
  {
   "cell_type": "code",
   "execution_count": 101,
   "metadata": {
    "execution": {
     "iopub.execute_input": "2025-04-18T17:02:35.004148Z",
     "iopub.status.busy": "2025-04-18T17:02:35.00383Z",
     "iopub.status.idle": "2025-04-18T17:02:35.023835Z",
     "shell.execute_reply": "2025-04-18T17:02:35.022901Z",
     "shell.execute_reply.started": "2025-04-18T17:02:35.004126Z"
    },
    "trusted": true
   },
   "outputs": [
    {
     "data": {
      "text/plain": [
       "customer_id\n",
       "CUS_0x1011    2\n",
       "CUS_0x1013    1\n",
       "CUS_0x1018    1\n",
       "CUS_0x102d    1\n",
       "CUS_0x102e    1\n",
       "             ..\n",
       "CUS_0xfdd     1\n",
       "CUS_0xfe3     3\n",
       "CUS_0xfe4     2\n",
       "CUS_0xff6     1\n",
       "CUS_0xffd     1\n",
       "Length: 5465, dtype: int64"
      ]
     },
     "execution_count": 101,
     "metadata": {},
     "output_type": "execute_result"
    }
   ],
   "source": [
    "df2[df2[\"num_of_delayed_payment\"].isna()].groupby(\"customer_id\").size()"
   ]
  },
  {
   "cell_type": "code",
   "execution_count": 102,
   "metadata": {
    "execution": {
     "iopub.execute_input": "2025-04-18T17:03:32.16095Z",
     "iopub.status.busy": "2025-04-18T17:03:32.160651Z",
     "iopub.status.idle": "2025-04-18T17:03:32.172891Z",
     "shell.execute_reply": "2025-04-18T17:03:32.171961Z",
     "shell.execute_reply.started": "2025-04-18T17:03:32.160929Z"
    },
    "trusted": true
   },
   "outputs": [
    {
     "data": {
      "text/plain": [
       "num_of_delayed_payment\n",
       "-3.0        94\n",
       "-2.0       234\n",
       "-1.0       316\n",
       " 0.0      1609\n",
       " 1.0      1636\n",
       " 2.0      1810\n",
       " 3.0      1931\n",
       " 4.0      1838\n",
       " 5.0      2091\n",
       " 6.0      2321\n",
       " 7.0      2385\n",
       " 8.0      4873\n",
       " 9.0      4981\n",
       " 10.0     5309\n",
       " 11.0     4810\n",
       " 12.0     5059\n",
       " 13.0     4036\n",
       " 14.0     4193\n",
       " 15.0     5237\n",
       " 16.0     5312\n",
       " 17.0     5412\n",
       " 18.0     5216\n",
       " 19.0     5481\n",
       " 20.0     5089\n",
       " 21.0     2553\n",
       " 22.0     2339\n",
       " 23.0     2028\n",
       " 24.0     1701\n",
       " 25.0     1665\n",
       " 26.0      322\n",
       " 27.0      250\n",
       " 28.0      131\n",
       " 46.0        1\n",
       " 47.0        1\n",
       " 49.0        1\n",
       " 52.0        1\n",
       " 72.0        1\n",
       " 80.0        1\n",
       " 84.0        1\n",
       " 85.0        1\n",
       " 86.0        1\n",
       " 88.0        1\n",
       " 94.0        1\n",
       " 98.0        1\n",
       " 102.0       1\n",
       " 106.0       1\n",
       " 107.0       1\n",
       " 121.0       1\n",
       " 130.0       1\n",
       " 132.0       1\n",
       "Name: count, dtype: int64"
      ]
     },
     "execution_count": 102,
     "metadata": {},
     "output_type": "execute_result"
    }
   ],
   "source": [
    "df2[\"num_of_delayed_payment\"].value_counts().sort_index().head(50) "
   ]
  },
  {
   "cell_type": "code",
   "execution_count": 103,
   "metadata": {
    "execution": {
     "iopub.execute_input": "2025-04-18T17:03:44.775017Z",
     "iopub.status.busy": "2025-04-18T17:03:44.77474Z",
     "iopub.status.idle": "2025-04-18T17:03:47.987923Z",
     "shell.execute_reply": "2025-04-18T17:03:47.986961Z",
     "shell.execute_reply.started": "2025-04-18T17:03:44.774997Z"
    },
    "trusted": true
   },
   "outputs": [
    {
     "name": "stderr",
     "output_type": "stream",
     "text": [
      "/tmp/ipykernel_41511/1646480310.py:7: FutureWarning: Series.fillna with 'method' is deprecated and will raise in a future version. Use obj.ffill() or obj.bfill() instead.\n",
      "  lambda x: x.fillna(method=\"ffill\").fillna(method=\"bfill\"))\n"
     ]
    },
    {
     "data": {
      "text/plain": [
       "np.int64(0)"
      ]
     },
     "execution_count": 103,
     "metadata": {},
     "output_type": "execute_result"
    }
   ],
   "source": [
    "df2.loc[(df2[\"num_of_delayed_payment\"] < 0) |\n",
    "        (df2[\"num_of_delayed_payment\"] > 28),\n",
    "        \"num_of_delayed_payment\", ] = np.nan\n",
    "\n",
    "df2[\"num_of_delayed_payment\"] = df2.groupby(\n",
    "    \"customer_id\")[\"num_of_delayed_payment\"].transform(\n",
    "        lambda x: x.fillna(method=\"ffill\").fillna(method=\"bfill\"))\n",
    "\n",
    "df2[\"num_of_delayed_payment\"].isna().sum()"
   ]
  },
  {
   "cell_type": "markdown",
   "metadata": {},
   "source": [
    "##### changed_credit_limit"
   ]
  },
  {
   "cell_type": "code",
   "execution_count": 104,
   "metadata": {
    "execution": {
     "iopub.execute_input": "2025-04-18T17:04:37.338696Z",
     "iopub.status.busy": "2025-04-18T17:04:37.338291Z",
     "iopub.status.idle": "2025-04-18T17:04:37.383708Z",
     "shell.execute_reply": "2025-04-18T17:04:37.382681Z",
     "shell.execute_reply.started": "2025-04-18T17:04:37.338671Z"
    },
    "trusted": true
   },
   "outputs": [
    {
     "data": {
      "text/plain": [
       "73926    _\n",
       "32990    _\n",
       "35857    _\n",
       "12778    _\n",
       "52880    _\n",
       "54745    _\n",
       "97549    _\n",
       "2336     _\n",
       "88597    _\n",
       "61179    _\n",
       "31302    _\n",
       "17229    _\n",
       "55273    _\n",
       "75123    _\n",
       "38081    _\n",
       "43710    _\n",
       "92916    _\n",
       "95252    _\n",
       "7427     _\n",
       "55866    _\n",
       "Name: changed_credit_limit, dtype: object"
      ]
     },
     "execution_count": 104,
     "metadata": {},
     "output_type": "execute_result"
    }
   ],
   "source": [
    "df2[pd.to_numeric(df2[\"changed_credit_limit\"],\n",
    "                  errors=\"coerce\").isna()][\"changed_credit_limit\"].sample(20)"
   ]
  },
  {
   "cell_type": "code",
   "execution_count": 105,
   "metadata": {
    "execution": {
     "iopub.execute_input": "2025-04-18T17:04:49.319635Z",
     "iopub.status.busy": "2025-04-18T17:04:49.319266Z",
     "iopub.status.idle": "2025-04-18T17:04:53.676393Z",
     "shell.execute_reply": "2025-04-18T17:04:53.675538Z",
     "shell.execute_reply.started": "2025-04-18T17:04:49.319611Z"
    },
    "trusted": true
   },
   "outputs": [
    {
     "name": "stderr",
     "output_type": "stream",
     "text": [
      "/tmp/ipykernel_41511/3321950268.py:5: FutureWarning: Series.fillna with 'method' is deprecated and will raise in a future version. Use obj.ffill() or obj.bfill() instead.\n",
      "  lambda x: x.fillna(method=\"ffill\").fillna(method=\"bfill\"))\n"
     ]
    },
    {
     "data": {
      "text/plain": [
       "np.int64(0)"
      ]
     },
     "execution_count": 105,
     "metadata": {},
     "output_type": "execute_result"
    }
   ],
   "source": [
    "df2.loc[(df2[\"changed_credit_limit\"] == \"_\"), \"changed_credit_limit\"] = np.nan\n",
    "\n",
    "df2[\"changed_credit_limit\"] = df2.groupby(\n",
    "    \"customer_id\")[\"changed_credit_limit\"].transform(\n",
    "        lambda x: x.fillna(method=\"ffill\").fillna(method=\"bfill\"))\n",
    "\n",
    "df2[\"changed_credit_limit\"].isna().sum()"
   ]
  },
  {
   "cell_type": "code",
   "execution_count": 106,
   "metadata": {
    "execution": {
     "iopub.execute_input": "2025-04-18T17:05:01.199601Z",
     "iopub.status.busy": "2025-04-18T17:05:01.199226Z",
     "iopub.status.idle": "2025-04-18T17:05:01.241369Z",
     "shell.execute_reply": "2025-04-18T17:05:01.240553Z",
     "shell.execute_reply.started": "2025-04-18T17:05:01.199576Z"
    },
    "trusted": true
   },
   "outputs": [
    {
     "data": {
      "text/plain": [
       "dtype('float32')"
      ]
     },
     "execution_count": 106,
     "metadata": {},
     "output_type": "execute_result"
    }
   ],
   "source": [
    "df2[\"changed_credit_limit\"] = pd.to_numeric(df2[\"changed_credit_limit\"],\n",
    "                                            downcast=\"float\").round(3)\n",
    "\n",
    "df2[\"changed_credit_limit\"].dtype"
   ]
  },
  {
   "cell_type": "markdown",
   "metadata": {},
   "source": [
    "##### num_credit_inquiries"
   ]
  },
  {
   "cell_type": "code",
   "execution_count": 107,
   "metadata": {
    "execution": {
     "iopub.execute_input": "2025-04-18T17:06:39.769144Z",
     "iopub.status.busy": "2025-04-18T17:06:39.768391Z",
     "iopub.status.idle": "2025-04-18T17:06:39.776431Z",
     "shell.execute_reply": "2025-04-18T17:06:39.775558Z",
     "shell.execute_reply.started": "2025-04-18T17:06:39.769116Z"
    },
    "trusted": true
   },
   "outputs": [
    {
     "data": {
      "text/plain": [
       "np.int64(1965)"
      ]
     },
     "execution_count": 107,
     "metadata": {},
     "output_type": "execute_result"
    }
   ],
   "source": [
    "df2[\"num_credit_inquiries\"].isna().sum()"
   ]
  },
  {
   "cell_type": "code",
   "execution_count": 108,
   "metadata": {
    "execution": {
     "iopub.execute_input": "2025-04-18T17:07:50.620007Z",
     "iopub.status.busy": "2025-04-18T17:07:50.619718Z",
     "iopub.status.idle": "2025-04-18T17:07:50.631534Z",
     "shell.execute_reply": "2025-04-18T17:07:50.63063Z",
     "shell.execute_reply.started": "2025-04-18T17:07:50.619984Z"
    },
    "trusted": true
   },
   "outputs": [
    {
     "data": {
      "text/plain": [
       "num_credit_inquiries\n",
       "4.0       11271\n",
       "3.0        8890\n",
       "6.0        8111\n",
       "7.0        8058\n",
       "2.0        8028\n",
       "8.0        7866\n",
       "1.0        7588\n",
       "0.0        6972\n",
       "5.0        5693\n",
       "9.0        5283\n",
       "11.0       5051\n",
       "10.0       4936\n",
       "12.0       4571\n",
       "NaN        1965\n",
       "13.0       1480\n",
       "14.0       1039\n",
       "15.0        808\n",
       "16.0        456\n",
       "17.0        284\n",
       "1460.0        4\n",
       "53.0          4\n",
       "318.0         4\n",
       "1786.0        4\n",
       "31.0          4\n",
       "1244.0        4\n",
       "2297.0        4\n",
       "2310.0        4\n",
       "285.0         4\n",
       "1114.0        4\n",
       "1768.0        4\n",
       "Name: count, dtype: int64"
      ]
     },
     "execution_count": 108,
     "metadata": {},
     "output_type": "execute_result"
    }
   ],
   "source": [
    "df2[\"num_credit_inquiries\"].value_counts(dropna=False).head(30) "
   ]
  },
  {
   "cell_type": "code",
   "execution_count": 109,
   "metadata": {
    "execution": {
     "iopub.execute_input": "2025-04-18T17:08:11.485217Z",
     "iopub.status.busy": "2025-04-18T17:08:11.484Z",
     "iopub.status.idle": "2025-04-18T17:08:14.179634Z",
     "shell.execute_reply": "2025-04-18T17:08:14.178592Z",
     "shell.execute_reply.started": "2025-04-18T17:08:11.485179Z"
    },
    "trusted": true
   },
   "outputs": [
    {
     "name": "stderr",
     "output_type": "stream",
     "text": [
      "/tmp/ipykernel_41511/3648540683.py:5: FutureWarning: Series.fillna with 'method' is deprecated and will raise in a future version. Use obj.ffill() or obj.bfill() instead.\n",
      "  lambda x: x.fillna(method=\"ffill\").fillna(method=\"bfill\"))\n"
     ]
    },
    {
     "data": {
      "text/plain": [
       "np.int64(0)"
      ]
     },
     "execution_count": 109,
     "metadata": {},
     "output_type": "execute_result"
    }
   ],
   "source": [
    "df2.loc[(df2[\"num_credit_inquiries\"] > 17), \"num_credit_inquiries\"] = pd.NA\n",
    "\n",
    "df2[\"num_credit_inquiries\"] = df2.groupby(\n",
    "    \"customer_id\")[\"num_credit_inquiries\"].transform(\n",
    "        lambda x: x.fillna(method=\"ffill\").fillna(method=\"bfill\"))\n",
    "\n",
    "df2[\"num_credit_inquiries\"].isna().sum()"
   ]
  },
  {
   "cell_type": "markdown",
   "metadata": {},
   "source": [
    "##### credit_mix"
   ]
  },
  {
   "cell_type": "code",
   "execution_count": 110,
   "metadata": {
    "execution": {
     "iopub.execute_input": "2025-04-18T17:08:43.170084Z",
     "iopub.status.busy": "2025-04-18T17:08:43.169764Z",
     "iopub.status.idle": "2025-04-18T17:08:43.185482Z",
     "shell.execute_reply": "2025-04-18T17:08:43.184415Z",
     "shell.execute_reply.started": "2025-04-18T17:08:43.170062Z"
    },
    "trusted": true
   },
   "outputs": [
    {
     "data": {
      "text/plain": [
       "credit_mix\n",
       "Standard    36479\n",
       "Good        24337\n",
       "_           20195\n",
       "Bad         18989\n",
       "Name: count, dtype: int64"
      ]
     },
     "execution_count": 110,
     "metadata": {},
     "output_type": "execute_result"
    }
   ],
   "source": [
    "df2.credit_mix.value_counts()"
   ]
  },
  {
   "cell_type": "code",
   "execution_count": 111,
   "metadata": {
    "execution": {
     "iopub.execute_input": "2025-04-18T17:08:55.977105Z",
     "iopub.status.busy": "2025-04-18T17:08:55.976797Z",
     "iopub.status.idle": "2025-04-18T17:08:55.990473Z",
     "shell.execute_reply": "2025-04-18T17:08:55.989324Z",
     "shell.execute_reply.started": "2025-04-18T17:08:55.977081Z"
    },
    "trusted": true
   },
   "outputs": [
    {
     "data": {
      "text/html": [
       "<div>\n",
       "<style scoped>\n",
       "    .dataframe tbody tr th:only-of-type {\n",
       "        vertical-align: middle;\n",
       "    }\n",
       "\n",
       "    .dataframe tbody tr th {\n",
       "        vertical-align: top;\n",
       "    }\n",
       "\n",
       "    .dataframe thead th {\n",
       "        text-align: right;\n",
       "    }\n",
       "</style>\n",
       "<table border=\"1\" class=\"dataframe\">\n",
       "  <thead>\n",
       "    <tr style=\"text-align: right;\">\n",
       "      <th></th>\n",
       "      <th>customer_id</th>\n",
       "      <th>credit_mix</th>\n",
       "    </tr>\n",
       "  </thead>\n",
       "  <tbody>\n",
       "    <tr>\n",
       "      <th>0</th>\n",
       "      <td>CUS_0xd40</td>\n",
       "      <td>_</td>\n",
       "    </tr>\n",
       "    <tr>\n",
       "      <th>1</th>\n",
       "      <td>CUS_0xd40</td>\n",
       "      <td>Good</td>\n",
       "    </tr>\n",
       "    <tr>\n",
       "      <th>2</th>\n",
       "      <td>CUS_0xd40</td>\n",
       "      <td>Good</td>\n",
       "    </tr>\n",
       "    <tr>\n",
       "      <th>3</th>\n",
       "      <td>CUS_0xd40</td>\n",
       "      <td>Good</td>\n",
       "    </tr>\n",
       "    <tr>\n",
       "      <th>4</th>\n",
       "      <td>CUS_0xd40</td>\n",
       "      <td>Good</td>\n",
       "    </tr>\n",
       "    <tr>\n",
       "      <th>5</th>\n",
       "      <td>CUS_0xd40</td>\n",
       "      <td>Good</td>\n",
       "    </tr>\n",
       "    <tr>\n",
       "      <th>6</th>\n",
       "      <td>CUS_0xd40</td>\n",
       "      <td>Good</td>\n",
       "    </tr>\n",
       "    <tr>\n",
       "      <th>7</th>\n",
       "      <td>CUS_0xd40</td>\n",
       "      <td>Good</td>\n",
       "    </tr>\n",
       "    <tr>\n",
       "      <th>8</th>\n",
       "      <td>CUS_0x21b1</td>\n",
       "      <td>Good</td>\n",
       "    </tr>\n",
       "    <tr>\n",
       "      <th>9</th>\n",
       "      <td>CUS_0x21b1</td>\n",
       "      <td>Good</td>\n",
       "    </tr>\n",
       "    <tr>\n",
       "      <th>10</th>\n",
       "      <td>CUS_0x21b1</td>\n",
       "      <td>_</td>\n",
       "    </tr>\n",
       "    <tr>\n",
       "      <th>11</th>\n",
       "      <td>CUS_0x21b1</td>\n",
       "      <td>Good</td>\n",
       "    </tr>\n",
       "    <tr>\n",
       "      <th>12</th>\n",
       "      <td>CUS_0x21b1</td>\n",
       "      <td>Good</td>\n",
       "    </tr>\n",
       "    <tr>\n",
       "      <th>13</th>\n",
       "      <td>CUS_0x21b1</td>\n",
       "      <td>Good</td>\n",
       "    </tr>\n",
       "    <tr>\n",
       "      <th>14</th>\n",
       "      <td>CUS_0x21b1</td>\n",
       "      <td>Good</td>\n",
       "    </tr>\n",
       "    <tr>\n",
       "      <th>15</th>\n",
       "      <td>CUS_0x21b1</td>\n",
       "      <td>Good</td>\n",
       "    </tr>\n",
       "    <tr>\n",
       "      <th>16</th>\n",
       "      <td>CUS_0x2dbc</td>\n",
       "      <td>Good</td>\n",
       "    </tr>\n",
       "    <tr>\n",
       "      <th>17</th>\n",
       "      <td>CUS_0x2dbc</td>\n",
       "      <td>Good</td>\n",
       "    </tr>\n",
       "    <tr>\n",
       "      <th>18</th>\n",
       "      <td>CUS_0x2dbc</td>\n",
       "      <td>Good</td>\n",
       "    </tr>\n",
       "    <tr>\n",
       "      <th>19</th>\n",
       "      <td>CUS_0x2dbc</td>\n",
       "      <td>_</td>\n",
       "    </tr>\n",
       "  </tbody>\n",
       "</table>\n",
       "</div>"
      ],
      "text/plain": [
       "   customer_id credit_mix\n",
       "0    CUS_0xd40          _\n",
       "1    CUS_0xd40       Good\n",
       "2    CUS_0xd40       Good\n",
       "3    CUS_0xd40       Good\n",
       "4    CUS_0xd40       Good\n",
       "5    CUS_0xd40       Good\n",
       "6    CUS_0xd40       Good\n",
       "7    CUS_0xd40       Good\n",
       "8   CUS_0x21b1       Good\n",
       "9   CUS_0x21b1       Good\n",
       "10  CUS_0x21b1          _\n",
       "11  CUS_0x21b1       Good\n",
       "12  CUS_0x21b1       Good\n",
       "13  CUS_0x21b1       Good\n",
       "14  CUS_0x21b1       Good\n",
       "15  CUS_0x21b1       Good\n",
       "16  CUS_0x2dbc       Good\n",
       "17  CUS_0x2dbc       Good\n",
       "18  CUS_0x2dbc       Good\n",
       "19  CUS_0x2dbc          _"
      ]
     },
     "execution_count": 111,
     "metadata": {},
     "output_type": "execute_result"
    }
   ],
   "source": [
    "df2[[\"customer_id\", \"credit_mix\"]].head(20)"
   ]
  },
  {
   "cell_type": "code",
   "execution_count": 112,
   "metadata": {
    "execution": {
     "iopub.execute_input": "2025-04-18T17:09:17.834774Z",
     "iopub.status.busy": "2025-04-18T17:09:17.834418Z",
     "iopub.status.idle": "2025-04-18T17:09:21.885384Z",
     "shell.execute_reply": "2025-04-18T17:09:21.88449Z",
     "shell.execute_reply.started": "2025-04-18T17:09:17.834751Z"
    },
    "trusted": true
   },
   "outputs": [
    {
     "data": {
      "text/plain": [
       "np.int64(0)"
      ]
     },
     "execution_count": 112,
     "metadata": {},
     "output_type": "execute_result"
    }
   ],
   "source": [
    "df2.loc[df2[\"credit_mix\"] == \"_\", \"credit_mix\"] = pd.NA\n",
    "\n",
    "df2[\"credit_mix\"] = df2.groupby(\"customer_id\")[\"credit_mix\"].transform(\n",
    "    lambda x: x.fillna(x.mode()[0]))\n",
    "\n",
    "df2[\"credit_mix\"].isna().sum()"
   ]
  },
  {
   "cell_type": "markdown",
   "metadata": {},
   "source": [
    "##### outstanding_debt"
   ]
  },
  {
   "cell_type": "code",
   "execution_count": 113,
   "metadata": {
    "execution": {
     "iopub.execute_input": "2025-04-18T17:10:18.302205Z",
     "iopub.status.busy": "2025-04-18T17:10:18.301918Z",
     "iopub.status.idle": "2025-04-18T17:10:18.322431Z",
     "shell.execute_reply": "2025-04-18T17:10:18.321556Z",
     "shell.execute_reply.started": "2025-04-18T17:10:18.302185Z"
    },
    "trusted": true
   },
   "outputs": [
    {
     "data": {
      "text/plain": [
       "outstanding_debt\n",
       "1852.75     8\n",
       "1979.39     8\n",
       "1473.17     8\n",
       "881.4       8\n",
       "1390.09     8\n",
       "1736.21     8\n",
       "2039.68     8\n",
       "1248.19     8\n",
       "1171.11     8\n",
       "2789.42     8\n",
       "1989.26     8\n",
       "760.97      8\n",
       "1110.5      8\n",
       "1234.79     8\n",
       "68.29       8\n",
       "940.91      8\n",
       "317.73      8\n",
       "1460.8      8\n",
       "129.15     16\n",
       "1080.17     8\n",
       "Name: count, dtype: int64"
      ]
     },
     "execution_count": 113,
     "metadata": {},
     "output_type": "execute_result"
    }
   ],
   "source": [
    "df2.outstanding_debt.value_counts().sample(20)"
   ]
  },
  {
   "cell_type": "code",
   "execution_count": 114,
   "metadata": {
    "execution": {
     "iopub.execute_input": "2025-04-18T17:10:30.968925Z",
     "iopub.status.busy": "2025-04-18T17:10:30.968627Z",
     "iopub.status.idle": "2025-04-18T17:10:31.009184Z",
     "shell.execute_reply": "2025-04-18T17:10:31.008312Z",
     "shell.execute_reply.started": "2025-04-18T17:10:30.968904Z"
    },
    "trusted": true
   },
   "outputs": [
    {
     "data": {
      "text/plain": [
       "87      1328.93_\n",
       "142     1283.37_\n",
       "368     2797.17_\n",
       "632     3818.57_\n",
       "703      343.84_\n",
       "731      363.51_\n",
       "782      404.51_\n",
       "819     1755.81_\n",
       "835     2593.44_\n",
       "992       89.62_\n",
       "1147    1054.86_\n",
       "1148    1054.86_\n",
       "1162    1374.23_\n",
       "1243    1166.47_\n",
       "1339     457.81_\n",
       "1369    1684.06_\n",
       "1486    1126.35_\n",
       "1542    2098.83_\n",
       "1573     761.18_\n",
       "1633    1343.01_\n",
       "Name: outstanding_debt, dtype: object"
      ]
     },
     "execution_count": 114,
     "metadata": {},
     "output_type": "execute_result"
    }
   ],
   "source": [
    "df2[pd.to_numeric(df2[\"outstanding_debt\"],\n",
    "                  errors=\"coerce\").isna()][\"outstanding_debt\"].head(20)"
   ]
  },
  {
   "cell_type": "code",
   "execution_count": 115,
   "metadata": {
    "execution": {
     "iopub.execute_input": "2025-04-18T17:10:42.797126Z",
     "iopub.status.busy": "2025-04-18T17:10:42.796811Z",
     "iopub.status.idle": "2025-04-18T17:10:42.858937Z",
     "shell.execute_reply": "2025-04-18T17:10:42.858124Z",
     "shell.execute_reply.started": "2025-04-18T17:10:42.797103Z"
    },
    "trusted": true
   },
   "outputs": [
    {
     "data": {
      "text/plain": [
       "dtype('float32')"
      ]
     },
     "execution_count": 115,
     "metadata": {},
     "output_type": "execute_result"
    }
   ],
   "source": [
    "df2[\"outstanding_debt\"] = df2[\"outstanding_debt\"].str.strip(\"_\")\n",
    "df2[\"outstanding_debt\"] = pd.to_numeric(df2[\"outstanding_debt\"],\n",
    "                                        downcast=\"float\")\n",
    "df2[\"outstanding_debt\"].dtype"
   ]
  },
  {
   "cell_type": "markdown",
   "metadata": {},
   "source": [
    "#### Df3"
   ]
  },
  {
   "cell_type": "code",
   "execution_count": 116,
   "metadata": {
    "execution": {
     "iopub.execute_input": "2025-04-18T17:11:30.201126Z",
     "iopub.status.busy": "2025-04-18T17:11:30.200805Z",
     "iopub.status.idle": "2025-04-18T17:11:30.6721Z",
     "shell.execute_reply": "2025-04-18T17:11:30.671264Z",
     "shell.execute_reply.started": "2025-04-18T17:11:30.201104Z"
    },
    "trusted": true
   },
   "outputs": [
    {
     "name": "stderr",
     "output_type": "stream",
     "text": [
      "/tmp/ipykernel_41511/27509748.py:11: DtypeWarning: Columns (26) have mixed types. Specify dtype option on import or set low_memory=False.\n",
      "  df3 = pd.read_csv(r\"../data/raw_data.csv\", usecols=columns_to_use)\n"
     ]
    },
    {
     "data": {
      "text/html": [
       "<div>\n",
       "<style scoped>\n",
       "    .dataframe tbody tr th:only-of-type {\n",
       "        vertical-align: middle;\n",
       "    }\n",
       "\n",
       "    .dataframe tbody tr th {\n",
       "        vertical-align: top;\n",
       "    }\n",
       "\n",
       "    .dataframe thead th {\n",
       "        text-align: right;\n",
       "    }\n",
       "</style>\n",
       "<table border=\"1\" class=\"dataframe\">\n",
       "  <thead>\n",
       "    <tr style=\"text-align: right;\">\n",
       "      <th></th>\n",
       "      <th>Customer_ID</th>\n",
       "      <th>Credit_Utilization_Ratio</th>\n",
       "      <th>Payment_of_Min_Amount</th>\n",
       "      <th>Amount_invested_monthly</th>\n",
       "      <th>Payment_Behaviour</th>\n",
       "      <th>Monthly_Balance</th>\n",
       "      <th>Credit_Score</th>\n",
       "    </tr>\n",
       "  </thead>\n",
       "  <tbody>\n",
       "    <tr>\n",
       "      <th>0</th>\n",
       "      <td>CUS_0xd40</td>\n",
       "      <td>26.822620</td>\n",
       "      <td>No</td>\n",
       "      <td>80.41529543900253</td>\n",
       "      <td>High_spent_Small_value_payments</td>\n",
       "      <td>312.49408867943663</td>\n",
       "      <td>Good</td>\n",
       "    </tr>\n",
       "    <tr>\n",
       "      <th>1</th>\n",
       "      <td>CUS_0xd40</td>\n",
       "      <td>31.944960</td>\n",
       "      <td>No</td>\n",
       "      <td>118.28022162236736</td>\n",
       "      <td>Low_spent_Large_value_payments</td>\n",
       "      <td>284.62916249607184</td>\n",
       "      <td>Good</td>\n",
       "    </tr>\n",
       "    <tr>\n",
       "      <th>2</th>\n",
       "      <td>CUS_0xd40</td>\n",
       "      <td>28.609352</td>\n",
       "      <td>No</td>\n",
       "      <td>81.699521264648</td>\n",
       "      <td>Low_spent_Medium_value_payments</td>\n",
       "      <td>331.2098628537912</td>\n",
       "      <td>Good</td>\n",
       "    </tr>\n",
       "    <tr>\n",
       "      <th>3</th>\n",
       "      <td>CUS_0xd40</td>\n",
       "      <td>31.377862</td>\n",
       "      <td>No</td>\n",
       "      <td>199.4580743910713</td>\n",
       "      <td>Low_spent_Small_value_payments</td>\n",
       "      <td>223.45130972736786</td>\n",
       "      <td>Good</td>\n",
       "    </tr>\n",
       "    <tr>\n",
       "      <th>4</th>\n",
       "      <td>CUS_0xd40</td>\n",
       "      <td>24.797347</td>\n",
       "      <td>No</td>\n",
       "      <td>41.420153086217326</td>\n",
       "      <td>High_spent_Medium_value_payments</td>\n",
       "      <td>341.48923103222177</td>\n",
       "      <td>Good</td>\n",
       "    </tr>\n",
       "  </tbody>\n",
       "</table>\n",
       "</div>"
      ],
      "text/plain": [
       "  Customer_ID  Credit_Utilization_Ratio Payment_of_Min_Amount  \\\n",
       "0   CUS_0xd40                 26.822620                    No   \n",
       "1   CUS_0xd40                 31.944960                    No   \n",
       "2   CUS_0xd40                 28.609352                    No   \n",
       "3   CUS_0xd40                 31.377862                    No   \n",
       "4   CUS_0xd40                 24.797347                    No   \n",
       "\n",
       "  Amount_invested_monthly                 Payment_Behaviour  \\\n",
       "0       80.41529543900253   High_spent_Small_value_payments   \n",
       "1      118.28022162236736    Low_spent_Large_value_payments   \n",
       "2         81.699521264648   Low_spent_Medium_value_payments   \n",
       "3       199.4580743910713    Low_spent_Small_value_payments   \n",
       "4      41.420153086217326  High_spent_Medium_value_payments   \n",
       "\n",
       "      Monthly_Balance Credit_Score  \n",
       "0  312.49408867943663         Good  \n",
       "1  284.62916249607184         Good  \n",
       "2   331.2098628537912         Good  \n",
       "3  223.45130972736786         Good  \n",
       "4  341.48923103222177         Good  "
      ]
     },
     "execution_count": 116,
     "metadata": {},
     "output_type": "execute_result"
    }
   ],
   "source": [
    "columns_to_use = [\n",
    "    \"Customer_ID\",\n",
    "    \"Credit_Utilization_Ratio\",\n",
    "    \"Payment_of_Min_Amount\",\n",
    "    \"Amount_invested_monthly\",\n",
    "    \"Payment_Behaviour\",\n",
    "    \"Monthly_Balance\",\n",
    "    \"Credit_Score\",\n",
    "]\n",
    "\n",
    "df3 = pd.read_csv(r\"../data/raw_data.csv\", usecols=columns_to_use)\n",
    "\n",
    "df3.head()"
   ]
  },
  {
   "cell_type": "code",
   "execution_count": 117,
   "metadata": {
    "execution": {
     "iopub.execute_input": "2025-04-18T17:20:34.235773Z",
     "iopub.status.busy": "2025-04-18T17:20:34.235376Z",
     "iopub.status.idle": "2025-04-18T17:20:34.241848Z",
     "shell.execute_reply": "2025-04-18T17:20:34.240797Z",
     "shell.execute_reply.started": "2025-04-18T17:20:34.235747Z"
    },
    "trusted": true
   },
   "outputs": [],
   "source": [
    "df3.columns = [column.lower() for column in df3.columns]"
   ]
  },
  {
   "cell_type": "code",
   "execution_count": 118,
   "metadata": {
    "execution": {
     "iopub.execute_input": "2025-04-18T17:20:46.773366Z",
     "iopub.status.busy": "2025-04-18T17:20:46.772415Z",
     "iopub.status.idle": "2025-04-18T17:20:46.815405Z",
     "shell.execute_reply": "2025-04-18T17:20:46.814686Z",
     "shell.execute_reply.started": "2025-04-18T17:20:46.773338Z"
    },
    "trusted": true
   },
   "outputs": [
    {
     "name": "stdout",
     "output_type": "stream",
     "text": [
      "<class 'pandas.core.frame.DataFrame'>\n",
      "RangeIndex: 100000 entries, 0 to 99999\n",
      "Data columns (total 7 columns):\n",
      " #   Column                    Non-Null Count   Dtype  \n",
      "---  ------                    --------------   -----  \n",
      " 0   customer_id               100000 non-null  object \n",
      " 1   credit_utilization_ratio  100000 non-null  float64\n",
      " 2   payment_of_min_amount     100000 non-null  object \n",
      " 3   amount_invested_monthly   95521 non-null   object \n",
      " 4   payment_behaviour         100000 non-null  object \n",
      " 5   monthly_balance           98800 non-null   object \n",
      " 6   credit_score              100000 non-null  object \n",
      "dtypes: float64(1), object(6)\n",
      "memory usage: 5.3+ MB\n"
     ]
    }
   ],
   "source": [
    "df3.info()"
   ]
  },
  {
   "cell_type": "markdown",
   "metadata": {},
   "source": [
    "##### Payment _of_Min_Amount\n",
    "\n"
   ]
  },
  {
   "cell_type": "code",
   "execution_count": 119,
   "metadata": {
    "execution": {
     "iopub.execute_input": "2025-04-18T17:22:23.601654Z",
     "iopub.status.busy": "2025-04-18T17:22:23.601262Z",
     "iopub.status.idle": "2025-04-18T17:22:23.612972Z",
     "shell.execute_reply": "2025-04-18T17:22:23.611813Z",
     "shell.execute_reply.started": "2025-04-18T17:22:23.60163Z"
    },
    "trusted": true
   },
   "outputs": [
    {
     "data": {
      "text/plain": [
       "payment_of_min_amount\n",
       "Yes    52326\n",
       "No     35667\n",
       "NM     12007\n",
       "Name: count, dtype: int64"
      ]
     },
     "execution_count": 119,
     "metadata": {},
     "output_type": "execute_result"
    }
   ],
   "source": [
    "df3.payment_of_min_amount.value_counts(dropna=False)"
   ]
  },
  {
   "cell_type": "code",
   "execution_count": 120,
   "metadata": {
    "execution": {
     "iopub.execute_input": "2025-04-18T17:23:03.416553Z",
     "iopub.status.busy": "2025-04-18T17:23:03.416201Z",
     "iopub.status.idle": "2025-04-18T17:23:03.449225Z",
     "shell.execute_reply": "2025-04-18T17:23:03.448453Z",
     "shell.execute_reply.started": "2025-04-18T17:23:03.416497Z"
    },
    "trusted": true
   },
   "outputs": [
    {
     "data": {
      "text/plain": [
       "False"
      ]
     },
     "execution_count": 120,
     "metadata": {},
     "output_type": "execute_result"
    }
   ],
   "source": [
    "any(df3.groupby(\"customer_id\")[\"payment_of_min_amount\"].nunique() == 3)"
   ]
  },
  {
   "cell_type": "markdown",
   "metadata": {},
   "source": [
    "Không có bất kì customer nào có cả 3 loại là Yes, No, NM"
   ]
  },
  {
   "cell_type": "code",
   "execution_count": 121,
   "metadata": {
    "execution": {
     "iopub.execute_input": "2025-04-18T17:25:04.385304Z",
     "iopub.status.busy": "2025-04-18T17:25:04.384938Z",
     "iopub.status.idle": "2025-04-18T17:25:09.063084Z",
     "shell.execute_reply": "2025-04-18T17:25:09.062222Z",
     "shell.execute_reply.started": "2025-04-18T17:25:04.38528Z"
    },
    "trusted": true
   },
   "outputs": [],
   "source": [
    "#Thay thế giá trị NM bằng gí trị khác.\n",
    "df3[\"payment_of_min_amount\"] = df3.groupby(\n",
    "    \"customer_id\")[\"payment_of_min_amount\"].transform(\n",
    "        lambda x: x.replace(\"NM\", x[x != \"NM\"].iloc[0]))"
   ]
  },
  {
   "cell_type": "code",
   "execution_count": 122,
   "metadata": {
    "execution": {
     "iopub.execute_input": "2025-04-18T17:25:27.702655Z",
     "iopub.status.busy": "2025-04-18T17:25:27.702306Z",
     "iopub.status.idle": "2025-04-18T17:25:27.713596Z",
     "shell.execute_reply": "2025-04-18T17:25:27.712504Z",
     "shell.execute_reply.started": "2025-04-18T17:25:27.702633Z"
    },
    "trusted": true
   },
   "outputs": [
    {
     "data": {
      "text/plain": [
       "payment_of_min_amount\n",
       "Yes    59432\n",
       "No     40568\n",
       "Name: count, dtype: int64"
      ]
     },
     "execution_count": 122,
     "metadata": {},
     "output_type": "execute_result"
    }
   ],
   "source": [
    "df3.payment_of_min_amount.value_counts(dropna=False)"
   ]
  },
  {
   "cell_type": "markdown",
   "metadata": {},
   "source": [
    "##### amount_invested_monthly"
   ]
  },
  {
   "cell_type": "code",
   "execution_count": 123,
   "metadata": {
    "execution": {
     "iopub.execute_input": "2025-04-18T17:27:09.941766Z",
     "iopub.status.busy": "2025-04-18T17:27:09.941386Z",
     "iopub.status.idle": "2025-04-18T17:27:09.990442Z",
     "shell.execute_reply": "2025-04-18T17:27:09.989511Z",
     "shell.execute_reply.started": "2025-04-18T17:27:09.941742Z"
    },
    "trusted": true
   },
   "outputs": [
    {
     "data": {
      "text/plain": [
       "amount_invested_monthly\n",
       "NaN          4479\n",
       "__10000__    4305\n",
       "Name: count, dtype: int64"
      ]
     },
     "execution_count": 123,
     "metadata": {},
     "output_type": "execute_result"
    }
   ],
   "source": [
    "df3[pd.to_numeric(\n",
    "    df3[\"amount_invested_monthly\"],\n",
    "    errors=\"coerce\").isna()][\"amount_invested_monthly\"].value_counts(\n",
    "        dropna=False)"
   ]
  },
  {
   "cell_type": "code",
   "execution_count": 124,
   "metadata": {
    "execution": {
     "iopub.execute_input": "2025-04-18T17:27:21.673575Z",
     "iopub.status.busy": "2025-04-18T17:27:21.673222Z",
     "iopub.status.idle": "2025-04-18T17:27:21.741603Z",
     "shell.execute_reply": "2025-04-18T17:27:21.740715Z",
     "shell.execute_reply.started": "2025-04-18T17:27:21.673545Z"
    },
    "trusted": true
   },
   "outputs": [
    {
     "data": {
      "text/plain": [
       "dtype('float32')"
      ]
     },
     "execution_count": 124,
     "metadata": {},
     "output_type": "execute_result"
    }
   ],
   "source": [
    "df3[\"amount_invested_monthly\"] = df3[\"amount_invested_monthly\"].str.strip(\"_\")\n",
    "df3[\"amount_invested_monthly\"] = pd.to_numeric(df3[\"amount_invested_monthly\"],\n",
    "                                               downcast=\"float\")\n",
    "df3[\"amount_invested_monthly\"].dtype"
   ]
  },
  {
   "cell_type": "code",
   "execution_count": 125,
   "metadata": {
    "execution": {
     "iopub.execute_input": "2025-04-18T17:28:09.404624Z",
     "iopub.status.busy": "2025-04-18T17:28:09.40428Z",
     "iopub.status.idle": "2025-04-18T17:28:09.424614Z",
     "shell.execute_reply": "2025-04-18T17:28:09.423457Z",
     "shell.execute_reply.started": "2025-04-18T17:28:09.404604Z"
    },
    "trusted": true
   },
   "outputs": [
    {
     "data": {
      "text/plain": [
       "amount_invested_monthly\n",
       "NaN             4479\n",
       "10000.000000    4305\n",
       "0.000000         169\n",
       "56.584618          2\n",
       "105.325279         2\n",
       "257.395691         2\n",
       "174.601471         2\n",
       "133.477356         2\n",
       "154.766571         2\n",
       "278.636566         2\n",
       "536.648132         2\n",
       "314.737213         2\n",
       "163.614243         2\n",
       "146.224899         2\n",
       "576.811584         2\n",
       "25.415653          2\n",
       "43.304020          2\n",
       "42.652752          2\n",
       "289.631561         2\n",
       "70.798302          2\n",
       "Name: count, dtype: int64"
      ]
     },
     "execution_count": 125,
     "metadata": {},
     "output_type": "execute_result"
    }
   ],
   "source": [
    "df3.amount_invested_monthly.value_counts(dropna=False).head(20)"
   ]
  },
  {
   "cell_type": "code",
   "execution_count": 126,
   "metadata": {
    "execution": {
     "iopub.execute_input": "2025-04-18T17:28:19.165718Z",
     "iopub.status.busy": "2025-04-18T17:28:19.164726Z",
     "iopub.status.idle": "2025-04-18T17:28:19.917465Z",
     "shell.execute_reply": "2025-04-18T17:28:19.916453Z",
     "shell.execute_reply.started": "2025-04-18T17:28:19.165692Z"
    },
    "trusted": true
   },
   "outputs": [
    {
     "data": {
      "text/plain": [
       "np.int64(0)"
      ]
     },
     "execution_count": 126,
     "metadata": {},
     "output_type": "execute_result"
    }
   ],
   "source": [
    "df3.groupby(\"customer_id\")[\"amount_invested_monthly\"].apply(\n",
    "    lambda x: x.isna().all()).sum()"
   ]
  },
  {
   "cell_type": "code",
   "execution_count": 127,
   "metadata": {
    "execution": {
     "iopub.execute_input": "2025-04-18T17:28:34.178445Z",
     "iopub.status.busy": "2025-04-18T17:28:34.178117Z",
     "iopub.status.idle": "2025-04-18T17:28:37.089205Z",
     "shell.execute_reply": "2025-04-18T17:28:37.088309Z",
     "shell.execute_reply.started": "2025-04-18T17:28:34.178426Z"
    },
    "trusted": true
   },
   "outputs": [
    {
     "name": "stderr",
     "output_type": "stream",
     "text": [
      "/tmp/ipykernel_41511/3995203563.py:3: FutureWarning: Series.fillna with 'method' is deprecated and will raise in a future version. Use obj.ffill() or obj.bfill() instead.\n",
      "  lambda x: x.fillna(method=\"ffill\").fillna(method=\"bfill\"))\n"
     ]
    },
    {
     "data": {
      "text/plain": [
       "np.int64(0)"
      ]
     },
     "execution_count": 127,
     "metadata": {},
     "output_type": "execute_result"
    }
   ],
   "source": [
    "df3[\"amount_invested_monthly\"] = df3.groupby(\n",
    "    \"customer_id\")[\"amount_invested_monthly\"].transform(\n",
    "        lambda x: x.fillna(method=\"ffill\").fillna(method=\"bfill\"))\n",
    "\n",
    "df3[\"amount_invested_monthly\"].isna().sum()"
   ]
  },
  {
   "cell_type": "markdown",
   "metadata": {},
   "source": [
    "##### payment_behaviour"
   ]
  },
  {
   "cell_type": "code",
   "execution_count": 128,
   "metadata": {
    "execution": {
     "iopub.execute_input": "2025-04-18T17:38:55.842718Z",
     "iopub.status.busy": "2025-04-18T17:38:55.842321Z",
     "iopub.status.idle": "2025-04-18T17:38:55.85485Z",
     "shell.execute_reply": "2025-04-18T17:38:55.854015Z",
     "shell.execute_reply.started": "2025-04-18T17:38:55.842692Z"
    },
    "trusted": true
   },
   "outputs": [
    {
     "data": {
      "text/plain": [
       "payment_behaviour\n",
       "Low_spent_Small_value_payments      25513\n",
       "High_spent_Medium_value_payments    17540\n",
       "Low_spent_Medium_value_payments     13861\n",
       "High_spent_Large_value_payments     13721\n",
       "High_spent_Small_value_payments     11340\n",
       "Low_spent_Large_value_payments      10425\n",
       "!@9#%8                               7600\n",
       "Name: count, dtype: int64"
      ]
     },
     "execution_count": 128,
     "metadata": {},
     "output_type": "execute_result"
    }
   ],
   "source": [
    "df3.payment_behaviour.value_counts(dropna=False)"
   ]
  },
  {
   "cell_type": "code",
   "execution_count": 129,
   "metadata": {
    "execution": {
     "iopub.execute_input": "2025-04-18T17:39:37.360329Z",
     "iopub.status.busy": "2025-04-18T17:39:37.360005Z",
     "iopub.status.idle": "2025-04-18T17:39:41.606055Z",
     "shell.execute_reply": "2025-04-18T17:39:41.605165Z",
     "shell.execute_reply.started": "2025-04-18T17:39:37.360305Z"
    },
    "trusted": true
   },
   "outputs": [
    {
     "name": "stderr",
     "output_type": "stream",
     "text": [
      "/tmp/ipykernel_41511/4055591406.py:5: FutureWarning: Series.fillna with 'method' is deprecated and will raise in a future version. Use obj.ffill() or obj.bfill() instead.\n",
      "  lambda x: x.fillna(method=\"ffill\").fillna(method=\"bfill\"))\n"
     ]
    },
    {
     "data": {
      "text/plain": [
       "np.int64(0)"
      ]
     },
     "execution_count": 129,
     "metadata": {},
     "output_type": "execute_result"
    }
   ],
   "source": [
    "df3.loc[(df3[\"payment_behaviour\"] == \"!@9#%8\"), \"payment_behaviour\"] = np.nan\n",
    "\n",
    "df3[\"payment_behaviour\"] = df3.groupby(\n",
    "    \"customer_id\")[\"payment_behaviour\"].transform(\n",
    "        lambda x: x.fillna(method=\"ffill\").fillna(method=\"bfill\"))\n",
    "\n",
    "df3[\"payment_behaviour\"].isna().sum()"
   ]
  },
  {
   "cell_type": "markdown",
   "metadata": {},
   "source": [
    "##### monthly_balance"
   ]
  },
  {
   "cell_type": "code",
   "execution_count": 130,
   "metadata": {
    "execution": {
     "iopub.execute_input": "2025-04-18T17:40:58.071553Z",
     "iopub.status.busy": "2025-04-18T17:40:58.071182Z",
     "iopub.status.idle": "2025-04-18T17:40:58.148835Z",
     "shell.execute_reply": "2025-04-18T17:40:58.148125Z",
     "shell.execute_reply.started": "2025-04-18T17:40:58.071515Z"
    },
    "trusted": true
   },
   "outputs": [
    {
     "data": {
      "text/plain": [
       "monthly_balance\n",
       "NaN                                 1200\n",
       "__-333333333333333333333333333__       9\n",
       "254.9709216273975                      1\n",
       "250.0931678204641                      1\n",
       "289.7550752754317                      1\n",
       "                                    ... \n",
       "278.8720257394474                      1\n",
       "376.7024623690405                      1\n",
       "321.2336043357731                      1\n",
       "373.29270287694055                     1\n",
       "336.6371802877606                      1\n",
       "Name: count, Length: 98793, dtype: int64"
      ]
     },
     "execution_count": 130,
     "metadata": {},
     "output_type": "execute_result"
    }
   ],
   "source": [
    "df3.monthly_balance.value_counts(dropna=False)\n"
   ]
  },
  {
   "cell_type": "code",
   "execution_count": 131,
   "metadata": {
    "execution": {
     "iopub.execute_input": "2025-04-18T17:41:20.976121Z",
     "iopub.status.busy": "2025-04-18T17:41:20.975823Z",
     "iopub.status.idle": "2025-04-18T17:41:21.017259Z",
     "shell.execute_reply": "2025-04-18T17:41:21.016308Z",
     "shell.execute_reply.started": "2025-04-18T17:41:20.976098Z"
    },
    "trusted": true
   },
   "outputs": [
    {
     "data": {
      "text/plain": [
       "monthly_balance\n",
       "NaN                                 1200\n",
       "__-333333333333333333333333333__       9\n",
       "Name: count, dtype: int64"
      ]
     },
     "execution_count": 131,
     "metadata": {},
     "output_type": "execute_result"
    }
   ],
   "source": [
    "df3[pd.to_numeric(\n",
    "    df3[\"monthly_balance\"],\n",
    "    errors=\"coerce\").isna()][\"monthly_balance\"].value_counts(dropna=False)"
   ]
  },
  {
   "cell_type": "code",
   "execution_count": 132,
   "metadata": {
    "execution": {
     "iopub.execute_input": "2025-04-18T17:42:47.99477Z",
     "iopub.status.busy": "2025-04-18T17:42:47.994041Z",
     "iopub.status.idle": "2025-04-18T17:42:48.032456Z",
     "shell.execute_reply": "2025-04-18T17:42:48.031468Z",
     "shell.execute_reply.started": "2025-04-18T17:42:47.99474Z"
    },
    "trusted": true
   },
   "outputs": [],
   "source": [
    "df3['monthly_balance'] = df3['monthly_balance'].apply(\n",
    "    lambda x: x.replace('_', '').replace('-', '') if isinstance(x, str) else x)"
   ]
  },
  {
   "cell_type": "code",
   "execution_count": 133,
   "metadata": {
    "execution": {
     "iopub.execute_input": "2025-04-18T17:42:58.50487Z",
     "iopub.status.busy": "2025-04-18T17:42:58.504041Z",
     "iopub.status.idle": "2025-04-18T17:42:58.547876Z",
     "shell.execute_reply": "2025-04-18T17:42:58.547128Z",
     "shell.execute_reply.started": "2025-04-18T17:42:58.504841Z"
    },
    "trusted": true
   },
   "outputs": [
    {
     "data": {
      "text/plain": [
       "dtype('float64')"
      ]
     },
     "execution_count": 133,
     "metadata": {},
     "output_type": "execute_result"
    }
   ],
   "source": [
    "df3[\"monthly_balance\"] = df3[\"monthly_balance\"].astype('float')\n",
    "\n",
    "df3[\"monthly_balance\"].dtype"
   ]
  },
  {
   "cell_type": "code",
   "execution_count": 134,
   "metadata": {
    "execution": {
     "iopub.execute_input": "2025-04-18T17:43:25.812509Z",
     "iopub.status.busy": "2025-04-18T17:43:25.812187Z",
     "iopub.status.idle": "2025-04-18T17:43:25.825758Z",
     "shell.execute_reply": "2025-04-18T17:43:25.824841Z",
     "shell.execute_reply.started": "2025-04-18T17:43:25.812486Z"
    },
    "trusted": true
   },
   "outputs": [
    {
     "data": {
      "text/plain": [
       "5545     3.333333e+26\n",
       "26177    3.333333e+26\n",
       "29158    3.333333e+26\n",
       "35570    3.333333e+26\n",
       "38622    3.333333e+26\n",
       "60009    3.333333e+26\n",
       "75251    3.333333e+26\n",
       "82918    3.333333e+26\n",
       "83255    3.333333e+26\n",
       "9376     1.602041e+03\n",
       "Name: monthly_balance, dtype: float64"
      ]
     },
     "execution_count": 134,
     "metadata": {},
     "output_type": "execute_result"
    }
   ],
   "source": [
    "df3[\"monthly_balance\"].nlargest(10)"
   ]
  },
  {
   "cell_type": "code",
   "execution_count": 135,
   "metadata": {
    "execution": {
     "iopub.execute_input": "2025-04-18T17:44:05.971125Z",
     "iopub.status.busy": "2025-04-18T17:44:05.97079Z",
     "iopub.status.idle": "2025-04-18T17:44:05.999624Z",
     "shell.execute_reply": "2025-04-18T17:44:05.998649Z",
     "shell.execute_reply.started": "2025-04-18T17:44:05.971102Z"
    },
    "trusted": true
   },
   "outputs": [
    {
     "data": {
      "text/html": [
       "<div>\n",
       "<style scoped>\n",
       "    .dataframe tbody tr th:only-of-type {\n",
       "        vertical-align: middle;\n",
       "    }\n",
       "\n",
       "    .dataframe tbody tr th {\n",
       "        vertical-align: top;\n",
       "    }\n",
       "\n",
       "    .dataframe thead th {\n",
       "        text-align: right;\n",
       "    }\n",
       "</style>\n",
       "<table border=\"1\" class=\"dataframe\">\n",
       "  <thead>\n",
       "    <tr style=\"text-align: right;\">\n",
       "      <th></th>\n",
       "      <th>customer_id</th>\n",
       "      <th>credit_utilization_ratio</th>\n",
       "      <th>payment_of_min_amount</th>\n",
       "      <th>amount_invested_monthly</th>\n",
       "      <th>payment_behaviour</th>\n",
       "      <th>monthly_balance</th>\n",
       "      <th>credit_score</th>\n",
       "    </tr>\n",
       "  </thead>\n",
       "  <tbody>\n",
       "    <tr>\n",
       "      <th>5544</th>\n",
       "      <td>CUS_0x9885</td>\n",
       "      <td>30.909275</td>\n",
       "      <td>Yes</td>\n",
       "      <td>47.145535</td>\n",
       "      <td>Low_spent_Medium_value_payments</td>\n",
       "      <td>4.233968e+02</td>\n",
       "      <td>Standard</td>\n",
       "    </tr>\n",
       "    <tr>\n",
       "      <th>5545</th>\n",
       "      <td>CUS_0x9885</td>\n",
       "      <td>34.826541</td>\n",
       "      <td>Yes</td>\n",
       "      <td>201.142990</td>\n",
       "      <td>Low_spent_Medium_value_payments</td>\n",
       "      <td>3.333333e+26</td>\n",
       "      <td>Standard</td>\n",
       "    </tr>\n",
       "    <tr>\n",
       "      <th>5546</th>\n",
       "      <td>CUS_0x9885</td>\n",
       "      <td>38.450201</td>\n",
       "      <td>Yes</td>\n",
       "      <td>232.130783</td>\n",
       "      <td>Low_spent_Small_value_payments</td>\n",
       "      <td>2.784116e+02</td>\n",
       "      <td>Standard</td>\n",
       "    </tr>\n",
       "    <tr>\n",
       "      <th>5547</th>\n",
       "      <td>CUS_0x9885</td>\n",
       "      <td>27.084247</td>\n",
       "      <td>Yes</td>\n",
       "      <td>49.985435</td>\n",
       "      <td>High_spent_Medium_value_payments</td>\n",
       "      <td>4.205569e+02</td>\n",
       "      <td>Standard</td>\n",
       "    </tr>\n",
       "    <tr>\n",
       "      <th>5548</th>\n",
       "      <td>CUS_0x9885</td>\n",
       "      <td>40.206154</td>\n",
       "      <td>Yes</td>\n",
       "      <td>439.254486</td>\n",
       "      <td>Low_spent_Small_value_payments</td>\n",
       "      <td>7.128786e+01</td>\n",
       "      <td>Standard</td>\n",
       "    </tr>\n",
       "    <tr>\n",
       "      <th>5549</th>\n",
       "      <td>CUS_0x9885</td>\n",
       "      <td>24.689003</td>\n",
       "      <td>Yes</td>\n",
       "      <td>97.258469</td>\n",
       "      <td>High_spent_Small_value_payments</td>\n",
       "      <td>3.832839e+02</td>\n",
       "      <td>Standard</td>\n",
       "    </tr>\n",
       "    <tr>\n",
       "      <th>5550</th>\n",
       "      <td>CUS_0x9885</td>\n",
       "      <td>31.127866</td>\n",
       "      <td>Yes</td>\n",
       "      <td>251.535309</td>\n",
       "      <td>High_spent_Small_value_payments</td>\n",
       "      <td>2.290070e+02</td>\n",
       "      <td>Standard</td>\n",
       "    </tr>\n",
       "    <tr>\n",
       "      <th>5551</th>\n",
       "      <td>CUS_0x9885</td>\n",
       "      <td>35.211255</td>\n",
       "      <td>Yes</td>\n",
       "      <td>116.511284</td>\n",
       "      <td>High_spent_Small_value_payments</td>\n",
       "      <td>3.740311e+02</td>\n",
       "      <td>Standard</td>\n",
       "    </tr>\n",
       "    <tr>\n",
       "      <th>26176</th>\n",
       "      <td>CUS_0x5a90</td>\n",
       "      <td>36.718433</td>\n",
       "      <td>No</td>\n",
       "      <td>103.349983</td>\n",
       "      <td>High_spent_Medium_value_payments</td>\n",
       "      <td>3.672895e+02</td>\n",
       "      <td>Standard</td>\n",
       "    </tr>\n",
       "    <tr>\n",
       "      <th>26177</th>\n",
       "      <td>CUS_0x5a90</td>\n",
       "      <td>38.198076</td>\n",
       "      <td>No</td>\n",
       "      <td>198.611511</td>\n",
       "      <td>Low_spent_Large_value_payments</td>\n",
       "      <td>3.333333e+26</td>\n",
       "      <td>Good</td>\n",
       "    </tr>\n",
       "    <tr>\n",
       "      <th>26178</th>\n",
       "      <td>CUS_0x5a90</td>\n",
       "      <td>29.586631</td>\n",
       "      <td>No</td>\n",
       "      <td>211.196136</td>\n",
       "      <td>Low_spent_Small_value_payments</td>\n",
       "      <td>2.994433e+02</td>\n",
       "      <td>Good</td>\n",
       "    </tr>\n",
       "    <tr>\n",
       "      <th>26179</th>\n",
       "      <td>CUS_0x5a90</td>\n",
       "      <td>33.256569</td>\n",
       "      <td>No</td>\n",
       "      <td>10000.000000</td>\n",
       "      <td>Low_spent_Small_value_payments</td>\n",
       "      <td>2.697455e+02</td>\n",
       "      <td>Good</td>\n",
       "    </tr>\n",
       "    <tr>\n",
       "      <th>26180</th>\n",
       "      <td>CUS_0x5a90</td>\n",
       "      <td>29.891666</td>\n",
       "      <td>No</td>\n",
       "      <td>27.408165</td>\n",
       "      <td>High_spent_Medium_value_payments</td>\n",
       "      <td>4.432313e+02</td>\n",
       "      <td>Good</td>\n",
       "    </tr>\n",
       "    <tr>\n",
       "      <th>26181</th>\n",
       "      <td>CUS_0x5a90</td>\n",
       "      <td>40.523081</td>\n",
       "      <td>No</td>\n",
       "      <td>81.238823</td>\n",
       "      <td>Low_spent_Medium_value_payments</td>\n",
       "      <td>4.194007e+02</td>\n",
       "      <td>Good</td>\n",
       "    </tr>\n",
       "    <tr>\n",
       "      <th>26182</th>\n",
       "      <td>CUS_0x5a90</td>\n",
       "      <td>39.310459</td>\n",
       "      <td>No</td>\n",
       "      <td>203.985504</td>\n",
       "      <td>Low_spent_Medium_value_payments</td>\n",
       "      <td>2.966540e+02</td>\n",
       "      <td>Standard</td>\n",
       "    </tr>\n",
       "    <tr>\n",
       "      <th>26183</th>\n",
       "      <td>CUS_0x5a90</td>\n",
       "      <td>37.958950</td>\n",
       "      <td>No</td>\n",
       "      <td>268.713562</td>\n",
       "      <td>Low_spent_Small_value_payments</td>\n",
       "      <td>2.419259e+02</td>\n",
       "      <td>Good</td>\n",
       "    </tr>\n",
       "    <tr>\n",
       "      <th>29152</th>\n",
       "      <td>CUS_0x288d</td>\n",
       "      <td>35.828386</td>\n",
       "      <td>No</td>\n",
       "      <td>231.107742</td>\n",
       "      <td>Low_spent_Medium_value_payments</td>\n",
       "      <td>2.624056e+02</td>\n",
       "      <td>Standard</td>\n",
       "    </tr>\n",
       "    <tr>\n",
       "      <th>29153</th>\n",
       "      <td>CUS_0x288d</td>\n",
       "      <td>23.194169</td>\n",
       "      <td>No</td>\n",
       "      <td>299.980164</td>\n",
       "      <td>Low_spent_Small_value_payments</td>\n",
       "      <td>2.035331e+02</td>\n",
       "      <td>Standard</td>\n",
       "    </tr>\n",
       "    <tr>\n",
       "      <th>29154</th>\n",
       "      <td>CUS_0x288d</td>\n",
       "      <td>38.628278</td>\n",
       "      <td>No</td>\n",
       "      <td>180.423096</td>\n",
       "      <td>Low_spent_Medium_value_payments</td>\n",
       "      <td>3.130902e+02</td>\n",
       "      <td>Standard</td>\n",
       "    </tr>\n",
       "    <tr>\n",
       "      <th>29155</th>\n",
       "      <td>CUS_0x288d</td>\n",
       "      <td>27.605675</td>\n",
       "      <td>No</td>\n",
       "      <td>323.409546</td>\n",
       "      <td>Low_spent_Small_value_payments</td>\n",
       "      <td>1.801038e+02</td>\n",
       "      <td>Standard</td>\n",
       "    </tr>\n",
       "  </tbody>\n",
       "</table>\n",
       "</div>"
      ],
      "text/plain": [
       "      customer_id  credit_utilization_ratio payment_of_min_amount  \\\n",
       "5544   CUS_0x9885                 30.909275                   Yes   \n",
       "5545   CUS_0x9885                 34.826541                   Yes   \n",
       "5546   CUS_0x9885                 38.450201                   Yes   \n",
       "5547   CUS_0x9885                 27.084247                   Yes   \n",
       "5548   CUS_0x9885                 40.206154                   Yes   \n",
       "5549   CUS_0x9885                 24.689003                   Yes   \n",
       "5550   CUS_0x9885                 31.127866                   Yes   \n",
       "5551   CUS_0x9885                 35.211255                   Yes   \n",
       "26176  CUS_0x5a90                 36.718433                    No   \n",
       "26177  CUS_0x5a90                 38.198076                    No   \n",
       "26178  CUS_0x5a90                 29.586631                    No   \n",
       "26179  CUS_0x5a90                 33.256569                    No   \n",
       "26180  CUS_0x5a90                 29.891666                    No   \n",
       "26181  CUS_0x5a90                 40.523081                    No   \n",
       "26182  CUS_0x5a90                 39.310459                    No   \n",
       "26183  CUS_0x5a90                 37.958950                    No   \n",
       "29152  CUS_0x288d                 35.828386                    No   \n",
       "29153  CUS_0x288d                 23.194169                    No   \n",
       "29154  CUS_0x288d                 38.628278                    No   \n",
       "29155  CUS_0x288d                 27.605675                    No   \n",
       "\n",
       "       amount_invested_monthly                 payment_behaviour  \\\n",
       "5544                 47.145535   Low_spent_Medium_value_payments   \n",
       "5545                201.142990   Low_spent_Medium_value_payments   \n",
       "5546                232.130783    Low_spent_Small_value_payments   \n",
       "5547                 49.985435  High_spent_Medium_value_payments   \n",
       "5548                439.254486    Low_spent_Small_value_payments   \n",
       "5549                 97.258469   High_spent_Small_value_payments   \n",
       "5550                251.535309   High_spent_Small_value_payments   \n",
       "5551                116.511284   High_spent_Small_value_payments   \n",
       "26176               103.349983  High_spent_Medium_value_payments   \n",
       "26177               198.611511    Low_spent_Large_value_payments   \n",
       "26178               211.196136    Low_spent_Small_value_payments   \n",
       "26179             10000.000000    Low_spent_Small_value_payments   \n",
       "26180                27.408165  High_spent_Medium_value_payments   \n",
       "26181                81.238823   Low_spent_Medium_value_payments   \n",
       "26182               203.985504   Low_spent_Medium_value_payments   \n",
       "26183               268.713562    Low_spent_Small_value_payments   \n",
       "29152               231.107742   Low_spent_Medium_value_payments   \n",
       "29153               299.980164    Low_spent_Small_value_payments   \n",
       "29154               180.423096   Low_spent_Medium_value_payments   \n",
       "29155               323.409546    Low_spent_Small_value_payments   \n",
       "\n",
       "       monthly_balance credit_score  \n",
       "5544      4.233968e+02     Standard  \n",
       "5545      3.333333e+26     Standard  \n",
       "5546      2.784116e+02     Standard  \n",
       "5547      4.205569e+02     Standard  \n",
       "5548      7.128786e+01     Standard  \n",
       "5549      3.832839e+02     Standard  \n",
       "5550      2.290070e+02     Standard  \n",
       "5551      3.740311e+02     Standard  \n",
       "26176     3.672895e+02     Standard  \n",
       "26177     3.333333e+26         Good  \n",
       "26178     2.994433e+02         Good  \n",
       "26179     2.697455e+02         Good  \n",
       "26180     4.432313e+02         Good  \n",
       "26181     4.194007e+02         Good  \n",
       "26182     2.966540e+02     Standard  \n",
       "26183     2.419259e+02         Good  \n",
       "29152     2.624056e+02     Standard  \n",
       "29153     2.035331e+02     Standard  \n",
       "29154     3.130902e+02     Standard  \n",
       "29155     1.801038e+02     Standard  "
      ]
     },
     "execution_count": 135,
     "metadata": {},
     "output_type": "execute_result"
    }
   ],
   "source": [
    "# Filter records with the specified monthly_balance value\n",
    "filtered_df = df3[df3[\"monthly_balance\"] ==\n",
    "                  333333333333333314856026112][\"customer_id\"].unique()\n",
    "\n",
    "df3[df3[\"customer_id\"].isin(filtered_df)].head(20) #filling with mean?"
   ]
  },
  {
   "cell_type": "code",
   "execution_count": 136,
   "metadata": {
    "execution": {
     "iopub.execute_input": "2025-04-18T17:44:23.139316Z",
     "iopub.status.busy": "2025-04-18T17:44:23.138993Z",
     "iopub.status.idle": "2025-04-18T17:44:23.186688Z",
     "shell.execute_reply": "2025-04-18T17:44:23.185862Z",
     "shell.execute_reply.started": "2025-04-18T17:44:23.139293Z"
    },
    "trusted": true
   },
   "outputs": [],
   "source": [
    "mask = df3[\"monthly_balance\"] == 333333333333333314856026112\n",
    "\n",
    "df3.loc[mask, \"monthly_balance\"] = df3.loc[mask, \"customer_id\"].map(\n",
    "    df3[df3[\"monthly_balance\"] != 333333333333333314856026112].groupby(\n",
    "        \"customer_id\")[\"monthly_balance\"].mean())"
   ]
  },
  {
   "cell_type": "code",
   "execution_count": 137,
   "metadata": {
    "execution": {
     "iopub.execute_input": "2025-04-18T17:44:44.33158Z",
     "iopub.status.busy": "2025-04-18T17:44:44.331212Z",
     "iopub.status.idle": "2025-04-18T17:44:46.216577Z",
     "shell.execute_reply": "2025-04-18T17:44:46.215773Z",
     "shell.execute_reply.started": "2025-04-18T17:44:44.331511Z"
    },
    "trusted": true
   },
   "outputs": [],
   "source": [
    "df3[\"monthly_balance\"] = df3.groupby(\n",
    "    \"customer_id\")[\"monthly_balance\"].transform(lambda x: x.fillna(x.mean()))"
   ]
  },
  {
   "cell_type": "code",
   "execution_count": 138,
   "metadata": {
    "execution": {
     "iopub.execute_input": "2025-04-18T17:45:17.079555Z",
     "iopub.status.busy": "2025-04-18T17:45:17.078722Z",
     "iopub.status.idle": "2025-04-18T17:45:17.820629Z",
     "shell.execute_reply": "2025-04-18T17:45:17.819719Z",
     "shell.execute_reply.started": "2025-04-18T17:45:17.079511Z"
    },
    "trusted": true
   },
   "outputs": [
    {
     "data": {
      "text/plain": [
       "np.int64(0)"
      ]
     },
     "execution_count": 138,
     "metadata": {},
     "output_type": "execute_result"
    }
   ],
   "source": [
    "df3.groupby(\"customer_id\")[\"monthly_balance\"].apply(\n",
    "    lambda x: x.isna().all()).sum()"
   ]
  },
  {
   "cell_type": "markdown",
   "metadata": {},
   "source": [
    "### Combining Cleaned Data"
   ]
  },
  {
   "cell_type": "code",
   "execution_count": 139,
   "metadata": {
    "execution": {
     "iopub.execute_input": "2025-04-18T17:47:31.630666Z",
     "iopub.status.busy": "2025-04-18T17:47:31.63026Z",
     "iopub.status.idle": "2025-04-18T17:47:31.796681Z",
     "shell.execute_reply": "2025-04-18T17:47:31.79575Z",
     "shell.execute_reply.started": "2025-04-18T17:47:31.630641Z"
    },
    "trusted": true
   },
   "outputs": [
    {
     "data": {
      "text/html": [
       "<div>\n",
       "<style scoped>\n",
       "    .dataframe tbody tr th:only-of-type {\n",
       "        vertical-align: middle;\n",
       "    }\n",
       "\n",
       "    .dataframe tbody tr th {\n",
       "        vertical-align: top;\n",
       "    }\n",
       "\n",
       "    .dataframe thead th {\n",
       "        text-align: right;\n",
       "    }\n",
       "</style>\n",
       "<table border=\"1\" class=\"dataframe\">\n",
       "  <thead>\n",
       "    <tr style=\"text-align: right;\">\n",
       "      <th></th>\n",
       "      <th>id</th>\n",
       "      <th>customer_id</th>\n",
       "      <th>month</th>\n",
       "      <th>name</th>\n",
       "      <th>age</th>\n",
       "      <th>ssn</th>\n",
       "      <th>occupation</th>\n",
       "      <th>annual_income</th>\n",
       "      <th>monthly_inhand_salary</th>\n",
       "      <th>credit_history_age</th>\n",
       "      <th>...</th>\n",
       "      <th>changed_credit_limit</th>\n",
       "      <th>num_credit_inquiries</th>\n",
       "      <th>credit_mix</th>\n",
       "      <th>outstanding_debt</th>\n",
       "      <th>credit_utilization_ratio</th>\n",
       "      <th>payment_of_min_amount</th>\n",
       "      <th>amount_invested_monthly</th>\n",
       "      <th>payment_behaviour</th>\n",
       "      <th>monthly_balance</th>\n",
       "      <th>credit_score</th>\n",
       "    </tr>\n",
       "  </thead>\n",
       "  <tbody>\n",
       "    <tr>\n",
       "      <th>0</th>\n",
       "      <td>0x1602</td>\n",
       "      <td>CUS_0xd40</td>\n",
       "      <td>January</td>\n",
       "      <td>Aaron Maashoh</td>\n",
       "      <td>23.0</td>\n",
       "      <td>821-00-0265</td>\n",
       "      <td>Scientist</td>\n",
       "      <td>19114.12</td>\n",
       "      <td>1824.843333</td>\n",
       "      <td>89.0</td>\n",
       "      <td>...</td>\n",
       "      <td>11.27</td>\n",
       "      <td>4.0</td>\n",
       "      <td>Good</td>\n",
       "      <td>809.97998</td>\n",
       "      <td>26.822620</td>\n",
       "      <td>No</td>\n",
       "      <td>80.415298</td>\n",
       "      <td>High_spent_Small_value_payments</td>\n",
       "      <td>312.494089</td>\n",
       "      <td>Good</td>\n",
       "    </tr>\n",
       "    <tr>\n",
       "      <th>1</th>\n",
       "      <td>0x1603</td>\n",
       "      <td>CUS_0xd40</td>\n",
       "      <td>February</td>\n",
       "      <td>Aaron Maashoh</td>\n",
       "      <td>23.0</td>\n",
       "      <td>821-00-0265</td>\n",
       "      <td>Scientist</td>\n",
       "      <td>19114.12</td>\n",
       "      <td>1824.843333</td>\n",
       "      <td>90.0</td>\n",
       "      <td>...</td>\n",
       "      <td>11.27</td>\n",
       "      <td>4.0</td>\n",
       "      <td>Good</td>\n",
       "      <td>809.97998</td>\n",
       "      <td>31.944960</td>\n",
       "      <td>No</td>\n",
       "      <td>118.280220</td>\n",
       "      <td>Low_spent_Large_value_payments</td>\n",
       "      <td>284.629162</td>\n",
       "      <td>Good</td>\n",
       "    </tr>\n",
       "    <tr>\n",
       "      <th>2</th>\n",
       "      <td>0x1604</td>\n",
       "      <td>CUS_0xd40</td>\n",
       "      <td>March</td>\n",
       "      <td>Aaron Maashoh</td>\n",
       "      <td>23.0</td>\n",
       "      <td>821-00-0265</td>\n",
       "      <td>Scientist</td>\n",
       "      <td>19114.12</td>\n",
       "      <td>1824.843333</td>\n",
       "      <td>91.0</td>\n",
       "      <td>...</td>\n",
       "      <td>11.27</td>\n",
       "      <td>4.0</td>\n",
       "      <td>Good</td>\n",
       "      <td>809.97998</td>\n",
       "      <td>28.609352</td>\n",
       "      <td>No</td>\n",
       "      <td>81.699524</td>\n",
       "      <td>Low_spent_Medium_value_payments</td>\n",
       "      <td>331.209863</td>\n",
       "      <td>Good</td>\n",
       "    </tr>\n",
       "    <tr>\n",
       "      <th>3</th>\n",
       "      <td>0x1605</td>\n",
       "      <td>CUS_0xd40</td>\n",
       "      <td>April</td>\n",
       "      <td>Aaron Maashoh</td>\n",
       "      <td>23.0</td>\n",
       "      <td>821-00-0265</td>\n",
       "      <td>Scientist</td>\n",
       "      <td>19114.12</td>\n",
       "      <td>1824.843333</td>\n",
       "      <td>92.0</td>\n",
       "      <td>...</td>\n",
       "      <td>6.27</td>\n",
       "      <td>4.0</td>\n",
       "      <td>Good</td>\n",
       "      <td>809.97998</td>\n",
       "      <td>31.377862</td>\n",
       "      <td>No</td>\n",
       "      <td>199.458069</td>\n",
       "      <td>Low_spent_Small_value_payments</td>\n",
       "      <td>223.451310</td>\n",
       "      <td>Good</td>\n",
       "    </tr>\n",
       "    <tr>\n",
       "      <th>4</th>\n",
       "      <td>0x1606</td>\n",
       "      <td>CUS_0xd40</td>\n",
       "      <td>May</td>\n",
       "      <td>Aaron Maashoh</td>\n",
       "      <td>23.0</td>\n",
       "      <td>821-00-0265</td>\n",
       "      <td>Scientist</td>\n",
       "      <td>19114.12</td>\n",
       "      <td>1824.843333</td>\n",
       "      <td>93.0</td>\n",
       "      <td>...</td>\n",
       "      <td>11.27</td>\n",
       "      <td>4.0</td>\n",
       "      <td>Good</td>\n",
       "      <td>809.97998</td>\n",
       "      <td>24.797347</td>\n",
       "      <td>No</td>\n",
       "      <td>41.420155</td>\n",
       "      <td>High_spent_Medium_value_payments</td>\n",
       "      <td>341.489231</td>\n",
       "      <td>Good</td>\n",
       "    </tr>\n",
       "  </tbody>\n",
       "</table>\n",
       "<p>5 rows × 28 columns</p>\n",
       "</div>"
      ],
      "text/plain": [
       "       id customer_id     month           name   age          ssn occupation  \\\n",
       "0  0x1602   CUS_0xd40   January  Aaron Maashoh  23.0  821-00-0265  Scientist   \n",
       "1  0x1603   CUS_0xd40  February  Aaron Maashoh  23.0  821-00-0265  Scientist   \n",
       "2  0x1604   CUS_0xd40     March  Aaron Maashoh  23.0  821-00-0265  Scientist   \n",
       "3  0x1605   CUS_0xd40     April  Aaron Maashoh  23.0  821-00-0265  Scientist   \n",
       "4  0x1606   CUS_0xd40       May  Aaron Maashoh  23.0  821-00-0265  Scientist   \n",
       "\n",
       "   annual_income  monthly_inhand_salary  credit_history_age  ...  \\\n",
       "0       19114.12            1824.843333                89.0  ...   \n",
       "1       19114.12            1824.843333                90.0  ...   \n",
       "2       19114.12            1824.843333                91.0  ...   \n",
       "3       19114.12            1824.843333                92.0  ...   \n",
       "4       19114.12            1824.843333                93.0  ...   \n",
       "\n",
       "   changed_credit_limit  num_credit_inquiries  credit_mix  outstanding_debt  \\\n",
       "0                 11.27                   4.0        Good         809.97998   \n",
       "1                 11.27                   4.0        Good         809.97998   \n",
       "2                 11.27                   4.0        Good         809.97998   \n",
       "3                  6.27                   4.0        Good         809.97998   \n",
       "4                 11.27                   4.0        Good         809.97998   \n",
       "\n",
       "   credit_utilization_ratio payment_of_min_amount  amount_invested_monthly  \\\n",
       "0                 26.822620                    No                80.415298   \n",
       "1                 31.944960                    No               118.280220   \n",
       "2                 28.609352                    No                81.699524   \n",
       "3                 31.377862                    No               199.458069   \n",
       "4                 24.797347                    No                41.420155   \n",
       "\n",
       "                  payment_behaviour  monthly_balance  credit_score  \n",
       "0   High_spent_Small_value_payments       312.494089          Good  \n",
       "1    Low_spent_Large_value_payments       284.629162          Good  \n",
       "2   Low_spent_Medium_value_payments       331.209863          Good  \n",
       "3    Low_spent_Small_value_payments       223.451310          Good  \n",
       "4  High_spent_Medium_value_payments       341.489231          Good  \n",
       "\n",
       "[5 rows x 28 columns]"
      ]
     },
     "execution_count": 139,
     "metadata": {},
     "output_type": "execute_result"
    }
   ],
   "source": [
    "df = df1.join(df2.drop(columns=['customer_id'])).join(\n",
    "    df3.drop(columns=['customer_id']))\n",
    "df = df.loc[:, ~df.columns.duplicated()]\n",
    "\n",
    "df.head()"
   ]
  },
  {
   "cell_type": "code",
   "execution_count": 140,
   "metadata": {
    "execution": {
     "iopub.execute_input": "2025-04-18T17:51:40.536356Z",
     "iopub.status.busy": "2025-04-18T17:51:40.536013Z",
     "iopub.status.idle": "2025-04-18T17:51:40.542479Z",
     "shell.execute_reply": "2025-04-18T17:51:40.541599Z",
     "shell.execute_reply.started": "2025-04-18T17:51:40.536331Z"
    },
    "trusted": true
   },
   "outputs": [
    {
     "data": {
      "text/plain": [
       "(96696, 28)"
      ]
     },
     "execution_count": 140,
     "metadata": {},
     "output_type": "execute_result"
    }
   ],
   "source": [
    "df.shape"
   ]
  },
  {
   "cell_type": "markdown",
   "metadata": {},
   "source": [
    "### Mã hóa dữ liệu có kiểu dữ liệu là object"
   ]
  },
  {
   "cell_type": "code",
   "execution_count": 143,
   "metadata": {},
   "outputs": [],
   "source": [
    "df['credit_score'] = df['credit_score'].map({\n",
    "    \"Good\": 2,\n",
    "    \"Standard\": 1,\n",
    "    \"Poor\": 0,\n",
    "}).astype(int)"
   ]
  },
  {
   "cell_type": "code",
   "execution_count": 144,
   "metadata": {},
   "outputs": [
    {
     "data": {
      "image/png": "[encoded data removed]",
      "text/plain": [
       "<Figure size 1000x800 with 2 Axes>"
      ]
     },
     "metadata": {},
     "output_type": "display_data"
    }
   ],
   "source": [
    "numeric_df = df.select_dtypes(include=\"number\")\n",
    "\n",
    "plt.figure(figsize=(10, 8))\n",
    "\n",
    "correlation_matrix = numeric_df.corr()\n",
    "\n",
    "#Plotting\n",
    "sns.heatmap(correlation_matrix, annot=True, cmap='coolwarm', fmt='.2f')\n",
    "\n",
    "plt.title(\"Correlation Heatmap with Credit Score\")\n",
    "plt.show()"
   ]
  },
  {
   "cell_type": "code",
   "execution_count": 145,
   "metadata": {},
   "outputs": [],
   "source": [
    "# List of unique loan values\n",
    "unique_loan_types = ['Auto Loan', 'Credit-Builder Loan', 'Debt Consolidation Loan', 'Home Equity Loan', 'Mortgage Loan',\n",
    "                     'No Loan', 'Not Specified', 'Payday Loan', 'Personal Loan', 'Student Loan']\n",
    "\n",
    "# Adding a new column for each unique loan type and checking how many times it appears\n",
    "for loan_type in unique_loan_types:\n",
    "    # Replacing '-' and spaces with underscores, converting other characters to lowercase\n",
    "    cleaned_loan_type = loan_type.replace(' ', '_').replace('-', '_').lower()\n",
    "\n",
    "    # Counting how many times the loan_type value appears in each row\n",
    "    df[cleaned_loan_type] = df['type_of_loan'].apply(lambda x: x.count(loan_type))"
   ]
  },
  {
   "cell_type": "code",
   "execution_count": 146,
   "metadata": {},
   "outputs": [],
   "source": [
    "payment_mapping = {\n",
    "    'High_spent_Large_value_payments': 6,#Successfully managing large debts provides the most positive contribution to the credit score.\n",
    "    'High_spent_Medium_value_payments': 5, #Medium-value payments with high spending positively impact the credit score.\n",
    "    'High_spent_Small_value_payments': 4, #Small payments can negatively affect the credit score if debts accumulate over time.\n",
    "    'Low_spent_Large_value_payments': 3, #shows quick financial responsibility, positively affecting the credit score.\n",
    "    'Low_spent_Medium_value_payments': 2, #contributes positively to the credit score by demonstrating debt management.\n",
    "    'Low_spent_Small_value_payments': 1 #may limit the credit history and provide minimal contribution to the credit score\n",
    "}\n",
    "\n",
    "\n",
    "df['payment_behaviour'] = df['payment_behaviour'].map(payment_mapping)\n",
    "\n",
    "df['payment_behaviour'] = pd.to_numeric(df['payment_behaviour'], downcast='integer')"
   ]
  },
  {
   "cell_type": "code",
   "execution_count": 147,
   "metadata": {},
   "outputs": [],
   "source": [
    "# Convert the credit_mix column to numerical values\n",
    "df['credit_mix'] = df['credit_mix'].map({'Good': 2, 'Standard': 1, 'Bad': 0})\n",
    "\n",
    "df['credit_mix'] = pd.to_numeric(df['credit_mix'], downcast='integer')"
   ]
  },
  {
   "cell_type": "code",
   "execution_count": 148,
   "metadata": {},
   "outputs": [],
   "source": [
    "# Convert the payment_of_min_amount column to numerical values\n",
    "df['payment_of_min_amount'] = df['payment_of_min_amount'].map({'Yes': 1, 'No': 0})\n",
    "\n",
    "df['payment_of_min_amount'] = pd.to_numeric(df['payment_of_min_amount'], downcast='integer')"
   ]
  },
  {
   "cell_type": "code",
   "execution_count": 149,
   "metadata": {},
   "outputs": [],
   "source": [
    "df = pd.get_dummies(df, columns=['occupation'], dtype='float')"
   ]
  },
  {
   "cell_type": "code",
   "execution_count": 150,
   "metadata": {},
   "outputs": [],
   "source": [
    "month_map = {\n",
    "    'January': 1,\n",
    "    'February': 2,\n",
    "    'March': 3,\n",
    "    'April': 4,\n",
    "    'May': 5,\n",
    "    'June': 6,\n",
    "    'July': 7,\n",
    "    'August': 8\n",
    "}\n",
    "\n",
    "#Mapping\n",
    "df['month'] = df['month'].map(month_map)\n",
    "\n",
    "df['month'] = pd.to_numeric(df['month'], downcast='integer')"
   ]
  },
  {
   "cell_type": "code",
   "execution_count": 151,
   "metadata": {},
   "outputs": [],
   "source": [
    "df.to_csv('../data/credit_score_cleaned.csv', index=False)"
   ]
  }
 ],
 "metadata": {
  "kaggle": {
   "accelerator": "none",
   "dataSources": [
    {
     "datasetId": 2289007,
     "sourceId": 3846912,
     "sourceType": "datasetVersion"
    },
    {
     "datasetId": 7186502,
     "sourceId": 11467876,
     "sourceType": "datasetVersion"
    }
   ],
   "dockerImageVersionId": 31012,
   "isGpuEnabled": false,
   "isInternetEnabled": true,
   "language": "python",
   "sourceType": "notebook"
  },
  "kernelspec": {
   "display_name": ".venv",
   "language": "python",
   "name": "python3"
  },
  "language_info": {
   "codemirror_mode": {
    "name": "ipython",
    "version": 3
   },
   "file_extension": ".py",
   "mimetype": "text/x-python",
   "name": "python",
   "nbconvert_exporter": "python",
   "pygments_lexer": "ipython3",
   "version": "3.12.7"
  }
 },
 "nbformat": 4,
 "nbformat_minor": 4
}
